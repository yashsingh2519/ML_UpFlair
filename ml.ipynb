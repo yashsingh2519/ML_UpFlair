{
 "cells": [
  {
   "cell_type": "markdown",
   "metadata": {},
   "source": [
    " # access modifier"
   ]
  },
  {
   "cell_type": "code",
   "execution_count": null,
   "metadata": {},
   "outputs": [],
   "source": [
    "class arya:\n",
    "    def __init__(self,name,age,gen):\n",
    "        self.name=name\n",
    "        self._age=age\n",
    "        self.__gen=gen\n",
    "    \n",
    "class ved():\n",
    "    pass\n",
    "\n",
    "o1 = arya(\"yash\",12,\"male\")\n",
    "o2 = ved()\n",
    "print(o2.name)\n",
    "\n",
    "dir(o1)\n"
   ]
  },
  {
   "cell_type": "code",
   "execution_count": null,
   "metadata": {},
   "outputs": [],
   "source": [
    "class Arya:\n",
    "    def __init__(self, name, age):\n",
    "        self.name = name  # Public attribute\n",
    "        self.age = age    # Public attribute\n",
    "    \n",
    "    def display(self):  # Public method\n",
    "        return f\"Name: {self.name}, Age: {self.age}\"\n",
    "\n",
    "# Accessing public members in another class\n",
    "class Ved:\n",
    "    def show(self, obj):\n",
    "        print(f\"Accessing from Ved: {obj.name}, {obj.age}\")\n",
    "\n",
    "# Accessing public members in a function\n",
    "def print_details(obj):\n",
    "    print(f\"Accessing from function: {obj.name}, {obj.age}\")\n",
    "\n",
    "# Creating an object of Arya\n",
    "o1 = Arya(\"Yash\", 20)\n",
    "\n",
    "# Accessing from another class\n",
    "o2 = Ved()\n",
    "o2.show(o1)\n",
    "\n",
    "# Accessing from a function\n",
    "print_details(o1)\n",
    "\n",
    "# Accessing directly\n",
    "print(o1.name)\n",
    "print(o1.age)\n",
    "print(o1.display())\n"
   ]
  },
  {
   "cell_type": "code",
   "execution_count": null,
   "metadata": {},
   "outputs": [],
   "source": [
    "import numpy as np\n",
    "lst= list(range(1,50))\n",
    "arr = np.array(lst)\n",
    "print(type(arr))\n",
    "\n",
    "print(lst)"
   ]
  },
  {
   "cell_type": "code",
   "execution_count": null,
   "metadata": {},
   "outputs": [],
   "source": [
    "\n",
    "\n",
    "arr1= np.array([[[1,2,3],[1,54,6],[3,3,7]],[[1,56,2],[53,75,77],[53,87,54]]])\n",
    "print(arr1)\n",
    "\n",
    "arr3 = np.arange(1,30)\n",
    "arr3"
   ]
  },
  {
   "cell_type": "code",
   "execution_count": null,
   "metadata": {},
   "outputs": [],
   "source": [
    "# 1 - 10 equal distance  5 values and  reshape male it rows and column\n",
    "arr2 = np.linspace(1,10,5).reshape(5,1)\n",
    "arr2"
   ]
  },
  {
   "cell_type": "code",
   "execution_count": null,
   "metadata": {},
   "outputs": [],
   "source": [
    "arr4 = np.arange(0,30).reshape(5,3,2)\n",
    "\n",
    "\n",
    "arr4"
   ]
  },
  {
   "cell_type": "code",
   "execution_count": null,
   "metadata": {},
   "outputs": [],
   "source": [
    "arr5 =[1,2,3,4]\n",
    "arr5.dtype"
   ]
  },
  {
   "cell_type": "code",
   "execution_count": 4,
   "metadata": {},
   "outputs": [
    {
     "name": "stdout",
     "output_type": "stream",
     "text": [
      "2\n",
      "3\n",
      "4\n"
     ]
    }
   ],
   "source": [
    "for i in range(2,5):\n",
    "    print(i)"
   ]
  }
 ],
 "metadata": {
  "kernelspec": {
   "display_name": "venv",
   "language": "python",
   "name": "python3"
  },
  "language_info": {
   "codemirror_mode": {
    "name": "ipython",
    "version": 3
   },
   "file_extension": ".py",
   "mimetype": "text/x-python",
   "name": "python",
   "nbconvert_exporter": "python",
   "pygments_lexer": "ipython3",
   "version": "3.13.0"
  }
 },
 "nbformat": 4,
 "nbformat_minor": 2
}
