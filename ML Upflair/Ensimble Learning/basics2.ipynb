{
 "cells": [
  {
   "cell_type": "code",
   "execution_count": 1,
   "metadata": {},
   "outputs": [],
   "source": [
    "import numpy as np\n",
    "import pandas as pd"
   ]
  },
  {
   "cell_type": "code",
   "execution_count": 2,
   "metadata": {},
   "outputs": [],
   "source": [
    "df=pd.read_csv('Used_Bikes.csv')"
   ]
  },
  {
   "cell_type": "code",
   "execution_count": 3,
   "metadata": {},
   "outputs": [
    {
     "data": {
      "application/vnd.microsoft.datawrangler.viewer.v0+json": {
       "columns": [
        {
         "name": "index",
         "rawType": "int64",
         "type": "integer"
        },
        {
         "name": "bike_name",
         "rawType": "object",
         "type": "string"
        },
        {
         "name": "price",
         "rawType": "float64",
         "type": "float"
        },
        {
         "name": "city",
         "rawType": "object",
         "type": "string"
        },
        {
         "name": "kms_driven",
         "rawType": "float64",
         "type": "float"
        },
        {
         "name": "owner",
         "rawType": "object",
         "type": "string"
        },
        {
         "name": "age",
         "rawType": "float64",
         "type": "float"
        },
        {
         "name": "power",
         "rawType": "float64",
         "type": "float"
        },
        {
         "name": "brand",
         "rawType": "object",
         "type": "string"
        }
       ],
       "conversionMethod": "pd.DataFrame",
       "ref": "752e75af-514d-4273-9f0e-3316424405ab",
       "rows": [
        [
         "0",
         "TVS Star City Plus Dual Tone 110cc",
         "35000.0",
         "Ahmedabad",
         "17654.0",
         "First Owner",
         "3.0",
         "110.0",
         "TVS"
        ],
        [
         "1",
         "Royal Enfield Classic 350cc",
         "119900.0",
         "Delhi",
         "11000.0",
         "First Owner",
         "4.0",
         "350.0",
         "Royal Enfield"
        ],
        [
         "2",
         "Triumph Daytona 675R",
         "600000.0",
         "Delhi",
         "110.0",
         "First Owner",
         "8.0",
         "675.0",
         "Triumph"
        ],
        [
         "3",
         "TVS Apache RTR 180cc",
         "65000.0",
         "Bangalore",
         "16329.0",
         "First Owner",
         "4.0",
         "180.0",
         "TVS"
        ],
        [
         "4",
         "Yamaha FZ S V 2.0 150cc-Ltd. Edition",
         "80000.0",
         "Bangalore",
         "10000.0",
         "First Owner",
         "3.0",
         "150.0",
         "Yamaha"
        ],
        [
         "5",
         "Yamaha FZs 150cc",
         "53499.0",
         "Delhi",
         "25000.0",
         "First Owner",
         "6.0",
         "150.0",
         "Yamaha"
        ],
        [
         "6",
         "Honda CB Hornet 160R  ABS DLX",
         "85000.0",
         "Delhi",
         "8200.0",
         "First Owner",
         "3.0",
         "160.0",
         "Honda"
        ],
        [
         "7",
         "Hero Splendor Plus Self Alloy 100cc",
         "45000.0",
         "Delhi",
         "12645.0",
         "First Owner",
         "3.0",
         "100.0",
         "Hero"
        ],
        [
         "8",
         "Royal Enfield Thunderbird X 350cc",
         "145000.0",
         "Bangalore",
         "9190.0",
         "First Owner",
         "3.0",
         "350.0",
         "Royal Enfield"
        ],
        [
         "9",
         "Royal Enfield Classic Desert Storm 500cc",
         "88000.0",
         "Delhi",
         "19000.0",
         "Second Owner",
         "7.0",
         "500.0",
         "Royal Enfield"
        ],
        [
         "10",
         "Yamaha YZF-R15 2.0 150cc",
         "72000.0",
         "Bangalore",
         "20000.0",
         "First Owner",
         "7.0",
         "150.0",
         "Yamaha"
        ],
        [
         "11",
         "Yamaha FZ25 250cc",
         "95000.0",
         "Bangalore",
         "9665.0",
         "First Owner",
         "4.0",
         "250.0",
         "Yamaha"
        ],
        [
         "12",
         "Bajaj Pulsar NS200",
         "78000.0",
         "Bangalore",
         "9900.0",
         "First Owner",
         "4.0",
         "200.0",
         "Bajaj"
        ],
        [
         "13",
         "Bajaj Discover 100M",
         "29499.0",
         "Delhi",
         "20000.0",
         "First Owner",
         "8.0",
         "100.0",
         "Bajaj"
        ],
        [
         "14",
         "Bajaj Discover 125M",
         "29900.0",
         "Delhi",
         "20000.0",
         "First Owner",
         "7.0",
         "125.0",
         "Bajaj"
        ],
        [
         "15",
         "Bajaj Pulsar NS200 ABS",
         "90000.0",
         "Bangalore",
         "11574.0",
         "First Owner",
         "3.0",
         "200.0",
         "Bajaj"
        ],
        [
         "16",
         "Bajaj Pulsar RS200 ABS",
         "120000.0",
         "Bangalore",
         "23000.0",
         "First Owner",
         "3.0",
         "200.0",
         "Bajaj"
        ],
        [
         "17",
         "Suzuki Gixxer SF 150cc",
         "48000.0",
         "Mumbai",
         "24725.0",
         "First Owner",
         "5.0",
         "150.0",
         "Suzuki"
        ],
        [
         "18",
         "Benelli 302R 300CC",
         "240000.0",
         "Mumbai",
         "15025.0",
         "Second Owner",
         "3.0",
         "302.0",
         "Benelli"
        ],
        [
         "19",
         "Bajaj Discover 125M",
         "29900.0",
         "Delhi",
         "20000.0",
         "First Owner",
         "7.0",
         "125.0",
         "Bajaj"
        ],
        [
         "20",
         "Bajaj Pulsar RS200 ABS",
         "120000.0",
         "Bangalore",
         "23000.0",
         "First Owner",
         "3.0",
         "200.0",
         "Bajaj"
        ],
        [
         "21",
         "Suzuki Gixxer SF 150cc",
         "48000.0",
         "Mumbai",
         "24725.0",
         "First Owner",
         "5.0",
         "150.0",
         "Suzuki"
        ],
        [
         "22",
         "Hero Splendor iSmart Plus IBS 110cc",
         "46500.0",
         "Delhi",
         "3500.0",
         "First Owner",
         "2.0",
         "110.0",
         "Hero"
        ],
        [
         "23",
         "Royal Enfield Classic Chrome 500cc",
         "121700.0",
         "Kalyan",
         "24520.0",
         "First Owner",
         "5.0",
         "500.0",
         "Royal Enfield"
        ],
        [
         "24",
         "Yamaha FZ V 2.0 150cc",
         "45000.0",
         "Delhi",
         "23000.0",
         "First Owner",
         "6.0",
         "150.0",
         "Yamaha"
        ],
        [
         "25",
         "Bajaj Pulsar NS200",
         "78000.0",
         "Bangalore",
         "9900.0",
         "First Owner",
         "4.0",
         "200.0",
         "Bajaj"
        ],
        [
         "26",
         "Hero Super Splendor 125cc",
         "20000.0",
         "Ahmedabad",
         "29305.0",
         "First Owner",
         "16.0",
         "125.0",
         "Hero"
        ],
        [
         "27",
         "Honda CBF Stunner 125cc",
         "20800.0",
         "Faridabad",
         "30500.0",
         "Second Owner",
         "7.0",
         "125.0",
         "Honda"
        ],
        [
         "28",
         "Bajaj Pulsar 150cc",
         "50000.0",
         "Bangalore",
         "19000.0",
         "First Owner",
         "8.0",
         "150.0",
         "Bajaj"
        ],
        [
         "29",
         "Honda X-Blade 160CC ABS",
         "81200.0",
         "Mettur",
         "9100.0",
         "First Owner",
         "2.0",
         "160.0",
         "Honda"
        ],
        [
         "30",
         "Bajaj Pulsar NS200",
         "88000.0",
         "Hyderabad",
         "21914.0",
         "First Owner",
         "3.0",
         "200.0",
         "Bajaj"
        ],
        [
         "31",
         "Yamaha YZF-R15 2.0 150cc",
         "80000.0",
         "Kaithal",
         "20000.0",
         "Second Owner",
         "4.0",
         "150.0",
         "Yamaha"
        ],
        [
         "32",
         "Bajaj Avenger 220cc",
         "40900.0",
         "Gurgaon",
         "15000.0",
         "First Owner",
         "6.0",
         "220.0",
         "Bajaj"
        ],
        [
         "33",
         "KTM RC 390cc",
         "180000.0",
         "Pune",
         "17700.0",
         "First Owner",
         "4.0",
         "390.0",
         "KTM"
        ],
        [
         "34",
         "Honda CB Unicorn 150cc",
         "40000.0",
         "Noida",
         "30000.0",
         "First Owner",
         "8.0",
         "150.0",
         "Honda"
        ],
        [
         "35",
         "KTM Duke 200cc",
         "70000.0",
         "Nashik",
         "100000.0",
         "Second Owner",
         "8.0",
         "200.0",
         "KTM"
        ],
        [
         "36",
         "Royal Enfield Classic 350cc",
         "98800.0",
         "Kochi",
         "39000.0",
         "First Owner",
         "5.0",
         "350.0",
         "Royal Enfield"
        ],
        [
         "37",
         "Honda CBR 150R 150cc",
         "65000.0",
         "Allahabad",
         "43000.0",
         "First Owner",
         "6.0",
         "150.0",
         "Honda"
        ],
        [
         "38",
         "Royal Enfield Thunderbird X 500cc",
         "190500.0",
         "Samastipur",
         "4550.0",
         "First Owner",
         "2.0",
         "500.0",
         "Royal Enfield"
        ],
        [
         "39",
         "KTM RC 200cc ABS",
         "179000.0",
         "Bangalore",
         "3400.0",
         "First Owner",
         "2.0",
         "200.0",
         "KTM"
        ],
        [
         "40",
         "Royal Enfield Thunderbird 350cc",
         "70000.0",
         "Nadiad",
         "45000.0",
         "First Owner",
         "8.0",
         "350.0",
         "Royal Enfield"
        ],
        [
         "41",
         "Bajaj Avenger 220cc",
         "45000.0",
         "Hyderabad",
         "36100.0",
         "First Owner",
         "6.0",
         "220.0",
         "Bajaj"
        ],
        [
         "42",
         "Royal Enfield Bullet Electra 350cc",
         "78000.0",
         "Lucknow",
         "8500.0",
         "First Owner",
         "13.0",
         "350.0",
         "Royal Enfield"
        ],
        [
         "43",
         "Bajaj Avenger Street 220 ABS",
         "110000.0",
         "Bangalore",
         "2550.0",
         "First Owner",
         "2.0",
         "220.0",
         "Bajaj"
        ],
        [
         "44",
         "Royal Enfield Classic 350cc",
         "85000.0",
         "Delhi",
         "18000.0",
         "First Owner",
         "6.0",
         "350.0",
         "Royal Enfield"
        ],
        [
         "45",
         "Bajaj Pulsar NS200",
         "38000.0",
         "Delhi",
         "35000.0",
         "First Owner",
         "9.0",
         "200.0",
         "Bajaj"
        ],
        [
         "46",
         "Royal Enfield Thunderbird 350cc",
         "55346.0",
         "Noida",
         "38000.0",
         "First Owner",
         "10.0",
         "350.0",
         "Royal Enfield"
        ],
        [
         "47",
         "Mahindra Centuro NXT 110cc",
         "28000.0",
         "Jaipur",
         "45000.0",
         "First Owner",
         "2.0",
         "110.0",
         "Mahindra"
        ],
        [
         "48",
         "Hero Hunk 150cc",
         "37000.0",
         "Mumbai",
         "10800.0",
         "First Owner",
         "8.0",
         "150.0",
         "Hero"
        ],
        [
         "49",
         "Suzuki Gixxer SF Fi 150cc SP ABS",
         "97000.0",
         "Delhi",
         "4400.0",
         "First Owner",
         "3.0",
         "150.0",
         "Suzuki"
        ]
       ],
       "shape": {
        "columns": 8,
        "rows": 32648
       }
      },
      "text/html": [
       "<div>\n",
       "<style scoped>\n",
       "    .dataframe tbody tr th:only-of-type {\n",
       "        vertical-align: middle;\n",
       "    }\n",
       "\n",
       "    .dataframe tbody tr th {\n",
       "        vertical-align: top;\n",
       "    }\n",
       "\n",
       "    .dataframe thead th {\n",
       "        text-align: right;\n",
       "    }\n",
       "</style>\n",
       "<table border=\"1\" class=\"dataframe\">\n",
       "  <thead>\n",
       "    <tr style=\"text-align: right;\">\n",
       "      <th></th>\n",
       "      <th>bike_name</th>\n",
       "      <th>price</th>\n",
       "      <th>city</th>\n",
       "      <th>kms_driven</th>\n",
       "      <th>owner</th>\n",
       "      <th>age</th>\n",
       "      <th>power</th>\n",
       "      <th>brand</th>\n",
       "    </tr>\n",
       "  </thead>\n",
       "  <tbody>\n",
       "    <tr>\n",
       "      <th>0</th>\n",
       "      <td>TVS Star City Plus Dual Tone 110cc</td>\n",
       "      <td>35000.0</td>\n",
       "      <td>Ahmedabad</td>\n",
       "      <td>17654.0</td>\n",
       "      <td>First Owner</td>\n",
       "      <td>3.0</td>\n",
       "      <td>110.0</td>\n",
       "      <td>TVS</td>\n",
       "    </tr>\n",
       "    <tr>\n",
       "      <th>1</th>\n",
       "      <td>Royal Enfield Classic 350cc</td>\n",
       "      <td>119900.0</td>\n",
       "      <td>Delhi</td>\n",
       "      <td>11000.0</td>\n",
       "      <td>First Owner</td>\n",
       "      <td>4.0</td>\n",
       "      <td>350.0</td>\n",
       "      <td>Royal Enfield</td>\n",
       "    </tr>\n",
       "    <tr>\n",
       "      <th>2</th>\n",
       "      <td>Triumph Daytona 675R</td>\n",
       "      <td>600000.0</td>\n",
       "      <td>Delhi</td>\n",
       "      <td>110.0</td>\n",
       "      <td>First Owner</td>\n",
       "      <td>8.0</td>\n",
       "      <td>675.0</td>\n",
       "      <td>Triumph</td>\n",
       "    </tr>\n",
       "    <tr>\n",
       "      <th>3</th>\n",
       "      <td>TVS Apache RTR 180cc</td>\n",
       "      <td>65000.0</td>\n",
       "      <td>Bangalore</td>\n",
       "      <td>16329.0</td>\n",
       "      <td>First Owner</td>\n",
       "      <td>4.0</td>\n",
       "      <td>180.0</td>\n",
       "      <td>TVS</td>\n",
       "    </tr>\n",
       "    <tr>\n",
       "      <th>4</th>\n",
       "      <td>Yamaha FZ S V 2.0 150cc-Ltd. Edition</td>\n",
       "      <td>80000.0</td>\n",
       "      <td>Bangalore</td>\n",
       "      <td>10000.0</td>\n",
       "      <td>First Owner</td>\n",
       "      <td>3.0</td>\n",
       "      <td>150.0</td>\n",
       "      <td>Yamaha</td>\n",
       "    </tr>\n",
       "    <tr>\n",
       "      <th>...</th>\n",
       "      <td>...</td>\n",
       "      <td>...</td>\n",
       "      <td>...</td>\n",
       "      <td>...</td>\n",
       "      <td>...</td>\n",
       "      <td>...</td>\n",
       "      <td>...</td>\n",
       "      <td>...</td>\n",
       "    </tr>\n",
       "    <tr>\n",
       "      <th>32643</th>\n",
       "      <td>Hero Passion Pro 100cc</td>\n",
       "      <td>39000.0</td>\n",
       "      <td>Delhi</td>\n",
       "      <td>22000.0</td>\n",
       "      <td>First Owner</td>\n",
       "      <td>4.0</td>\n",
       "      <td>100.0</td>\n",
       "      <td>Hero</td>\n",
       "    </tr>\n",
       "    <tr>\n",
       "      <th>32644</th>\n",
       "      <td>TVS Apache RTR 180cc</td>\n",
       "      <td>30000.0</td>\n",
       "      <td>Karnal</td>\n",
       "      <td>6639.0</td>\n",
       "      <td>First Owner</td>\n",
       "      <td>9.0</td>\n",
       "      <td>180.0</td>\n",
       "      <td>TVS</td>\n",
       "    </tr>\n",
       "    <tr>\n",
       "      <th>32645</th>\n",
       "      <td>Bajaj Avenger Street 220</td>\n",
       "      <td>60000.0</td>\n",
       "      <td>Delhi</td>\n",
       "      <td>20373.0</td>\n",
       "      <td>First Owner</td>\n",
       "      <td>6.0</td>\n",
       "      <td>220.0</td>\n",
       "      <td>Bajaj</td>\n",
       "    </tr>\n",
       "    <tr>\n",
       "      <th>32646</th>\n",
       "      <td>Hero Super Splendor 125cc</td>\n",
       "      <td>15600.0</td>\n",
       "      <td>Jaipur</td>\n",
       "      <td>84186.0</td>\n",
       "      <td>First Owner</td>\n",
       "      <td>16.0</td>\n",
       "      <td>125.0</td>\n",
       "      <td>Hero</td>\n",
       "    </tr>\n",
       "    <tr>\n",
       "      <th>32647</th>\n",
       "      <td>Bajaj Pulsar 150cc</td>\n",
       "      <td>22000.0</td>\n",
       "      <td>Pune</td>\n",
       "      <td>60857.0</td>\n",
       "      <td>First Owner</td>\n",
       "      <td>13.0</td>\n",
       "      <td>150.0</td>\n",
       "      <td>Bajaj</td>\n",
       "    </tr>\n",
       "  </tbody>\n",
       "</table>\n",
       "<p>32648 rows × 8 columns</p>\n",
       "</div>"
      ],
      "text/plain": [
       "                                  bike_name     price       city  kms_driven  \\\n",
       "0        TVS Star City Plus Dual Tone 110cc   35000.0  Ahmedabad     17654.0   \n",
       "1               Royal Enfield Classic 350cc  119900.0      Delhi     11000.0   \n",
       "2                      Triumph Daytona 675R  600000.0      Delhi       110.0   \n",
       "3                      TVS Apache RTR 180cc   65000.0  Bangalore     16329.0   \n",
       "4      Yamaha FZ S V 2.0 150cc-Ltd. Edition   80000.0  Bangalore     10000.0   \n",
       "...                                     ...       ...        ...         ...   \n",
       "32643                Hero Passion Pro 100cc   39000.0      Delhi     22000.0   \n",
       "32644                  TVS Apache RTR 180cc   30000.0     Karnal      6639.0   \n",
       "32645              Bajaj Avenger Street 220   60000.0      Delhi     20373.0   \n",
       "32646             Hero Super Splendor 125cc   15600.0     Jaipur     84186.0   \n",
       "32647                    Bajaj Pulsar 150cc   22000.0       Pune     60857.0   \n",
       "\n",
       "             owner   age  power          brand  \n",
       "0      First Owner   3.0  110.0            TVS  \n",
       "1      First Owner   4.0  350.0  Royal Enfield  \n",
       "2      First Owner   8.0  675.0        Triumph  \n",
       "3      First Owner   4.0  180.0            TVS  \n",
       "4      First Owner   3.0  150.0         Yamaha  \n",
       "...            ...   ...    ...            ...  \n",
       "32643  First Owner   4.0  100.0           Hero  \n",
       "32644  First Owner   9.0  180.0            TVS  \n",
       "32645  First Owner   6.0  220.0          Bajaj  \n",
       "32646  First Owner  16.0  125.0           Hero  \n",
       "32647  First Owner  13.0  150.0          Bajaj  \n",
       "\n",
       "[32648 rows x 8 columns]"
      ]
     },
     "execution_count": 3,
     "metadata": {},
     "output_type": "execute_result"
    }
   ],
   "source": [
    "df"
   ]
  },
  {
   "cell_type": "code",
   "execution_count": 4,
   "metadata": {},
   "outputs": [
    {
     "data": {
      "text/plain": [
       "0        False\n",
       "1        False\n",
       "2        False\n",
       "3        False\n",
       "4        False\n",
       "         ...  \n",
       "32643     True\n",
       "32644     True\n",
       "32645     True\n",
       "32646     True\n",
       "32647     True\n",
       "Length: 32648, dtype: bool"
      ]
     },
     "execution_count": 4,
     "metadata": {},
     "output_type": "execute_result"
    }
   ],
   "source": [
    "df.duplicated()"
   ]
  },
  {
   "cell_type": "code",
   "execution_count": 5,
   "metadata": {},
   "outputs": [
    {
     "data": {
      "text/plain": [
       "bike_name     0\n",
       "price         0\n",
       "city          0\n",
       "kms_driven    0\n",
       "owner         0\n",
       "age           0\n",
       "power         0\n",
       "brand         0\n",
       "dtype: int64"
      ]
     },
     "execution_count": 5,
     "metadata": {},
     "output_type": "execute_result"
    }
   ],
   "source": [
    "df.isnull().sum()"
   ]
  },
  {
   "cell_type": "code",
   "execution_count": 6,
   "metadata": {},
   "outputs": [],
   "source": [
    "df.drop_duplicates(inplace=True)"
   ]
  },
  {
   "cell_type": "code",
   "execution_count": 7,
   "metadata": {},
   "outputs": [
    {
     "data": {
      "text/plain": [
       "array(['Ahmedabad', 'Delhi', 'Bangalore', 'Mumbai', 'Kalyan', 'Faridabad',\n",
       "       'Mettur', 'Hyderabad', 'Kaithal', 'Gurgaon', 'Pune', 'Noida',\n",
       "       'Nashik', 'Kochi', 'Allahabad', 'Samastipur', 'Nadiad', 'Lucknow',\n",
       "       'Jaipur', 'Karnal', 'Gorakhpur', 'Vidisha', 'Hosur', 'Bagalkot',\n",
       "       'Baripara', 'Agra', 'Dharwad', 'Vadodara', 'Jalandhar', 'Surat',\n",
       "       'Chennai', 'Navi Mumbai', 'Gandhidham', 'Visakhapatnam',\n",
       "       'Thrissur', 'Kolkata', 'Ernakulam', 'Barasat', 'Ghaziabad',\n",
       "       'Bhubaneshwar', 'Amritsar', 'Bhopal', 'Hamirpur(hp)', 'Kottayam',\n",
       "       'Arrah', 'Patiala', 'Ranga Reddy', 'Mandi', 'Ludhiana', 'Mandya',\n",
       "       'Siliguri', 'Aurangabad', 'Kanpur', 'Bhilwara', 'Meerut', 'Rewari',\n",
       "       'Ahmednagar', 'Wardha', 'Chandigarh', 'Ranchi', 'Panvel', 'Thane',\n",
       "       'Jabalpur', 'Kota', 'Rohtak', 'Rajkot', 'Varanasi', '24 Pargana',\n",
       "       'Banka', 'Nagpur', 'Banki', 'Pali', 'Chhatarpur', 'Katihar',\n",
       "       'Mohali', 'Rudrapur', 'Coimbatore', 'Jajpur', 'Mysore', 'Adoni',\n",
       "       'Bikaner', 'Malout', 'Jammu', 'Rajnandgaon', 'Unnao', 'Godhara',\n",
       "       'Kolhapur', 'Satara', 'Siwan', 'Dadra & Nagar Haveli', 'Bhiwani',\n",
       "       'Koppal', 'Nizamabad', 'Madurai', 'Ujjain', 'Palakkad',\n",
       "       'Tiruvallur', 'Panchkula', 'Nanjangud', 'Jhansi', 'Sonipat',\n",
       "       'Puttur', 'Hoshiarpur', 'Gohana', 'Gautam Buddha Nagar',\n",
       "       'Durgapur', 'Palwal', 'Chatrapur', 'Howrah', 'Jind', 'Hubli',\n",
       "       'Panipat', 'Bharatpur', 'Vellore', 'Ambala', 'Guwahati', 'Gangtok',\n",
       "       'Rajahmundry', 'Tiruchirappalli', 'Belgaum', 'Balaghat', 'Jatani',\n",
       "       'Asansol', 'Bilaspur', 'Thanjavur', 'Raigarh(mh)', 'Mandi Dabwali',\n",
       "       'Basti', 'Bolpur', 'Aligarh', 'Balrampur', 'Ratnagiri', 'Muktsar',\n",
       "       'Baran', 'Haldwani', 'Thiruvananthapuram', 'Indore', 'Buxar',\n",
       "       'Chaksu', 'Haridwar', 'Bharuch', 'Muvattupuzha', 'Patna',\n",
       "       'Simdega', 'Singhbhum', 'Bardhaman', 'Pathankot', 'Kharar',\n",
       "       'Silchar', 'Jhalawar', 'Roorkee', 'Saharanpur', 'Solapur',\n",
       "       'Gwalior', 'Alibag', 'Katni', 'Khedbrahma', 'Valsad', 'Satna',\n",
       "       'Hooghly', 'Gurdaspur', 'Dadri', 'Amravati', 'Durg', 'Mehsana',\n",
       "       'Lansdowne', 'Cuttack', 'Jaisalmer', 'Hanumangarh', 'Dungarpur',\n",
       "       'Sri Ganganagar', 'Margao', 'Chinsurah', 'Bhatinda', 'Sibsagar',\n",
       "       'Khalilabad', 'Dehradun', 'Anand', 'Sambalpur', 'Ankleshwar',\n",
       "       'Purnia', 'Tiruverkadu', 'Bahadurgarh', 'Udaipur', 'Jodhpur',\n",
       "       'Sheikhpura', 'Pondicherry', 'Sirsa', 'Godavari', 'Ajmer',\n",
       "       'Moradabad', 'Raipur', 'Navsari', 'Herbertpur', 'Jamshedpur',\n",
       "       'Ramanagar', 'Berhampur', 'Vijayawada', 'Murad Nagar',\n",
       "       'Chandrapur', 'Jamtara', 'Uppidamangalam', 'Nalagarh', 'Una',\n",
       "       'Chakan', 'Idukki', 'Shivpuri', 'Arkalgud', 'Bidar', 'Rupnagar',\n",
       "       'Deoghar', 'Kanchipuram', 'Vapi', 'Medak', 'Kasargode', 'Dhanbad',\n",
       "       'Dakshina Kannada', 'Ganaur', 'Jamalpur', 'Amraoti', 'Mangalore',\n",
       "       'Deolali', 'Gandhinagar', 'Chitradurga', 'Chinchwad', 'Jhajjar',\n",
       "       'Jagdalpur', 'Ranoli', 'Raiwala', 'Guntur', 'Badarpur', 'Adalaj',\n",
       "       'Alipore', 'Bhawani Mandi', 'Mughalsarai', 'Kollam', 'Farukhabad',\n",
       "       'Thiruvallur', 'Udaipurwati', 'Rasra', 'Latur', 'Krishna',\n",
       "       'Gangaikondan', 'Warangal', 'Uluberia', 'Poonamallee', 'Nagaon',\n",
       "       'Hissar', 'Kanyakumari', 'Morbi', 'Bankura', 'Virar', 'Tikamgarh',\n",
       "       'Sultanpur', 'Tirunelveli', 'Bihar Shariff', 'Goa-panaji',\n",
       "       'Ganganagar', 'Kolar', 'Bahadurpur', 'Batala', 'Budhlada',\n",
       "       'Muzaffarnagar', 'Adyar', 'Calicut', 'Raigarh', 'Sonepat',\n",
       "       'Chikkaballapur', 'Kasba', 'Bulandshahr', 'Burdwan', 'Anjar',\n",
       "       'Marandahalli', 'Badaun', 'Namakkal', 'Puri', 'Alwar',\n",
       "       'Surendranagar', 'Khandela', 'Kullu', 'Mohammadabad', 'Sangareddy',\n",
       "       'Ghazipur', 'Shimla', 'Azamgarh', 'Chenani', 'Kanpur Nagar',\n",
       "       'Trivandrum', 'Secunderabad', 'Kurukshetra', 'Dhariawad',\n",
       "       'Bargarh', 'Gadarpur', 'Chikamaglur', 'Karim Nagar', 'Kotdwar',\n",
       "       'Jalaun', 'Parola', 'Bareilly', 'Salem', 'Indi', 'Muzaffarpur',\n",
       "       'Nayagarh', 'Jalgaon', 'Ambikapur', 'Udupi', 'Junagadh',\n",
       "       'Dibrugarh', 'Faridkot', 'Naraingarh', 'Karwar',\n",
       "       'Sant Kabir Nagar', 'Viramgam', 'Manali', 'Gadwal', 'Honavar',\n",
       "       'Mathura', 'Khandwa', 'Solan', 'Sitapur', 'Betul', 'Anantapur',\n",
       "       'Sholapur', 'Pinjore', 'Qadian', 'Sangrur', 'Jorhat', 'Palanpur',\n",
       "       'Narnaul', 'Palamu', 'Falakata', 'Ferozepur', 'Porbandar',\n",
       "       'Dwarka', 'Rangpo', 'Cannanore (kannur)', 'Churu', 'Baghpat',\n",
       "       'Jhumri Tilaiya', 'Naihati', 'Virudhunagar', 'Dharmavaram',\n",
       "       'Darbhanga', 'Nawanshahr', 'Sangli', 'Suri', 'Yamuna Nagar',\n",
       "       'Vasai', 'Aluva', 'Sirsi', 'Bijapur', 'Krishnagar', 'Bhiwadi',\n",
       "       'Bellary', 'Erode', 'Aquem', 'Nellore', 'Udhampur', 'Dhamtari',\n",
       "       'Vandalur', 'Motihari', 'Dharwar', 'Shimoga', 'Jhunjhunu',\n",
       "       'Bijnor', 'Yemmiganur', 'Bokaro', 'Kurnool', 'Srinagar', 'Ranip',\n",
       "       'Davanagere', 'Rajouri', 'Begusarai', 'Goregaon', 'Bally',\n",
       "       'Kachchh', 'Nagaur', 'Anekal', 'Mansa', 'Nanded', 'Dharamasala',\n",
       "       'Chhindwara', 'Jamnagar', 'Zirakpur', 'Abohar', 'Barabanki',\n",
       "       'Nabha', 'Kadapa', 'Perumbavoor', 'Sundargarh', 'Nazira',\n",
       "       'Pratapgarh', 'Dharmapuri', 'Thangadh', 'Lonavala', 'Vizianagaram',\n",
       "       'Kathua', 'Deesa', 'Tiruppur', 'Gadchiroli', 'Gangaghat', 'Bhuj',\n",
       "       'Vastral', 'Phagwara', 'Kheda', 'Swaimadhopur', 'Kharagpur',\n",
       "       'Jobner', 'Gondia', 'Bundi', 'Hamirpur', 'Dongargaon',\n",
       "       'Mubarakpur', 'Tumkur', 'Sanand', 'Kartarpur', 'Bhavnagar',\n",
       "       'Farrukhabad', 'Kadi', 'Seppa', 'Challakere', 'Dhubri', 'Deoria',\n",
       "       'Akot', 'Alappuzha', 'Bhiwandi', 'Shillong', 'Osmanabad', 'Kendua',\n",
       "       'Uran', 'Jaunpur', 'Hisar', 'Bodhan', 'Bhubaneswar', 'Raiganj',\n",
       "       'Bhilai Nagar', 'Baloda', 'Anantnag', 'Berhampore', 'Silvasa',\n",
       "       'Hospet', 'Palai', 'Sidhi'], dtype=object)"
      ]
     },
     "execution_count": 7,
     "metadata": {},
     "output_type": "execute_result"
    }
   ],
   "source": [
    "df['city'].unique()"
   ]
  },
  {
   "cell_type": "code",
   "execution_count": 8,
   "metadata": {},
   "outputs": [
    {
     "data": {
      "text/plain": [
       "array(['TVS Star City Plus Dual Tone 110cc',\n",
       "       'Royal Enfield Classic 350cc', 'Triumph Daytona 675R',\n",
       "       'TVS Apache RTR 180cc', 'Yamaha FZ S V 2.0 150cc-Ltd. Edition',\n",
       "       'Yamaha FZs 150cc', 'Honda CB Hornet 160R  ABS DLX',\n",
       "       'Hero Splendor Plus Self Alloy 100cc',\n",
       "       'Royal Enfield Thunderbird X 350cc',\n",
       "       'Royal Enfield Classic Desert Storm 500cc',\n",
       "       'Yamaha YZF-R15 2.0 150cc', 'Yamaha FZ25 250cc',\n",
       "       'Bajaj Pulsar NS200', 'Bajaj Discover 100M', 'Bajaj Discover 125M',\n",
       "       'Bajaj Pulsar NS200 ABS', 'Bajaj Pulsar RS200 ABS',\n",
       "       'Suzuki Gixxer SF 150cc', 'Benelli 302R 300CC',\n",
       "       'Hero Splendor iSmart Plus IBS 110cc',\n",
       "       'Royal Enfield Classic Chrome 500cc', 'Yamaha FZ V 2.0 150cc',\n",
       "       'Hero Super Splendor 125cc', 'Honda CBF Stunner 125cc',\n",
       "       'Bajaj Pulsar 150cc', 'Honda X-Blade 160CC ABS',\n",
       "       'Bajaj Avenger 220cc', 'KTM RC 390cc', 'Honda CB Unicorn 150cc',\n",
       "       'KTM Duke 200cc', 'Honda CBR 150R 150cc',\n",
       "       'Royal Enfield Thunderbird X 500cc', 'KTM RC 200cc ABS',\n",
       "       'Royal Enfield Thunderbird 350cc',\n",
       "       'Royal Enfield Bullet Electra 350cc',\n",
       "       'Bajaj Avenger Street 220 ABS', 'Mahindra Centuro NXT 110cc',\n",
       "       'Hero Hunk 150cc', 'Suzuki Gixxer SF Fi 150cc SP ABS',\n",
       "       'Yamaha FZ 150cc', 'Royal Enfield\\u200e Bullet 350cc',\n",
       "       'TVS Apache RTR 160cc', 'Honda CB Shine 125cc',\n",
       "       'Benelli TNT 600i ABS', 'Honda Dream Yuga 110cc',\n",
       "       'Yamaha SZ 150cc', 'Suzuki Gixxer 150cc',\n",
       "       'Bajaj Avenger Cruise 220', 'Kawasaki Z900', 'Bajaj Pulsar 220cc',\n",
       "       'Hero CD Deluxe 100cc', 'Kawasaki Ninja 650cc',\n",
       "       'Bajaj Platina 125cc', 'Hero Karizma ZMR 223cc',\n",
       "       'Bajaj Pulsar 180cc', 'Yamaha FZ25 ABS 250cc',\n",
       "       'Bajaj CT 100 100cc', 'Royal Enfield Interceptor 650cc',\n",
       "       'KTM Duke 250cc', 'Royal Enfield Himalayan 410cc',\n",
       "       'Bajaj Pulsar 135LS', 'Bajaj Pulsar 220F', 'Yamaha FZ16 150cc',\n",
       "       'Ducati Scrambler 1100 Special', 'Triumph Street Triple 765',\n",
       "       'Bajaj V15 150cc', 'Suzuki Gixxer Fi 150cc ABS',\n",
       "       'Hero Splendor plus 100cc', 'KTM Duke 390cc', 'Honda CBR 250R',\n",
       "       'Bajaj Pulsar RS200', 'Benelli TNT 600i',\n",
       "       'Suzuki Gixxer 150cc SP Rear Disc', 'Yamaha FZ S V 2.0 150cc',\n",
       "       'Royal Enfield Classic 500cc', 'Hyosung GT650R',\n",
       "       'Yamaha YZF-R15 S 150cc', 'TVS Apache RTR 160 4V Disc',\n",
       "       'Benelli TNT 300', 'Honda CB ShineSP 125cc',\n",
       "       'Hero Passion Pro 100cc', 'Hero Splendor Plus 100cc',\n",
       "       'Yamaha YZF R6 600cc', 'Ducati 1299 Superleggera',\n",
       "       'Royal Enfield Electra 350cc', 'TVS Phoenix Disc 125cc',\n",
       "       'Harley-Davidson Street 750',\n",
       "       'Royal Enfield Himalayan 410cc Fi ABS', 'Bajaj Discover 150cc',\n",
       "       'Bajaj Avenger Street 220', 'Royal Enfield Standard 350cc',\n",
       "       'Honda CB Shine 125cc Disc', 'Honda CB Unicorn ABS 150cc',\n",
       "       'Yamaha YZF-R15 V3 150cc', 'Bajaj Pulsar NS 200',\n",
       "       'Bajaj Dominar 400', 'Honda X-Blade 160cc',\n",
       "       'Suzuki Hayabusa 1300cc', 'Ducati Monster 821 Dark',\n",
       "       'Yamaha FZ S V 2.0 150cc Rear Disc',\n",
       "       'Suzuki Gixxer SF 150cc Special MOTOGP Edition Rear Disc',\n",
       "       'KTM RC 200cc', 'Bajaj Discover 125ST',\n",
       "       'Hero Splendor Plus Kick Alloy 100cc', 'Hero Karizma 223cc',\n",
       "       'Hero Splendor 100cc', 'Ducati 1198 SP 1198cc',\n",
       "       'Royal Enfield Bullet 500cc', 'Yamaha Fazer 150cc',\n",
       "       'Yamaha Gladiator 125cc', 'Hero Karizma R 223cc',\n",
       "       'Harley-Davidson Iron 883', 'TVS Apache RTR 200 4V Fi',\n",
       "       'TVS Apache RTR 160 4V DISC ABS BS6', 'Bajaj Dominar 400 ABS',\n",
       "       'Royal Enfield Classic Gunmetal Grey 350cc',\n",
       "       'Hero HF Deluxe i3s iBS 100cc', 'Suzuki Gixxer SF Fi 150cc ABS',\n",
       "       'Hero Splendor iSmart 110cc', 'Bajaj Platina 100cc',\n",
       "       'TVS Apache RTR 200 4V FI', 'Royal Enfield Bullet Twinspark 350cc',\n",
       "       'TVS Star City 110cc', 'Bajaj Platina  Alloy ES-100cc',\n",
       "       'Ducati Panigale 959',\n",
       "       'Royal Enfield Classic 350cc-Redditch Edition', 'TVS Sport 100cc',\n",
       "       'Bajaj Pulsar AS200',\n",
       "       'Royal Enfield Classic Desert Storm 500cc Dual Disc',\n",
       "       'Honda Livo 110cc', 'Suzuki Gixxer SF 150cc SP Rear Disc',\n",
       "       'Yamaha SZ-RR 150cc', 'Royal Enfield Thunderbird 500cc',\n",
       "       'Royal Enfield Bullet Electra Twinspark 350cc',\n",
       "       'Bajaj Discover 150F Disc',\n",
       "       'Yamaha Saluto 125cc Disc Special Edition',\n",
       "       'Triumph Street Triple ABS 675cc', 'Honda CBR 250R ABS',\n",
       "       'Hyosung Aquila GV250', 'Jawa Forty Two 295CC', 'Bajaj V12 125cc',\n",
       "       'Bajaj V12 125cc Disc', 'Yamaha Fazer 25 250cc',\n",
       "       'Hero Xpulse 200T', 'Honda CB Hornet 160R CBS',\n",
       "       'Suzuki Gixxer 150cc SP ABS', 'Hero Passion Xpro 110cc',\n",
       "       'Yamaha YZF-R3 320cc ABS', 'Royal Enfield Bullet 350 cc',\n",
       "       'Hero HF Deluxe 100cc', 'Honda CB Twister 110cc',\n",
       "       'Bajaj Pulsar 125cc Disc CBS', 'Honda CB Shine 125cc Drum BS6',\n",
       "       'Honda CB Hornet 160R STD', 'Honda Dream Neo 110cc', 'BMW G 310 R',\n",
       "       'Bajaj Pulsar AS150', 'Kawasaki Ninja 250cc', 'Benelli TNT 899',\n",
       "       'Indian Chief Classic 1800cc', 'Hero Achiever 150cc',\n",
       "       'TVS Apache 150cc', 'Kawasaki ER-6n 650cc',\n",
       "       'Hero HF Deluxe Self 100cc', 'Bajaj Pulsar NS160',\n",
       "       'Royal Enfield Classic Gunmetal Grey 350cc ABS',\n",
       "       'Suzuki Intruder 150cc', 'TVS Apache RTR 200 4V ABS Race Edition',\n",
       "       'Bajaj CT 100 B', 'Hero Passion Pro 110cc Drum',\n",
       "       'Yamaha YZF-R15 150cc', 'TVS Apache RTR 160 4V DISC ABS',\n",
       "       'Mahindra Mojo 300cc', 'TVS Apache RTR 200 4V Carburetor',\n",
       "       'Hero Ignitor Disc 125cc', 'Bajaj Avenger Street 150',\n",
       "       'Royal Enfield Continental GT 535cc', 'Hero Glamour Disc 125cc',\n",
       "       'Suzuki Gixxer SF Fi 150cc', 'Hero HF Dawn 100cc',\n",
       "       'Suzuki Slingshot Plus 125cc', 'Mahindra Centuro Rockstar 110cc',\n",
       "       'Mahindra Centuro 110cc',\n",
       "       'Honda CB Hornet 160R Special Edition STD',\n",
       "       'Harley-Davidson Street Rod XG750A ABS',\n",
       "       'Hero Splendor Plus IBS i3S 100cc', 'Bajaj Discover 135cc',\n",
       "       'Bajaj Discover 125cc', 'TVS Apache RTR 160 4V DRUM ABS',\n",
       "       'Honda CB Unicorn 160 CBS', 'KTM Duke 125cc', 'Bajaj Boxer BM150',\n",
       "       'Hero Glamour 125cc', 'Bajaj Discover 100cc',\n",
       "       'Bajaj Avenger Street 180', 'TVS Star City Plus 110cc',\n",
       "       'Honda CB Trigger 150cc', 'Kawasaki Ninja 650 KRT Edition',\n",
       "       'Bajaj Platina 100cc ComforTec Alloy', 'Benelli TNT R 1130cc',\n",
       "       'Honda CB Unicorn Dazzler 150cc', 'Benelli TNT 600 GT',\n",
       "       'Hyosung GT250R', 'Yamaha YZF-R1 1000cc', 'Hero Xtreme 200R',\n",
       "       'Ducati Diavel 1200cc', 'Triumph Speed Triple 1050cc',\n",
       "       'Indian Scout Bobber 1130cc', 'Bajaj V15 150cc POWER UP',\n",
       "       'Jawa Standard 295CC', 'Yamaha SZR 150cc', 'TVS Star Sport 100cc',\n",
       "       'Hyosung Aquila 250 250cc', 'Kawasaki Z650', 'Hero CD Dawn 100cc',\n",
       "       'TVS Apache RTR 200 4V ABS', 'Hero Passion 100cc',\n",
       "       'Suzuki Intruder SP 150cc', 'Yamaha YZF-R3 320cc',\n",
       "       'TVS Apache RR310', 'Hero Passion Plus 100cc',\n",
       "       'Royal Enfield Classic 350cc-Redditch Edition Dual Disc',\n",
       "       'Hero CBZ 150cc', 'Yamaha FZS FI 150cc',\n",
       "       'Honda CB Unicorn 160 STD', 'Suzuki GS 150 R 150cc',\n",
       "       'Royal Enfield Machismo 500cc', 'Hero CBZ Xtreme 150cc',\n",
       "       'Yamaha SZ RR V 2.0 150cc', 'TVS Apache RTR 180cc ABS',\n",
       "       'Hero Honda Splendor 100cc', 'Honda CBR 150R Deluxe',\n",
       "       'Hero Ignitor 125cc', 'Bajaj Pulsar 200cc', 'Kawasaki Ninja 300cc',\n",
       "       'Kawasaki Ninja 300 ABS', 'Bajaj Pulsar 150cc Rear Disc',\n",
       "       'Hero Splendor NXG 100cc', 'Hero Achiever Disc 150cc',\n",
       "       'TVS Apache RTR 200 4V Carburetor Race Edition 2.0',\n",
       "       'Royal Enfield Thunderbird 350cc ABS',\n",
       "       'Harley-Davidson Street 750 ABS',\n",
       "       'Bajaj Pulsar 150cc Rear Disc ABS', 'KTM Duke 250cc ABS',\n",
       "       'Bajaj Pulsar 200 NS 200cc', 'Mahindra Mojo Tourer Edition 300cc',\n",
       "       'Hero Passion Pro i3S Alloy 100cc',\n",
       "       'Royal Enfield Thunderbird X 350cc ABS', 'Hero Xtreme 150cc',\n",
       "       'Bajaj Boxer CT100', 'Royal Enfield Bullet 350cc',\n",
       "       'Royal Enfield Standard 500cc', 'Hyosung Aquila Pro GV650',\n",
       "       'Royal Enfield Classic 500cc Dual Disc', 'Suzuki V-Strom 1000cc',\n",
       "       'KTM RC 125CC', 'Suzuki Gixxer SF 250cc ABS',\n",
       "       'Harley-Davidson 1200 Custom', 'Honda Dream Yuga 110cc CBS',\n",
       "       'Hero Splendor Pro 100cc', 'Suzuki Hayate 110cc',\n",
       "       'Yamaha Fazer FI V 2.0 150cc', 'TVS Victor 110cc Disc',\n",
       "       'Royal Enfield Classic Stealth Black 500cc',\n",
       "       'TVS Apache RTR 200 4V Dual Channel ABS BS6',\n",
       "       'Honda CB Shine 125cc CBS', 'Honda Livo Disc 110cc',\n",
       "       'Bajaj Discover 110cc', 'Suzuki Gixxer SF 150cc ABS',\n",
       "       'Hero CD 100SS', 'Hero Honda Splendor Plus 100cc',\n",
       "       'Bajaj Discover 100T', 'Hero HF Deluxe self Alloy 100cc',\n",
       "       'Benelli TNT 25 250cc', 'Yamaha MT-15 150cc',\n",
       "       'Yamaha FZS FI 150cc Rear Disc',\n",
       "       'TVS Apache RTR 200 4V Carburetor Pirelli Tyres',\n",
       "       'Triumph Tiger 800 XRX', 'Ducati XDiavel 1262CC S',\n",
       "       'TVS Suzuki Shogun 110cc', 'Bajaj Discover 125cc Disc',\n",
       "       'Triumph Thunderbird Storm 1700cc', 'Suzuki GSX-S750',\n",
       "       'TVS Flame 125cc', 'Triumph Tiger 800 XCA',\n",
       "       'Royal Enfield Machismo 350cc', 'TVS Victor 110cc',\n",
       "       'Honda CBR650R', 'Hero Xpulse 200cc FI',\n",
       "       'Hero HF Deluxe i3s 100cc',\n",
       "       'TVS Apache RTR 160cc Matt Red Rear Disc', 'Rajdoot GTX 175cc',\n",
       "       'Hero Xtreme 200R ABS', 'Honda CB Unicorn 160',\n",
       "       'Honda CB Hornet 160R Special Edition-CBS',\n",
       "       'TVS Apache RTR 200 4V Carburetor Pirelli Tyres Race Edition 2.0',\n",
       "       'TVS Apache RR310 Slipper Clutch', 'Mahindra Mojo UT300',\n",
       "       'Royal Enfield Bullet Twinspark Kickstart 350cc',\n",
       "       'Bajaj Pulsar  180cc', 'Honda CD 110 Dream',\n",
       "       'Royal Enfield Bullet Twinspark 500cc',\n",
       "       'Hero Xtreme Sports Rear Disc 150cc', 'Bajaj CT 100 ES Alloy',\n",
       "       'Bajaj  Pulsar 180cc', 'Bajaj Discover 150F', 'Hyosung GT 650N',\n",
       "       'Triumph Street Twin 900cc', 'Bajaj CT 100 Alloy',\n",
       "       'TVS Apache RTR 160 4V Drum',\n",
       "       'Yamaha SZ RR V 2.0 150cc Limited Edition',\n",
       "       'Yamaha YZF-R1M 1000cc', 'Hero Glamour i3s 125cc',\n",
       "       'Harley-Davidson Roadster XL 1200CX', 'Triumph Tiger 800 XR',\n",
       "       'KTM Duke 200cc ABS', 'Honda CBR1000RR Fireblade',\n",
       "       'Honda SP125 Disc BS6', 'Bajaj Platina 110 H Gear Disc',\n",
       "       'Hero Splendor Plus 100 cc', 'Honda CBR 250R Repsol',\n",
       "       'Triumph Bonneville T100 865cc', 'Yamaha RX135 135cc 4-Speed',\n",
       "       'Benelli 302R', 'Hero Splendor iSmart 100cc',\n",
       "       'Royal Enfield Classic 350cc Dual Disc', 'Honda CB 1000R',\n",
       "       'Honda CBR 600RR', 'Ducati Monster 797', 'Ducati Monster 1200',\n",
       "       'Suzuki GSX-R 1000cc', 'Ducati Monster 796 Corse Stripe',\n",
       "       'TVS Victor 110cc Disc SBT', 'Honda CB ShineSP 125cc CBS Disc',\n",
       "       'Kawasaki Z250', 'Royal Enfield Classic Squadron Blue 500cc',\n",
       "       'Suzuki Gixxer 150cc Dual Tone Rear Disc', 'TVS Apache RTR 200 4V',\n",
       "       'Honda Livo Disc 110cc CBS', 'TVS Apache RTR 160cc Rear Disc',\n",
       "       'Yamaha FZ S V 3.0 150cc', 'BMW G 310 GS',\n",
       "       'Royal Enfield Classic 350cc Signals Edition',\n",
       "       'Royal Enfield Bullet Electra Twinspark 350cc Double Disc',\n",
       "       'Honda CB Hornet 160R 160cc STD', 'Suzuki Intruder 150cc FI',\n",
       "       'Bajaj Platina 110 CBS', 'Hero Xtreme Sports 150cc',\n",
       "       'Bajaj Avenger Cruise 220 ABS',\n",
       "       'Honda CB Hornet 160R 160cc STD SP', 'Kawasaki Versys 650cc',\n",
       "       'Ducati Multistrada 1200 Enduro',\n",
       "       'Hero Passion Pro i3S Alloy 100cc IBS', 'Hero Xtreme Sports 149cc',\n",
       "       'TVS Apache RTR 160 4V Carburetor', 'Triumph Thruxton R 1200cc',\n",
       "       'Honda CD 110 Dream DX', 'BMW S 1000 XR Pro',\n",
       "       'Honda CB ShineSP 125cc Disc', 'Hero HF Deluxe Eco 100cc',\n",
       "       'Bajaj XCD 125', 'Honda CB ShineSP 125cc CBS',\n",
       "       'Bajaj CT110 ES Alloy', 'TVS Apache RTR 160 4V FI',\n",
       "       'Triumph Bonneville T100 900cc', 'Bajaj Avenger Street 160 ABS',\n",
       "       'TVS Apache RTR 160cc White Race Edition Rear Disc',\n",
       "       'Royal Enfield Himalayan 410cc Sleet Edition',\n",
       "       'Hero Splendor+ 100cc', 'Suzuki Gixxer SF 150cc Rear Disc',\n",
       "       'TVS Apache RTR 160 4V Carburetor With Rear Disc',\n",
       "       'Suzuki Heat 125cc', 'Honda CB Hornet 160R  ABS STD',\n",
       "       'Yamaha Fazer25 250cc', 'Bajaj Pulsar NS160 Rear Disc',\n",
       "       'Honda CB Hornet 160R', 'Bajaj Discover150 150cc',\n",
       "       'Bajaj Discover 125T', 'Bajaj Pulsar 150cc Classic',\n",
       "       'Yamaha Saluto 125cc', 'Hero Passion XPRO 110 cc',\n",
       "       'Yamaha FZS FI 150cc Special Edition', 'TVS Fiero 150cc',\n",
       "       'Mahindra Mojo XT300', 'Bajaj Platina Alloy ES 100cc',\n",
       "       'TVS Jive 110cc', 'Bajaj Boxer AT100', 'Bajaj Discover 150S Disc',\n",
       "       'TVS Radeon 110cc Drum SBT', 'Honda CD 110 Dream Self',\n",
       "       'Suzuki Gixxer 150cc ABS', 'Suzuki Hayate EP 110cc',\n",
       "       'Yamaha SZX 150cc', 'Hero CBZ Star 160cc',\n",
       "       'Hero Passion PRO  100 cc', 'Hero Passion Pro i3S Disc 100cc',\n",
       "       'Bajaj Avenger 200cc', 'Hero Honda Ambition 135cc',\n",
       "       'Bajaj Pulsar 135LS 135cc', 'Bajaj CT 100 KS Alloy',\n",
       "       'BMW S 1000 RR Pro', 'Kawasaki Versys 1000',\n",
       "       'Honda CB Unicorn 150 150cc', 'Kawasaki Z800',\n",
       "       'Hero Glamour PGM Fi 125cc', 'Royal Enfield Continental GT 650cc',\n",
       "       'LML Freedom DX 110cc', 'Harley-Davidson XG750 750cc',\n",
       "       'Yezdi Classic 250cc', 'Hero Passion Pro 100cc Drum Alloy',\n",
       "       'TVS Star 100cc', 'Bajaj XCD 135', 'Bajaj Avenger 150cc',\n",
       "       'Hero HF Deluxe 100 cc', 'Yamaha Fazer FI 150cc',\n",
       "       'TVS Apache RTR 200 4V FI Race Edition 2.0',\n",
       "       'Yamaha FZ V 3.0 150cc', 'Hero Super Splendor 125cc i3s',\n",
       "       'Yamaha SS 125 125cc',\n",
       "       'Suzuki Gixxer SF 150cc Special MOTOGP Edition',\n",
       "       'TVS Victor GX 110cc', 'TVS Apache RTR 200 4V Race Edition 2.0',\n",
       "       'Hero Passion Pro TR 100cc', 'Honda CBR 650 F',\n",
       "       'Yamaha FZ S V 3.0 150cc ABS Dark Knight BS VI',\n",
       "       'Hero HF Deluxe Self Spoke 100cc', 'TVS Sports plus ES 100cc',\n",
       "       'BMW F750 GS 850cc',\n",
       "       'Royal Enfield Bullet Electra Twinspark 350CC ABS',\n",
       "       'Hero Glamour Fi 125cc', 'Royal Enfield Himalayan 410cc Sleet ABS',\n",
       "       'Bajaj Pulsar NS 200cc', 'Yamaha YBR 110cc', 'Bajaj CT 100 Spoke',\n",
       "       'Yamaha Crux 110cc', 'Yamaha Saluto RX 110cc',\n",
       "       'MV Agusta Brutale 1090', 'Royal Enfield Himalayan 410cc Fi',\n",
       "       'MV Agusta F3 800cc', 'Kawasaki Ninja 400', 'Benelli TRK 502X',\n",
       "       'TVS Phoenix 125cc', 'Harley-Davidson Fat Bob 107 Ci',\n",
       "       'TVS Apache RTR 160cc White Race Edition',\n",
       "       'Ideal Jawa Yezdi CL-II 250 cc', 'Hero Splendor Pro Classic 100cc',\n",
       "       'Yamaha FZ Fi Version 2.0 150cc', 'Yamaha SZS 150cc',\n",
       "       'Triumph Daytona 675 ABS',\n",
       "       'Royal Enfield Classic Chrome 500cc ABS',\n",
       "       'Harley-Davidson Sportster 883', 'Suzuki Zeus 125cc',\n",
       "       'Yamaha Saluto 125cc-Special Edition', 'Bajaj Avenger 180cc',\n",
       "       'Bajaj Pulsar 150cc Neon', 'Kawasaki Z1000',\n",
       "       'Hero CBZ Xtreme 150 cc', 'Kawasaki Vulcan S 650cc',\n",
       "       'Yamaha RX-Z 135cc', 'Yamaha Libero G5 110cc',\n",
       "       'Bajaj Pulsar RS200  ABS-200cc', 'Bajaj Discover150S 150cc',\n",
       "       'Hero i Smart 125cc', 'Hero Splendor Plus  100 cc',\n",
       "       'Hero Splendor Plus 100 CC', 'Hero Karizma 223 cc',\n",
       "       'TVS MAX 4R 110cc', 'Mahindra Pantero 110cc',\n",
       "       'Hero Ambition 135cc', 'Honda CBR 250R Repsol ABS',\n",
       "       'Hero Hunk Rear Disc 150cc'], dtype=object)"
      ]
     },
     "execution_count": 8,
     "metadata": {},
     "output_type": "execute_result"
    }
   ],
   "source": [
    "df['bike_name'].unique()"
   ]
  },
  {
   "cell_type": "code",
   "execution_count": 9,
   "metadata": {},
   "outputs": [
    {
     "data": {
      "text/plain": [
       "array(['TVS', 'Royal Enfield', 'Triumph', 'Yamaha', 'Honda', 'Hero',\n",
       "       'Bajaj', 'Suzuki', 'Benelli', 'KTM', 'Mahindra', 'Kawasaki',\n",
       "       'Ducati', 'Hyosung', 'Harley-Davidson', 'Jawa', 'BMW', 'Indian',\n",
       "       'Rajdoot', 'LML', 'Yezdi', 'MV', 'Ideal'], dtype=object)"
      ]
     },
     "execution_count": 9,
     "metadata": {},
     "output_type": "execute_result"
    }
   ],
   "source": [
    "df['brand'].unique()"
   ]
  },
  {
   "cell_type": "code",
   "execution_count": 10,
   "metadata": {},
   "outputs": [
    {
     "data": {
      "text/plain": [
       "array(['First Owner', 'Second Owner', 'Third Owner',\n",
       "       'Fourth Owner Or More'], dtype=object)"
      ]
     },
     "execution_count": 10,
     "metadata": {},
     "output_type": "execute_result"
    }
   ],
   "source": [
    "df['owner'].unique()"
   ]
  },
  {
   "cell_type": "code",
   "execution_count": 11,
   "metadata": {},
   "outputs": [],
   "source": [
    "df.drop(['bike_name','city'],axis=1,inplace=True)"
   ]
  },
  {
   "cell_type": "code",
   "execution_count": 12,
   "metadata": {},
   "outputs": [
    {
     "data": {
      "application/vnd.microsoft.datawrangler.viewer.v0+json": {
       "columns": [
        {
         "name": "index",
         "rawType": "int64",
         "type": "integer"
        },
        {
         "name": "price",
         "rawType": "float64",
         "type": "float"
        },
        {
         "name": "kms_driven",
         "rawType": "float64",
         "type": "float"
        },
        {
         "name": "owner",
         "rawType": "object",
         "type": "string"
        },
        {
         "name": "age",
         "rawType": "float64",
         "type": "float"
        },
        {
         "name": "power",
         "rawType": "float64",
         "type": "float"
        },
        {
         "name": "brand",
         "rawType": "object",
         "type": "string"
        }
       ],
       "conversionMethod": "pd.DataFrame",
       "ref": "b0b163e3-0dea-43ae-a69e-af9352f922a1",
       "rows": [
        [
         "0",
         "35000.0",
         "17654.0",
         "First Owner",
         "3.0",
         "110.0",
         "TVS"
        ],
        [
         "1",
         "119900.0",
         "11000.0",
         "First Owner",
         "4.0",
         "350.0",
         "Royal Enfield"
        ],
        [
         "2",
         "600000.0",
         "110.0",
         "First Owner",
         "8.0",
         "675.0",
         "Triumph"
        ],
        [
         "3",
         "65000.0",
         "16329.0",
         "First Owner",
         "4.0",
         "180.0",
         "TVS"
        ],
        [
         "4",
         "80000.0",
         "10000.0",
         "First Owner",
         "3.0",
         "150.0",
         "Yamaha"
        ],
        [
         "5",
         "53499.0",
         "25000.0",
         "First Owner",
         "6.0",
         "150.0",
         "Yamaha"
        ],
        [
         "6",
         "85000.0",
         "8200.0",
         "First Owner",
         "3.0",
         "160.0",
         "Honda"
        ],
        [
         "7",
         "45000.0",
         "12645.0",
         "First Owner",
         "3.0",
         "100.0",
         "Hero"
        ],
        [
         "8",
         "145000.0",
         "9190.0",
         "First Owner",
         "3.0",
         "350.0",
         "Royal Enfield"
        ],
        [
         "9",
         "88000.0",
         "19000.0",
         "Second Owner",
         "7.0",
         "500.0",
         "Royal Enfield"
        ],
        [
         "10",
         "72000.0",
         "20000.0",
         "First Owner",
         "7.0",
         "150.0",
         "Yamaha"
        ],
        [
         "11",
         "95000.0",
         "9665.0",
         "First Owner",
         "4.0",
         "250.0",
         "Yamaha"
        ],
        [
         "12",
         "78000.0",
         "9900.0",
         "First Owner",
         "4.0",
         "200.0",
         "Bajaj"
        ],
        [
         "13",
         "29499.0",
         "20000.0",
         "First Owner",
         "8.0",
         "100.0",
         "Bajaj"
        ],
        [
         "14",
         "29900.0",
         "20000.0",
         "First Owner",
         "7.0",
         "125.0",
         "Bajaj"
        ],
        [
         "15",
         "90000.0",
         "11574.0",
         "First Owner",
         "3.0",
         "200.0",
         "Bajaj"
        ],
        [
         "16",
         "120000.0",
         "23000.0",
         "First Owner",
         "3.0",
         "200.0",
         "Bajaj"
        ],
        [
         "17",
         "48000.0",
         "24725.0",
         "First Owner",
         "5.0",
         "150.0",
         "Suzuki"
        ],
        [
         "18",
         "240000.0",
         "15025.0",
         "Second Owner",
         "3.0",
         "302.0",
         "Benelli"
        ],
        [
         "22",
         "46500.0",
         "3500.0",
         "First Owner",
         "2.0",
         "110.0",
         "Hero"
        ],
        [
         "23",
         "121700.0",
         "24520.0",
         "First Owner",
         "5.0",
         "500.0",
         "Royal Enfield"
        ],
        [
         "24",
         "45000.0",
         "23000.0",
         "First Owner",
         "6.0",
         "150.0",
         "Yamaha"
        ],
        [
         "26",
         "20000.0",
         "29305.0",
         "First Owner",
         "16.0",
         "125.0",
         "Hero"
        ],
        [
         "27",
         "20800.0",
         "30500.0",
         "Second Owner",
         "7.0",
         "125.0",
         "Honda"
        ],
        [
         "28",
         "50000.0",
         "19000.0",
         "First Owner",
         "8.0",
         "150.0",
         "Bajaj"
        ],
        [
         "29",
         "81200.0",
         "9100.0",
         "First Owner",
         "2.0",
         "160.0",
         "Honda"
        ],
        [
         "30",
         "88000.0",
         "21914.0",
         "First Owner",
         "3.0",
         "200.0",
         "Bajaj"
        ],
        [
         "31",
         "80000.0",
         "20000.0",
         "Second Owner",
         "4.0",
         "150.0",
         "Yamaha"
        ],
        [
         "32",
         "40900.0",
         "15000.0",
         "First Owner",
         "6.0",
         "220.0",
         "Bajaj"
        ],
        [
         "33",
         "180000.0",
         "17700.0",
         "First Owner",
         "4.0",
         "390.0",
         "KTM"
        ],
        [
         "34",
         "40000.0",
         "30000.0",
         "First Owner",
         "8.0",
         "150.0",
         "Honda"
        ],
        [
         "35",
         "70000.0",
         "100000.0",
         "Second Owner",
         "8.0",
         "200.0",
         "KTM"
        ],
        [
         "36",
         "98800.0",
         "39000.0",
         "First Owner",
         "5.0",
         "350.0",
         "Royal Enfield"
        ],
        [
         "37",
         "65000.0",
         "43000.0",
         "First Owner",
         "6.0",
         "150.0",
         "Honda"
        ],
        [
         "38",
         "190500.0",
         "4550.0",
         "First Owner",
         "2.0",
         "500.0",
         "Royal Enfield"
        ],
        [
         "39",
         "179000.0",
         "3400.0",
         "First Owner",
         "2.0",
         "200.0",
         "KTM"
        ],
        [
         "40",
         "70000.0",
         "45000.0",
         "First Owner",
         "8.0",
         "350.0",
         "Royal Enfield"
        ],
        [
         "41",
         "45000.0",
         "36100.0",
         "First Owner",
         "6.0",
         "220.0",
         "Bajaj"
        ],
        [
         "42",
         "78000.0",
         "8500.0",
         "First Owner",
         "13.0",
         "350.0",
         "Royal Enfield"
        ],
        [
         "43",
         "110000.0",
         "2550.0",
         "First Owner",
         "2.0",
         "220.0",
         "Bajaj"
        ],
        [
         "44",
         "85000.0",
         "18000.0",
         "First Owner",
         "6.0",
         "350.0",
         "Royal Enfield"
        ],
        [
         "45",
         "38000.0",
         "35000.0",
         "First Owner",
         "9.0",
         "200.0",
         "Bajaj"
        ],
        [
         "46",
         "55346.0",
         "38000.0",
         "First Owner",
         "10.0",
         "350.0",
         "Royal Enfield"
        ],
        [
         "47",
         "28000.0",
         "45000.0",
         "First Owner",
         "2.0",
         "110.0",
         "Mahindra"
        ],
        [
         "48",
         "37000.0",
         "10800.0",
         "First Owner",
         "8.0",
         "150.0",
         "Hero"
        ],
        [
         "49",
         "97000.0",
         "4400.0",
         "First Owner",
         "3.0",
         "150.0",
         "Suzuki"
        ],
        [
         "50",
         "40000.0",
         "357000.0",
         "First Owner",
         "8.0",
         "150.0",
         "Yamaha"
        ],
        [
         "51",
         "90000.0",
         "15300.0",
         "First Owner",
         "7.0",
         "350.0",
         "Royal Enfield"
        ],
        [
         "52",
         "60000.0",
         "30000.0",
         "First Owner",
         "5.0",
         "160.0",
         "TVS"
        ],
        [
         "53",
         "21900.0",
         "30000.0",
         "Second Owner",
         "7.0",
         "125.0",
         "Honda"
        ]
       ],
       "shape": {
        "columns": 6,
        "rows": 7324
       }
      },
      "text/html": [
       "<div>\n",
       "<style scoped>\n",
       "    .dataframe tbody tr th:only-of-type {\n",
       "        vertical-align: middle;\n",
       "    }\n",
       "\n",
       "    .dataframe tbody tr th {\n",
       "        vertical-align: top;\n",
       "    }\n",
       "\n",
       "    .dataframe thead th {\n",
       "        text-align: right;\n",
       "    }\n",
       "</style>\n",
       "<table border=\"1\" class=\"dataframe\">\n",
       "  <thead>\n",
       "    <tr style=\"text-align: right;\">\n",
       "      <th></th>\n",
       "      <th>price</th>\n",
       "      <th>kms_driven</th>\n",
       "      <th>owner</th>\n",
       "      <th>age</th>\n",
       "      <th>power</th>\n",
       "      <th>brand</th>\n",
       "    </tr>\n",
       "  </thead>\n",
       "  <tbody>\n",
       "    <tr>\n",
       "      <th>0</th>\n",
       "      <td>35000.0</td>\n",
       "      <td>17654.0</td>\n",
       "      <td>First Owner</td>\n",
       "      <td>3.0</td>\n",
       "      <td>110.0</td>\n",
       "      <td>TVS</td>\n",
       "    </tr>\n",
       "    <tr>\n",
       "      <th>1</th>\n",
       "      <td>119900.0</td>\n",
       "      <td>11000.0</td>\n",
       "      <td>First Owner</td>\n",
       "      <td>4.0</td>\n",
       "      <td>350.0</td>\n",
       "      <td>Royal Enfield</td>\n",
       "    </tr>\n",
       "    <tr>\n",
       "      <th>2</th>\n",
       "      <td>600000.0</td>\n",
       "      <td>110.0</td>\n",
       "      <td>First Owner</td>\n",
       "      <td>8.0</td>\n",
       "      <td>675.0</td>\n",
       "      <td>Triumph</td>\n",
       "    </tr>\n",
       "    <tr>\n",
       "      <th>3</th>\n",
       "      <td>65000.0</td>\n",
       "      <td>16329.0</td>\n",
       "      <td>First Owner</td>\n",
       "      <td>4.0</td>\n",
       "      <td>180.0</td>\n",
       "      <td>TVS</td>\n",
       "    </tr>\n",
       "    <tr>\n",
       "      <th>4</th>\n",
       "      <td>80000.0</td>\n",
       "      <td>10000.0</td>\n",
       "      <td>First Owner</td>\n",
       "      <td>3.0</td>\n",
       "      <td>150.0</td>\n",
       "      <td>Yamaha</td>\n",
       "    </tr>\n",
       "    <tr>\n",
       "      <th>...</th>\n",
       "      <td>...</td>\n",
       "      <td>...</td>\n",
       "      <td>...</td>\n",
       "      <td>...</td>\n",
       "      <td>...</td>\n",
       "      <td>...</td>\n",
       "    </tr>\n",
       "    <tr>\n",
       "      <th>9362</th>\n",
       "      <td>25000.0</td>\n",
       "      <td>48587.0</td>\n",
       "      <td>First Owner</td>\n",
       "      <td>8.0</td>\n",
       "      <td>150.0</td>\n",
       "      <td>Hero</td>\n",
       "    </tr>\n",
       "    <tr>\n",
       "      <th>9369</th>\n",
       "      <td>35000.0</td>\n",
       "      <td>60000.0</td>\n",
       "      <td>First Owner</td>\n",
       "      <td>9.0</td>\n",
       "      <td>220.0</td>\n",
       "      <td>Bajaj</td>\n",
       "    </tr>\n",
       "    <tr>\n",
       "      <th>9370</th>\n",
       "      <td>450000.0</td>\n",
       "      <td>3430.0</td>\n",
       "      <td>First Owner</td>\n",
       "      <td>4.0</td>\n",
       "      <td>750.0</td>\n",
       "      <td>Harley-Davidson</td>\n",
       "    </tr>\n",
       "    <tr>\n",
       "      <th>9371</th>\n",
       "      <td>139000.0</td>\n",
       "      <td>21300.0</td>\n",
       "      <td>First Owner</td>\n",
       "      <td>4.0</td>\n",
       "      <td>400.0</td>\n",
       "      <td>Bajaj</td>\n",
       "    </tr>\n",
       "    <tr>\n",
       "      <th>9372</th>\n",
       "      <td>80000.0</td>\n",
       "      <td>7127.0</td>\n",
       "      <td>First Owner</td>\n",
       "      <td>5.0</td>\n",
       "      <td>220.0</td>\n",
       "      <td>Bajaj</td>\n",
       "    </tr>\n",
       "  </tbody>\n",
       "</table>\n",
       "<p>7324 rows × 6 columns</p>\n",
       "</div>"
      ],
      "text/plain": [
       "         price  kms_driven        owner  age  power            brand\n",
       "0      35000.0     17654.0  First Owner  3.0  110.0              TVS\n",
       "1     119900.0     11000.0  First Owner  4.0  350.0    Royal Enfield\n",
       "2     600000.0       110.0  First Owner  8.0  675.0          Triumph\n",
       "3      65000.0     16329.0  First Owner  4.0  180.0              TVS\n",
       "4      80000.0     10000.0  First Owner  3.0  150.0           Yamaha\n",
       "...        ...         ...          ...  ...    ...              ...\n",
       "9362   25000.0     48587.0  First Owner  8.0  150.0             Hero\n",
       "9369   35000.0     60000.0  First Owner  9.0  220.0            Bajaj\n",
       "9370  450000.0      3430.0  First Owner  4.0  750.0  Harley-Davidson\n",
       "9371  139000.0     21300.0  First Owner  4.0  400.0            Bajaj\n",
       "9372   80000.0      7127.0  First Owner  5.0  220.0            Bajaj\n",
       "\n",
       "[7324 rows x 6 columns]"
      ]
     },
     "execution_count": 12,
     "metadata": {},
     "output_type": "execute_result"
    }
   ],
   "source": [
    "df"
   ]
  },
  {
   "cell_type": "code",
   "execution_count": 13,
   "metadata": {},
   "outputs": [],
   "source": [
    "dt={\n",
    "    'First Owner':1,\n",
    "    'Second Owner':2,\n",
    "    'Third Owner':3,\n",
    "    'Fourth Owner Or More':4\n",
    "}\n",
    "df['owner']=df['owner'].map(dt)"
   ]
  },
  {
   "cell_type": "code",
   "execution_count": 14,
   "metadata": {},
   "outputs": [
    {
     "data": {
      "text/plain": [
       "array([1, 2, 3, 4])"
      ]
     },
     "execution_count": 14,
     "metadata": {},
     "output_type": "execute_result"
    }
   ],
   "source": [
    "df['owner'].unique()"
   ]
  },
  {
   "cell_type": "code",
   "execution_count": 15,
   "metadata": {},
   "outputs": [
    {
     "data": {
      "application/vnd.microsoft.datawrangler.viewer.v0+json": {
       "columns": [
        {
         "name": "index",
         "rawType": "int64",
         "type": "integer"
        },
        {
         "name": "price",
         "rawType": "float64",
         "type": "float"
        },
        {
         "name": "kms_driven",
         "rawType": "float64",
         "type": "float"
        },
        {
         "name": "owner",
         "rawType": "int64",
         "type": "integer"
        },
        {
         "name": "age",
         "rawType": "float64",
         "type": "float"
        },
        {
         "name": "power",
         "rawType": "float64",
         "type": "float"
        },
        {
         "name": "brand",
         "rawType": "object",
         "type": "string"
        }
       ],
       "conversionMethod": "pd.DataFrame",
       "ref": "73177afe-7ada-447d-81f7-c8a6b6beae07",
       "rows": [
        [
         "0",
         "35000.0",
         "17654.0",
         "1",
         "3.0",
         "110.0",
         "TVS"
        ],
        [
         "1",
         "119900.0",
         "11000.0",
         "1",
         "4.0",
         "350.0",
         "Royal Enfield"
        ],
        [
         "2",
         "600000.0",
         "110.0",
         "1",
         "8.0",
         "675.0",
         "Triumph"
        ],
        [
         "3",
         "65000.0",
         "16329.0",
         "1",
         "4.0",
         "180.0",
         "TVS"
        ],
        [
         "4",
         "80000.0",
         "10000.0",
         "1",
         "3.0",
         "150.0",
         "Yamaha"
        ],
        [
         "5",
         "53499.0",
         "25000.0",
         "1",
         "6.0",
         "150.0",
         "Yamaha"
        ],
        [
         "6",
         "85000.0",
         "8200.0",
         "1",
         "3.0",
         "160.0",
         "Honda"
        ],
        [
         "7",
         "45000.0",
         "12645.0",
         "1",
         "3.0",
         "100.0",
         "Hero"
        ],
        [
         "8",
         "145000.0",
         "9190.0",
         "1",
         "3.0",
         "350.0",
         "Royal Enfield"
        ],
        [
         "9",
         "88000.0",
         "19000.0",
         "2",
         "7.0",
         "500.0",
         "Royal Enfield"
        ],
        [
         "10",
         "72000.0",
         "20000.0",
         "1",
         "7.0",
         "150.0",
         "Yamaha"
        ],
        [
         "11",
         "95000.0",
         "9665.0",
         "1",
         "4.0",
         "250.0",
         "Yamaha"
        ],
        [
         "12",
         "78000.0",
         "9900.0",
         "1",
         "4.0",
         "200.0",
         "Bajaj"
        ],
        [
         "13",
         "29499.0",
         "20000.0",
         "1",
         "8.0",
         "100.0",
         "Bajaj"
        ],
        [
         "14",
         "29900.0",
         "20000.0",
         "1",
         "7.0",
         "125.0",
         "Bajaj"
        ],
        [
         "15",
         "90000.0",
         "11574.0",
         "1",
         "3.0",
         "200.0",
         "Bajaj"
        ],
        [
         "16",
         "120000.0",
         "23000.0",
         "1",
         "3.0",
         "200.0",
         "Bajaj"
        ],
        [
         "17",
         "48000.0",
         "24725.0",
         "1",
         "5.0",
         "150.0",
         "Suzuki"
        ],
        [
         "18",
         "240000.0",
         "15025.0",
         "2",
         "3.0",
         "302.0",
         "Benelli"
        ],
        [
         "22",
         "46500.0",
         "3500.0",
         "1",
         "2.0",
         "110.0",
         "Hero"
        ],
        [
         "23",
         "121700.0",
         "24520.0",
         "1",
         "5.0",
         "500.0",
         "Royal Enfield"
        ],
        [
         "24",
         "45000.0",
         "23000.0",
         "1",
         "6.0",
         "150.0",
         "Yamaha"
        ],
        [
         "26",
         "20000.0",
         "29305.0",
         "1",
         "16.0",
         "125.0",
         "Hero"
        ],
        [
         "27",
         "20800.0",
         "30500.0",
         "2",
         "7.0",
         "125.0",
         "Honda"
        ],
        [
         "28",
         "50000.0",
         "19000.0",
         "1",
         "8.0",
         "150.0",
         "Bajaj"
        ],
        [
         "29",
         "81200.0",
         "9100.0",
         "1",
         "2.0",
         "160.0",
         "Honda"
        ],
        [
         "30",
         "88000.0",
         "21914.0",
         "1",
         "3.0",
         "200.0",
         "Bajaj"
        ],
        [
         "31",
         "80000.0",
         "20000.0",
         "2",
         "4.0",
         "150.0",
         "Yamaha"
        ],
        [
         "32",
         "40900.0",
         "15000.0",
         "1",
         "6.0",
         "220.0",
         "Bajaj"
        ],
        [
         "33",
         "180000.0",
         "17700.0",
         "1",
         "4.0",
         "390.0",
         "KTM"
        ],
        [
         "34",
         "40000.0",
         "30000.0",
         "1",
         "8.0",
         "150.0",
         "Honda"
        ],
        [
         "35",
         "70000.0",
         "100000.0",
         "2",
         "8.0",
         "200.0",
         "KTM"
        ],
        [
         "36",
         "98800.0",
         "39000.0",
         "1",
         "5.0",
         "350.0",
         "Royal Enfield"
        ],
        [
         "37",
         "65000.0",
         "43000.0",
         "1",
         "6.0",
         "150.0",
         "Honda"
        ],
        [
         "38",
         "190500.0",
         "4550.0",
         "1",
         "2.0",
         "500.0",
         "Royal Enfield"
        ],
        [
         "39",
         "179000.0",
         "3400.0",
         "1",
         "2.0",
         "200.0",
         "KTM"
        ],
        [
         "40",
         "70000.0",
         "45000.0",
         "1",
         "8.0",
         "350.0",
         "Royal Enfield"
        ],
        [
         "41",
         "45000.0",
         "36100.0",
         "1",
         "6.0",
         "220.0",
         "Bajaj"
        ],
        [
         "42",
         "78000.0",
         "8500.0",
         "1",
         "13.0",
         "350.0",
         "Royal Enfield"
        ],
        [
         "43",
         "110000.0",
         "2550.0",
         "1",
         "2.0",
         "220.0",
         "Bajaj"
        ],
        [
         "44",
         "85000.0",
         "18000.0",
         "1",
         "6.0",
         "350.0",
         "Royal Enfield"
        ],
        [
         "45",
         "38000.0",
         "35000.0",
         "1",
         "9.0",
         "200.0",
         "Bajaj"
        ],
        [
         "46",
         "55346.0",
         "38000.0",
         "1",
         "10.0",
         "350.0",
         "Royal Enfield"
        ],
        [
         "47",
         "28000.0",
         "45000.0",
         "1",
         "2.0",
         "110.0",
         "Mahindra"
        ],
        [
         "48",
         "37000.0",
         "10800.0",
         "1",
         "8.0",
         "150.0",
         "Hero"
        ],
        [
         "49",
         "97000.0",
         "4400.0",
         "1",
         "3.0",
         "150.0",
         "Suzuki"
        ],
        [
         "50",
         "40000.0",
         "357000.0",
         "1",
         "8.0",
         "150.0",
         "Yamaha"
        ],
        [
         "51",
         "90000.0",
         "15300.0",
         "1",
         "7.0",
         "350.0",
         "Royal Enfield"
        ],
        [
         "52",
         "60000.0",
         "30000.0",
         "1",
         "5.0",
         "160.0",
         "TVS"
        ],
        [
         "53",
         "21900.0",
         "30000.0",
         "2",
         "7.0",
         "125.0",
         "Honda"
        ]
       ],
       "shape": {
        "columns": 6,
        "rows": 7324
       }
      },
      "text/html": [
       "<div>\n",
       "<style scoped>\n",
       "    .dataframe tbody tr th:only-of-type {\n",
       "        vertical-align: middle;\n",
       "    }\n",
       "\n",
       "    .dataframe tbody tr th {\n",
       "        vertical-align: top;\n",
       "    }\n",
       "\n",
       "    .dataframe thead th {\n",
       "        text-align: right;\n",
       "    }\n",
       "</style>\n",
       "<table border=\"1\" class=\"dataframe\">\n",
       "  <thead>\n",
       "    <tr style=\"text-align: right;\">\n",
       "      <th></th>\n",
       "      <th>price</th>\n",
       "      <th>kms_driven</th>\n",
       "      <th>owner</th>\n",
       "      <th>age</th>\n",
       "      <th>power</th>\n",
       "      <th>brand</th>\n",
       "    </tr>\n",
       "  </thead>\n",
       "  <tbody>\n",
       "    <tr>\n",
       "      <th>0</th>\n",
       "      <td>35000.0</td>\n",
       "      <td>17654.0</td>\n",
       "      <td>1</td>\n",
       "      <td>3.0</td>\n",
       "      <td>110.0</td>\n",
       "      <td>TVS</td>\n",
       "    </tr>\n",
       "    <tr>\n",
       "      <th>1</th>\n",
       "      <td>119900.0</td>\n",
       "      <td>11000.0</td>\n",
       "      <td>1</td>\n",
       "      <td>4.0</td>\n",
       "      <td>350.0</td>\n",
       "      <td>Royal Enfield</td>\n",
       "    </tr>\n",
       "    <tr>\n",
       "      <th>2</th>\n",
       "      <td>600000.0</td>\n",
       "      <td>110.0</td>\n",
       "      <td>1</td>\n",
       "      <td>8.0</td>\n",
       "      <td>675.0</td>\n",
       "      <td>Triumph</td>\n",
       "    </tr>\n",
       "    <tr>\n",
       "      <th>3</th>\n",
       "      <td>65000.0</td>\n",
       "      <td>16329.0</td>\n",
       "      <td>1</td>\n",
       "      <td>4.0</td>\n",
       "      <td>180.0</td>\n",
       "      <td>TVS</td>\n",
       "    </tr>\n",
       "    <tr>\n",
       "      <th>4</th>\n",
       "      <td>80000.0</td>\n",
       "      <td>10000.0</td>\n",
       "      <td>1</td>\n",
       "      <td>3.0</td>\n",
       "      <td>150.0</td>\n",
       "      <td>Yamaha</td>\n",
       "    </tr>\n",
       "    <tr>\n",
       "      <th>...</th>\n",
       "      <td>...</td>\n",
       "      <td>...</td>\n",
       "      <td>...</td>\n",
       "      <td>...</td>\n",
       "      <td>...</td>\n",
       "      <td>...</td>\n",
       "    </tr>\n",
       "    <tr>\n",
       "      <th>9362</th>\n",
       "      <td>25000.0</td>\n",
       "      <td>48587.0</td>\n",
       "      <td>1</td>\n",
       "      <td>8.0</td>\n",
       "      <td>150.0</td>\n",
       "      <td>Hero</td>\n",
       "    </tr>\n",
       "    <tr>\n",
       "      <th>9369</th>\n",
       "      <td>35000.0</td>\n",
       "      <td>60000.0</td>\n",
       "      <td>1</td>\n",
       "      <td>9.0</td>\n",
       "      <td>220.0</td>\n",
       "      <td>Bajaj</td>\n",
       "    </tr>\n",
       "    <tr>\n",
       "      <th>9370</th>\n",
       "      <td>450000.0</td>\n",
       "      <td>3430.0</td>\n",
       "      <td>1</td>\n",
       "      <td>4.0</td>\n",
       "      <td>750.0</td>\n",
       "      <td>Harley-Davidson</td>\n",
       "    </tr>\n",
       "    <tr>\n",
       "      <th>9371</th>\n",
       "      <td>139000.0</td>\n",
       "      <td>21300.0</td>\n",
       "      <td>1</td>\n",
       "      <td>4.0</td>\n",
       "      <td>400.0</td>\n",
       "      <td>Bajaj</td>\n",
       "    </tr>\n",
       "    <tr>\n",
       "      <th>9372</th>\n",
       "      <td>80000.0</td>\n",
       "      <td>7127.0</td>\n",
       "      <td>1</td>\n",
       "      <td>5.0</td>\n",
       "      <td>220.0</td>\n",
       "      <td>Bajaj</td>\n",
       "    </tr>\n",
       "  </tbody>\n",
       "</table>\n",
       "<p>7324 rows × 6 columns</p>\n",
       "</div>"
      ],
      "text/plain": [
       "         price  kms_driven  owner  age  power            brand\n",
       "0      35000.0     17654.0      1  3.0  110.0              TVS\n",
       "1     119900.0     11000.0      1  4.0  350.0    Royal Enfield\n",
       "2     600000.0       110.0      1  8.0  675.0          Triumph\n",
       "3      65000.0     16329.0      1  4.0  180.0              TVS\n",
       "4      80000.0     10000.0      1  3.0  150.0           Yamaha\n",
       "...        ...         ...    ...  ...    ...              ...\n",
       "9362   25000.0     48587.0      1  8.0  150.0             Hero\n",
       "9369   35000.0     60000.0      1  9.0  220.0            Bajaj\n",
       "9370  450000.0      3430.0      1  4.0  750.0  Harley-Davidson\n",
       "9371  139000.0     21300.0      1  4.0  400.0            Bajaj\n",
       "9372   80000.0      7127.0      1  5.0  220.0            Bajaj\n",
       "\n",
       "[7324 rows x 6 columns]"
      ]
     },
     "execution_count": 15,
     "metadata": {},
     "output_type": "execute_result"
    }
   ],
   "source": [
    "df"
   ]
  },
  {
   "cell_type": "code",
   "execution_count": 16,
   "metadata": {},
   "outputs": [
    {
     "name": "stdout",
     "output_type": "stream",
     "text": [
      "Collecting sklearn\n",
      "  Using cached sklearn-0.0.post12.tar.gz (2.6 kB)\n",
      "  Installing build dependencies: started\n",
      "  Installing build dependencies: finished with status 'done'\n",
      "  Getting requirements to build wheel: started\n",
      "  Getting requirements to build wheel: finished with status 'error'\n",
      "Note: you may need to restart the kernel to use updated packages.\n"
     ]
    },
    {
     "name": "stderr",
     "output_type": "stream",
     "text": [
      "  error: subprocess-exited-with-error\n",
      "  \n",
      "  × Getting requirements to build wheel did not run successfully.\n",
      "  │ exit code: 1\n",
      "  ╰─> [15 lines of output]\n",
      "      The 'sklearn' PyPI package is deprecated, use 'scikit-learn'\n",
      "      rather than 'sklearn' for pip commands.\n",
      "      \n",
      "      Here is how to fix this error in the main use cases:\n",
      "      - use 'pip install scikit-learn' rather than 'pip install sklearn'\n",
      "      - replace 'sklearn' by 'scikit-learn' in your pip requirements files\n",
      "        (requirements.txt, setup.py, setup.cfg, Pipfile, etc ...)\n",
      "      - if the 'sklearn' package is used by one of your dependencies,\n",
      "        it would be great if you take some time to track which package uses\n",
      "        'sklearn' instead of 'scikit-learn' and report it to their issue tracker\n",
      "      - as a last resort, set the environment variable\n",
      "        SKLEARN_ALLOW_DEPRECATED_SKLEARN_PACKAGE_INSTALL=True to avoid this error\n",
      "      \n",
      "      More information is available at\n",
      "      https://github.com/scikit-learn/sklearn-pypi-package\n",
      "      [end of output]\n",
      "  \n",
      "  note: This error originates from a subprocess, and is likely not a problem with pip.\n",
      "error: subprocess-exited-with-error\n",
      "\n",
      "× Getting requirements to build wheel did not run successfully.\n",
      "│ exit code: 1\n",
      "╰─> See above for output.\n",
      "\n",
      "note: This error originates from a subprocess, and is likely not a problem with pip.\n"
     ]
    }
   ],
   "source": [
    "pip install sklearn"
   ]
  },
  {
   "cell_type": "code",
   "execution_count": 17,
   "metadata": {},
   "outputs": [
    {
     "name": "stdout",
     "output_type": "stream",
     "text": [
      "Requirement already satisfied: scikit-learn in d:\\code\\python\\venv\\lib\\site-packages (1.6.1)Note: you may need to restart the kernel to use updated packages.\n",
      "\n",
      "Requirement already satisfied: numpy>=1.19.5 in d:\\code\\python\\venv\\lib\\site-packages (from scikit-learn) (2.2.3)\n",
      "Requirement already satisfied: scipy>=1.6.0 in d:\\code\\python\\venv\\lib\\site-packages (from scikit-learn) (1.15.2)\n",
      "Requirement already satisfied: joblib>=1.2.0 in d:\\code\\python\\venv\\lib\\site-packages (from scikit-learn) (1.4.2)\n",
      "Requirement already satisfied: threadpoolctl>=3.1.0 in d:\\code\\python\\venv\\lib\\site-packages (from scikit-learn) (3.6.0)\n"
     ]
    }
   ],
   "source": [
    "pip install scikit-learn"
   ]
  },
  {
   "cell_type": "code",
   "execution_count": 18,
   "metadata": {},
   "outputs": [],
   "source": [
    "import sklearn as sk"
   ]
  },
  {
   "cell_type": "code",
   "execution_count": 19,
   "metadata": {},
   "outputs": [],
   "source": [
    "from sklearn.preprocessing import LabelEncoder,OneHotEncoder"
   ]
  },
  {
   "cell_type": "code",
   "execution_count": 20,
   "metadata": {},
   "outputs": [],
   "source": [
    "encoder=LabelEncoder()"
   ]
  },
  {
   "cell_type": "code",
   "execution_count": 21,
   "metadata": {},
   "outputs": [],
   "source": [
    "output=encoder.fit_transform(df['brand'])"
   ]
  },
  {
   "cell_type": "code",
   "execution_count": 22,
   "metadata": {},
   "outputs": [],
   "source": [
    "# output.classes_"
   ]
  },
  {
   "cell_type": "code",
   "execution_count": 23,
   "metadata": {},
   "outputs": [
    {
     "data": {
      "text/plain": [
       "array([19, 17, 20, ...,  4,  1,  1], shape=(7324,))"
      ]
     },
     "execution_count": 23,
     "metadata": {},
     "output_type": "execute_result"
    }
   ],
   "source": [
    "output"
   ]
  },
  {
   "cell_type": "code",
   "execution_count": 24,
   "metadata": {},
   "outputs": [],
   "source": [
    "df['brand']=output"
   ]
  },
  {
   "cell_type": "code",
   "execution_count": 25,
   "metadata": {},
   "outputs": [
    {
     "data": {
      "text/plain": [
       "(7324,)"
      ]
     },
     "execution_count": 25,
     "metadata": {},
     "output_type": "execute_result"
    }
   ],
   "source": [
    "output.shape"
   ]
  },
  {
   "cell_type": "code",
   "execution_count": 26,
   "metadata": {},
   "outputs": [
    {
     "data": {
      "text/plain": [
       "price         float64\n",
       "kms_driven    float64\n",
       "owner           int64\n",
       "age           float64\n",
       "power         float64\n",
       "brand           int64\n",
       "dtype: object"
      ]
     },
     "execution_count": 26,
     "metadata": {},
     "output_type": "execute_result"
    }
   ],
   "source": [
    "df.dtypes"
   ]
  },
  {
   "cell_type": "code",
   "execution_count": 27,
   "metadata": {},
   "outputs": [],
   "source": [
    "x=df.drop('price',axis=1)\n",
    "y=df[['price']]"
   ]
  },
  {
   "cell_type": "code",
   "execution_count": 28,
   "metadata": {},
   "outputs": [
    {
     "data": {
      "application/vnd.microsoft.datawrangler.viewer.v0+json": {
       "columns": [
        {
         "name": "index",
         "rawType": "int64",
         "type": "integer"
        },
        {
         "name": "kms_driven",
         "rawType": "float64",
         "type": "float"
        },
        {
         "name": "owner",
         "rawType": "int64",
         "type": "integer"
        },
        {
         "name": "age",
         "rawType": "float64",
         "type": "float"
        },
        {
         "name": "power",
         "rawType": "float64",
         "type": "float"
        },
        {
         "name": "brand",
         "rawType": "int64",
         "type": "integer"
        }
       ],
       "conversionMethod": "pd.DataFrame",
       "ref": "3380d147-1f05-47f7-bcd4-966957106ed6",
       "rows": [
        [
         "0",
         "17654.0",
         "1",
         "3.0",
         "110.0",
         "19"
        ],
        [
         "1",
         "11000.0",
         "1",
         "4.0",
         "350.0",
         "17"
        ],
        [
         "2",
         "110.0",
         "1",
         "8.0",
         "675.0",
         "20"
        ],
        [
         "3",
         "16329.0",
         "1",
         "4.0",
         "180.0",
         "19"
        ],
        [
         "4",
         "10000.0",
         "1",
         "3.0",
         "150.0",
         "21"
        ],
        [
         "5",
         "25000.0",
         "1",
         "6.0",
         "150.0",
         "21"
        ],
        [
         "6",
         "8200.0",
         "1",
         "3.0",
         "160.0",
         "6"
        ],
        [
         "7",
         "12645.0",
         "1",
         "3.0",
         "100.0",
         "5"
        ],
        [
         "8",
         "9190.0",
         "1",
         "3.0",
         "350.0",
         "17"
        ],
        [
         "9",
         "19000.0",
         "2",
         "7.0",
         "500.0",
         "17"
        ],
        [
         "10",
         "20000.0",
         "1",
         "7.0",
         "150.0",
         "21"
        ],
        [
         "11",
         "9665.0",
         "1",
         "4.0",
         "250.0",
         "21"
        ],
        [
         "12",
         "9900.0",
         "1",
         "4.0",
         "200.0",
         "1"
        ],
        [
         "13",
         "20000.0",
         "1",
         "8.0",
         "100.0",
         "1"
        ],
        [
         "14",
         "20000.0",
         "1",
         "7.0",
         "125.0",
         "1"
        ],
        [
         "15",
         "11574.0",
         "1",
         "3.0",
         "200.0",
         "1"
        ],
        [
         "16",
         "23000.0",
         "1",
         "3.0",
         "200.0",
         "1"
        ],
        [
         "17",
         "24725.0",
         "1",
         "5.0",
         "150.0",
         "18"
        ],
        [
         "18",
         "15025.0",
         "2",
         "3.0",
         "302.0",
         "2"
        ],
        [
         "22",
         "3500.0",
         "1",
         "2.0",
         "110.0",
         "5"
        ],
        [
         "23",
         "24520.0",
         "1",
         "5.0",
         "500.0",
         "17"
        ],
        [
         "24",
         "23000.0",
         "1",
         "6.0",
         "150.0",
         "21"
        ],
        [
         "26",
         "29305.0",
         "1",
         "16.0",
         "125.0",
         "5"
        ],
        [
         "27",
         "30500.0",
         "2",
         "7.0",
         "125.0",
         "6"
        ],
        [
         "28",
         "19000.0",
         "1",
         "8.0",
         "150.0",
         "1"
        ],
        [
         "29",
         "9100.0",
         "1",
         "2.0",
         "160.0",
         "6"
        ],
        [
         "30",
         "21914.0",
         "1",
         "3.0",
         "200.0",
         "1"
        ],
        [
         "31",
         "20000.0",
         "2",
         "4.0",
         "150.0",
         "21"
        ],
        [
         "32",
         "15000.0",
         "1",
         "6.0",
         "220.0",
         "1"
        ],
        [
         "33",
         "17700.0",
         "1",
         "4.0",
         "390.0",
         "11"
        ],
        [
         "34",
         "30000.0",
         "1",
         "8.0",
         "150.0",
         "6"
        ],
        [
         "35",
         "100000.0",
         "2",
         "8.0",
         "200.0",
         "11"
        ],
        [
         "36",
         "39000.0",
         "1",
         "5.0",
         "350.0",
         "17"
        ],
        [
         "37",
         "43000.0",
         "1",
         "6.0",
         "150.0",
         "6"
        ],
        [
         "38",
         "4550.0",
         "1",
         "2.0",
         "500.0",
         "17"
        ],
        [
         "39",
         "3400.0",
         "1",
         "2.0",
         "200.0",
         "11"
        ],
        [
         "40",
         "45000.0",
         "1",
         "8.0",
         "350.0",
         "17"
        ],
        [
         "41",
         "36100.0",
         "1",
         "6.0",
         "220.0",
         "1"
        ],
        [
         "42",
         "8500.0",
         "1",
         "13.0",
         "350.0",
         "17"
        ],
        [
         "43",
         "2550.0",
         "1",
         "2.0",
         "220.0",
         "1"
        ],
        [
         "44",
         "18000.0",
         "1",
         "6.0",
         "350.0",
         "17"
        ],
        [
         "45",
         "35000.0",
         "1",
         "9.0",
         "200.0",
         "1"
        ],
        [
         "46",
         "38000.0",
         "1",
         "10.0",
         "350.0",
         "17"
        ],
        [
         "47",
         "45000.0",
         "1",
         "2.0",
         "110.0",
         "15"
        ],
        [
         "48",
         "10800.0",
         "1",
         "8.0",
         "150.0",
         "5"
        ],
        [
         "49",
         "4400.0",
         "1",
         "3.0",
         "150.0",
         "18"
        ],
        [
         "50",
         "357000.0",
         "1",
         "8.0",
         "150.0",
         "21"
        ],
        [
         "51",
         "15300.0",
         "1",
         "7.0",
         "350.0",
         "17"
        ],
        [
         "52",
         "30000.0",
         "1",
         "5.0",
         "160.0",
         "19"
        ],
        [
         "53",
         "30000.0",
         "2",
         "7.0",
         "125.0",
         "6"
        ]
       ],
       "shape": {
        "columns": 5,
        "rows": 7324
       }
      },
      "text/html": [
       "<div>\n",
       "<style scoped>\n",
       "    .dataframe tbody tr th:only-of-type {\n",
       "        vertical-align: middle;\n",
       "    }\n",
       "\n",
       "    .dataframe tbody tr th {\n",
       "        vertical-align: top;\n",
       "    }\n",
       "\n",
       "    .dataframe thead th {\n",
       "        text-align: right;\n",
       "    }\n",
       "</style>\n",
       "<table border=\"1\" class=\"dataframe\">\n",
       "  <thead>\n",
       "    <tr style=\"text-align: right;\">\n",
       "      <th></th>\n",
       "      <th>kms_driven</th>\n",
       "      <th>owner</th>\n",
       "      <th>age</th>\n",
       "      <th>power</th>\n",
       "      <th>brand</th>\n",
       "    </tr>\n",
       "  </thead>\n",
       "  <tbody>\n",
       "    <tr>\n",
       "      <th>0</th>\n",
       "      <td>17654.0</td>\n",
       "      <td>1</td>\n",
       "      <td>3.0</td>\n",
       "      <td>110.0</td>\n",
       "      <td>19</td>\n",
       "    </tr>\n",
       "    <tr>\n",
       "      <th>1</th>\n",
       "      <td>11000.0</td>\n",
       "      <td>1</td>\n",
       "      <td>4.0</td>\n",
       "      <td>350.0</td>\n",
       "      <td>17</td>\n",
       "    </tr>\n",
       "    <tr>\n",
       "      <th>2</th>\n",
       "      <td>110.0</td>\n",
       "      <td>1</td>\n",
       "      <td>8.0</td>\n",
       "      <td>675.0</td>\n",
       "      <td>20</td>\n",
       "    </tr>\n",
       "    <tr>\n",
       "      <th>3</th>\n",
       "      <td>16329.0</td>\n",
       "      <td>1</td>\n",
       "      <td>4.0</td>\n",
       "      <td>180.0</td>\n",
       "      <td>19</td>\n",
       "    </tr>\n",
       "    <tr>\n",
       "      <th>4</th>\n",
       "      <td>10000.0</td>\n",
       "      <td>1</td>\n",
       "      <td>3.0</td>\n",
       "      <td>150.0</td>\n",
       "      <td>21</td>\n",
       "    </tr>\n",
       "    <tr>\n",
       "      <th>...</th>\n",
       "      <td>...</td>\n",
       "      <td>...</td>\n",
       "      <td>...</td>\n",
       "      <td>...</td>\n",
       "      <td>...</td>\n",
       "    </tr>\n",
       "    <tr>\n",
       "      <th>9362</th>\n",
       "      <td>48587.0</td>\n",
       "      <td>1</td>\n",
       "      <td>8.0</td>\n",
       "      <td>150.0</td>\n",
       "      <td>5</td>\n",
       "    </tr>\n",
       "    <tr>\n",
       "      <th>9369</th>\n",
       "      <td>60000.0</td>\n",
       "      <td>1</td>\n",
       "      <td>9.0</td>\n",
       "      <td>220.0</td>\n",
       "      <td>1</td>\n",
       "    </tr>\n",
       "    <tr>\n",
       "      <th>9370</th>\n",
       "      <td>3430.0</td>\n",
       "      <td>1</td>\n",
       "      <td>4.0</td>\n",
       "      <td>750.0</td>\n",
       "      <td>4</td>\n",
       "    </tr>\n",
       "    <tr>\n",
       "      <th>9371</th>\n",
       "      <td>21300.0</td>\n",
       "      <td>1</td>\n",
       "      <td>4.0</td>\n",
       "      <td>400.0</td>\n",
       "      <td>1</td>\n",
       "    </tr>\n",
       "    <tr>\n",
       "      <th>9372</th>\n",
       "      <td>7127.0</td>\n",
       "      <td>1</td>\n",
       "      <td>5.0</td>\n",
       "      <td>220.0</td>\n",
       "      <td>1</td>\n",
       "    </tr>\n",
       "  </tbody>\n",
       "</table>\n",
       "<p>7324 rows × 5 columns</p>\n",
       "</div>"
      ],
      "text/plain": [
       "      kms_driven  owner  age  power  brand\n",
       "0        17654.0      1  3.0  110.0     19\n",
       "1        11000.0      1  4.0  350.0     17\n",
       "2          110.0      1  8.0  675.0     20\n",
       "3        16329.0      1  4.0  180.0     19\n",
       "4        10000.0      1  3.0  150.0     21\n",
       "...          ...    ...  ...    ...    ...\n",
       "9362     48587.0      1  8.0  150.0      5\n",
       "9369     60000.0      1  9.0  220.0      1\n",
       "9370      3430.0      1  4.0  750.0      4\n",
       "9371     21300.0      1  4.0  400.0      1\n",
       "9372      7127.0      1  5.0  220.0      1\n",
       "\n",
       "[7324 rows x 5 columns]"
      ]
     },
     "execution_count": 28,
     "metadata": {},
     "output_type": "execute_result"
    }
   ],
   "source": [
    "x"
   ]
  },
  {
   "cell_type": "code",
   "execution_count": 29,
   "metadata": {},
   "outputs": [
    {
     "data": {
      "application/vnd.microsoft.datawrangler.viewer.v0+json": {
       "columns": [
        {
         "name": "index",
         "rawType": "int64",
         "type": "integer"
        },
        {
         "name": "price",
         "rawType": "float64",
         "type": "float"
        }
       ],
       "conversionMethod": "pd.DataFrame",
       "ref": "c03ebbdb-86ca-444f-8f98-49d07c68f190",
       "rows": [
        [
         "0",
         "35000.0"
        ],
        [
         "1",
         "119900.0"
        ],
        [
         "2",
         "600000.0"
        ],
        [
         "3",
         "65000.0"
        ],
        [
         "4",
         "80000.0"
        ],
        [
         "5",
         "53499.0"
        ],
        [
         "6",
         "85000.0"
        ],
        [
         "7",
         "45000.0"
        ],
        [
         "8",
         "145000.0"
        ],
        [
         "9",
         "88000.0"
        ],
        [
         "10",
         "72000.0"
        ],
        [
         "11",
         "95000.0"
        ],
        [
         "12",
         "78000.0"
        ],
        [
         "13",
         "29499.0"
        ],
        [
         "14",
         "29900.0"
        ],
        [
         "15",
         "90000.0"
        ],
        [
         "16",
         "120000.0"
        ],
        [
         "17",
         "48000.0"
        ],
        [
         "18",
         "240000.0"
        ],
        [
         "22",
         "46500.0"
        ],
        [
         "23",
         "121700.0"
        ],
        [
         "24",
         "45000.0"
        ],
        [
         "26",
         "20000.0"
        ],
        [
         "27",
         "20800.0"
        ],
        [
         "28",
         "50000.0"
        ],
        [
         "29",
         "81200.0"
        ],
        [
         "30",
         "88000.0"
        ],
        [
         "31",
         "80000.0"
        ],
        [
         "32",
         "40900.0"
        ],
        [
         "33",
         "180000.0"
        ],
        [
         "34",
         "40000.0"
        ],
        [
         "35",
         "70000.0"
        ],
        [
         "36",
         "98800.0"
        ],
        [
         "37",
         "65000.0"
        ],
        [
         "38",
         "190500.0"
        ],
        [
         "39",
         "179000.0"
        ],
        [
         "40",
         "70000.0"
        ],
        [
         "41",
         "45000.0"
        ],
        [
         "42",
         "78000.0"
        ],
        [
         "43",
         "110000.0"
        ],
        [
         "44",
         "85000.0"
        ],
        [
         "45",
         "38000.0"
        ],
        [
         "46",
         "55346.0"
        ],
        [
         "47",
         "28000.0"
        ],
        [
         "48",
         "37000.0"
        ],
        [
         "49",
         "97000.0"
        ],
        [
         "50",
         "40000.0"
        ],
        [
         "51",
         "90000.0"
        ],
        [
         "52",
         "60000.0"
        ],
        [
         "53",
         "21900.0"
        ]
       ],
       "shape": {
        "columns": 1,
        "rows": 7324
       }
      },
      "text/html": [
       "<div>\n",
       "<style scoped>\n",
       "    .dataframe tbody tr th:only-of-type {\n",
       "        vertical-align: middle;\n",
       "    }\n",
       "\n",
       "    .dataframe tbody tr th {\n",
       "        vertical-align: top;\n",
       "    }\n",
       "\n",
       "    .dataframe thead th {\n",
       "        text-align: right;\n",
       "    }\n",
       "</style>\n",
       "<table border=\"1\" class=\"dataframe\">\n",
       "  <thead>\n",
       "    <tr style=\"text-align: right;\">\n",
       "      <th></th>\n",
       "      <th>price</th>\n",
       "    </tr>\n",
       "  </thead>\n",
       "  <tbody>\n",
       "    <tr>\n",
       "      <th>0</th>\n",
       "      <td>35000.0</td>\n",
       "    </tr>\n",
       "    <tr>\n",
       "      <th>1</th>\n",
       "      <td>119900.0</td>\n",
       "    </tr>\n",
       "    <tr>\n",
       "      <th>2</th>\n",
       "      <td>600000.0</td>\n",
       "    </tr>\n",
       "    <tr>\n",
       "      <th>3</th>\n",
       "      <td>65000.0</td>\n",
       "    </tr>\n",
       "    <tr>\n",
       "      <th>4</th>\n",
       "      <td>80000.0</td>\n",
       "    </tr>\n",
       "    <tr>\n",
       "      <th>...</th>\n",
       "      <td>...</td>\n",
       "    </tr>\n",
       "    <tr>\n",
       "      <th>9362</th>\n",
       "      <td>25000.0</td>\n",
       "    </tr>\n",
       "    <tr>\n",
       "      <th>9369</th>\n",
       "      <td>35000.0</td>\n",
       "    </tr>\n",
       "    <tr>\n",
       "      <th>9370</th>\n",
       "      <td>450000.0</td>\n",
       "    </tr>\n",
       "    <tr>\n",
       "      <th>9371</th>\n",
       "      <td>139000.0</td>\n",
       "    </tr>\n",
       "    <tr>\n",
       "      <th>9372</th>\n",
       "      <td>80000.0</td>\n",
       "    </tr>\n",
       "  </tbody>\n",
       "</table>\n",
       "<p>7324 rows × 1 columns</p>\n",
       "</div>"
      ],
      "text/plain": [
       "         price\n",
       "0      35000.0\n",
       "1     119900.0\n",
       "2     600000.0\n",
       "3      65000.0\n",
       "4      80000.0\n",
       "...        ...\n",
       "9362   25000.0\n",
       "9369   35000.0\n",
       "9370  450000.0\n",
       "9371  139000.0\n",
       "9372   80000.0\n",
       "\n",
       "[7324 rows x 1 columns]"
      ]
     },
     "execution_count": 29,
     "metadata": {},
     "output_type": "execute_result"
    }
   ],
   "source": [
    "y"
   ]
  },
  {
   "cell_type": "code",
   "execution_count": 30,
   "metadata": {},
   "outputs": [
    {
     "data": {
      "application/vnd.microsoft.datawrangler.viewer.v0+json": {
       "columns": [
        {
         "name": "index",
         "rawType": "int64",
         "type": "integer"
        },
        {
         "name": "price",
         "rawType": "float64",
         "type": "float"
        },
        {
         "name": "kms_driven",
         "rawType": "float64",
         "type": "float"
        },
        {
         "name": "owner",
         "rawType": "int64",
         "type": "integer"
        },
        {
         "name": "age",
         "rawType": "float64",
         "type": "float"
        },
        {
         "name": "power",
         "rawType": "float64",
         "type": "float"
        },
        {
         "name": "brand",
         "rawType": "int64",
         "type": "integer"
        }
       ],
       "conversionMethod": "pd.DataFrame",
       "ref": "cc60a171-3165-4db9-a3ae-b3835009a52d",
       "rows": [
        [
         "0",
         "35000.0",
         "17654.0",
         "1",
         "3.0",
         "110.0",
         "19"
        ],
        [
         "1",
         "119900.0",
         "11000.0",
         "1",
         "4.0",
         "350.0",
         "17"
        ],
        [
         "2",
         "600000.0",
         "110.0",
         "1",
         "8.0",
         "675.0",
         "20"
        ],
        [
         "3",
         "65000.0",
         "16329.0",
         "1",
         "4.0",
         "180.0",
         "19"
        ],
        [
         "4",
         "80000.0",
         "10000.0",
         "1",
         "3.0",
         "150.0",
         "21"
        ],
        [
         "5",
         "53499.0",
         "25000.0",
         "1",
         "6.0",
         "150.0",
         "21"
        ],
        [
         "6",
         "85000.0",
         "8200.0",
         "1",
         "3.0",
         "160.0",
         "6"
        ],
        [
         "7",
         "45000.0",
         "12645.0",
         "1",
         "3.0",
         "100.0",
         "5"
        ],
        [
         "8",
         "145000.0",
         "9190.0",
         "1",
         "3.0",
         "350.0",
         "17"
        ],
        [
         "9",
         "88000.0",
         "19000.0",
         "2",
         "7.0",
         "500.0",
         "17"
        ],
        [
         "10",
         "72000.0",
         "20000.0",
         "1",
         "7.0",
         "150.0",
         "21"
        ],
        [
         "11",
         "95000.0",
         "9665.0",
         "1",
         "4.0",
         "250.0",
         "21"
        ],
        [
         "12",
         "78000.0",
         "9900.0",
         "1",
         "4.0",
         "200.0",
         "1"
        ],
        [
         "13",
         "29499.0",
         "20000.0",
         "1",
         "8.0",
         "100.0",
         "1"
        ],
        [
         "14",
         "29900.0",
         "20000.0",
         "1",
         "7.0",
         "125.0",
         "1"
        ],
        [
         "15",
         "90000.0",
         "11574.0",
         "1",
         "3.0",
         "200.0",
         "1"
        ],
        [
         "16",
         "120000.0",
         "23000.0",
         "1",
         "3.0",
         "200.0",
         "1"
        ],
        [
         "17",
         "48000.0",
         "24725.0",
         "1",
         "5.0",
         "150.0",
         "18"
        ],
        [
         "18",
         "240000.0",
         "15025.0",
         "2",
         "3.0",
         "302.0",
         "2"
        ],
        [
         "22",
         "46500.0",
         "3500.0",
         "1",
         "2.0",
         "110.0",
         "5"
        ],
        [
         "23",
         "121700.0",
         "24520.0",
         "1",
         "5.0",
         "500.0",
         "17"
        ],
        [
         "24",
         "45000.0",
         "23000.0",
         "1",
         "6.0",
         "150.0",
         "21"
        ],
        [
         "26",
         "20000.0",
         "29305.0",
         "1",
         "16.0",
         "125.0",
         "5"
        ],
        [
         "27",
         "20800.0",
         "30500.0",
         "2",
         "7.0",
         "125.0",
         "6"
        ],
        [
         "28",
         "50000.0",
         "19000.0",
         "1",
         "8.0",
         "150.0",
         "1"
        ],
        [
         "29",
         "81200.0",
         "9100.0",
         "1",
         "2.0",
         "160.0",
         "6"
        ],
        [
         "30",
         "88000.0",
         "21914.0",
         "1",
         "3.0",
         "200.0",
         "1"
        ],
        [
         "31",
         "80000.0",
         "20000.0",
         "2",
         "4.0",
         "150.0",
         "21"
        ],
        [
         "32",
         "40900.0",
         "15000.0",
         "1",
         "6.0",
         "220.0",
         "1"
        ],
        [
         "33",
         "180000.0",
         "17700.0",
         "1",
         "4.0",
         "390.0",
         "11"
        ],
        [
         "34",
         "40000.0",
         "30000.0",
         "1",
         "8.0",
         "150.0",
         "6"
        ],
        [
         "35",
         "70000.0",
         "100000.0",
         "2",
         "8.0",
         "200.0",
         "11"
        ],
        [
         "36",
         "98800.0",
         "39000.0",
         "1",
         "5.0",
         "350.0",
         "17"
        ],
        [
         "37",
         "65000.0",
         "43000.0",
         "1",
         "6.0",
         "150.0",
         "6"
        ],
        [
         "38",
         "190500.0",
         "4550.0",
         "1",
         "2.0",
         "500.0",
         "17"
        ],
        [
         "39",
         "179000.0",
         "3400.0",
         "1",
         "2.0",
         "200.0",
         "11"
        ],
        [
         "40",
         "70000.0",
         "45000.0",
         "1",
         "8.0",
         "350.0",
         "17"
        ],
        [
         "41",
         "45000.0",
         "36100.0",
         "1",
         "6.0",
         "220.0",
         "1"
        ],
        [
         "42",
         "78000.0",
         "8500.0",
         "1",
         "13.0",
         "350.0",
         "17"
        ],
        [
         "43",
         "110000.0",
         "2550.0",
         "1",
         "2.0",
         "220.0",
         "1"
        ],
        [
         "44",
         "85000.0",
         "18000.0",
         "1",
         "6.0",
         "350.0",
         "17"
        ],
        [
         "45",
         "38000.0",
         "35000.0",
         "1",
         "9.0",
         "200.0",
         "1"
        ],
        [
         "46",
         "55346.0",
         "38000.0",
         "1",
         "10.0",
         "350.0",
         "17"
        ],
        [
         "47",
         "28000.0",
         "45000.0",
         "1",
         "2.0",
         "110.0",
         "15"
        ],
        [
         "48",
         "37000.0",
         "10800.0",
         "1",
         "8.0",
         "150.0",
         "5"
        ],
        [
         "49",
         "97000.0",
         "4400.0",
         "1",
         "3.0",
         "150.0",
         "18"
        ],
        [
         "50",
         "40000.0",
         "357000.0",
         "1",
         "8.0",
         "150.0",
         "21"
        ],
        [
         "51",
         "90000.0",
         "15300.0",
         "1",
         "7.0",
         "350.0",
         "17"
        ],
        [
         "52",
         "60000.0",
         "30000.0",
         "1",
         "5.0",
         "160.0",
         "19"
        ],
        [
         "53",
         "21900.0",
         "30000.0",
         "2",
         "7.0",
         "125.0",
         "6"
        ]
       ],
       "shape": {
        "columns": 6,
        "rows": 7324
       }
      },
      "text/html": [
       "<div>\n",
       "<style scoped>\n",
       "    .dataframe tbody tr th:only-of-type {\n",
       "        vertical-align: middle;\n",
       "    }\n",
       "\n",
       "    .dataframe tbody tr th {\n",
       "        vertical-align: top;\n",
       "    }\n",
       "\n",
       "    .dataframe thead th {\n",
       "        text-align: right;\n",
       "    }\n",
       "</style>\n",
       "<table border=\"1\" class=\"dataframe\">\n",
       "  <thead>\n",
       "    <tr style=\"text-align: right;\">\n",
       "      <th></th>\n",
       "      <th>price</th>\n",
       "      <th>kms_driven</th>\n",
       "      <th>owner</th>\n",
       "      <th>age</th>\n",
       "      <th>power</th>\n",
       "      <th>brand</th>\n",
       "    </tr>\n",
       "  </thead>\n",
       "  <tbody>\n",
       "    <tr>\n",
       "      <th>0</th>\n",
       "      <td>35000.0</td>\n",
       "      <td>17654.0</td>\n",
       "      <td>1</td>\n",
       "      <td>3.0</td>\n",
       "      <td>110.0</td>\n",
       "      <td>19</td>\n",
       "    </tr>\n",
       "    <tr>\n",
       "      <th>1</th>\n",
       "      <td>119900.0</td>\n",
       "      <td>11000.0</td>\n",
       "      <td>1</td>\n",
       "      <td>4.0</td>\n",
       "      <td>350.0</td>\n",
       "      <td>17</td>\n",
       "    </tr>\n",
       "    <tr>\n",
       "      <th>2</th>\n",
       "      <td>600000.0</td>\n",
       "      <td>110.0</td>\n",
       "      <td>1</td>\n",
       "      <td>8.0</td>\n",
       "      <td>675.0</td>\n",
       "      <td>20</td>\n",
       "    </tr>\n",
       "    <tr>\n",
       "      <th>3</th>\n",
       "      <td>65000.0</td>\n",
       "      <td>16329.0</td>\n",
       "      <td>1</td>\n",
       "      <td>4.0</td>\n",
       "      <td>180.0</td>\n",
       "      <td>19</td>\n",
       "    </tr>\n",
       "    <tr>\n",
       "      <th>4</th>\n",
       "      <td>80000.0</td>\n",
       "      <td>10000.0</td>\n",
       "      <td>1</td>\n",
       "      <td>3.0</td>\n",
       "      <td>150.0</td>\n",
       "      <td>21</td>\n",
       "    </tr>\n",
       "    <tr>\n",
       "      <th>...</th>\n",
       "      <td>...</td>\n",
       "      <td>...</td>\n",
       "      <td>...</td>\n",
       "      <td>...</td>\n",
       "      <td>...</td>\n",
       "      <td>...</td>\n",
       "    </tr>\n",
       "    <tr>\n",
       "      <th>9362</th>\n",
       "      <td>25000.0</td>\n",
       "      <td>48587.0</td>\n",
       "      <td>1</td>\n",
       "      <td>8.0</td>\n",
       "      <td>150.0</td>\n",
       "      <td>5</td>\n",
       "    </tr>\n",
       "    <tr>\n",
       "      <th>9369</th>\n",
       "      <td>35000.0</td>\n",
       "      <td>60000.0</td>\n",
       "      <td>1</td>\n",
       "      <td>9.0</td>\n",
       "      <td>220.0</td>\n",
       "      <td>1</td>\n",
       "    </tr>\n",
       "    <tr>\n",
       "      <th>9370</th>\n",
       "      <td>450000.0</td>\n",
       "      <td>3430.0</td>\n",
       "      <td>1</td>\n",
       "      <td>4.0</td>\n",
       "      <td>750.0</td>\n",
       "      <td>4</td>\n",
       "    </tr>\n",
       "    <tr>\n",
       "      <th>9371</th>\n",
       "      <td>139000.0</td>\n",
       "      <td>21300.0</td>\n",
       "      <td>1</td>\n",
       "      <td>4.0</td>\n",
       "      <td>400.0</td>\n",
       "      <td>1</td>\n",
       "    </tr>\n",
       "    <tr>\n",
       "      <th>9372</th>\n",
       "      <td>80000.0</td>\n",
       "      <td>7127.0</td>\n",
       "      <td>1</td>\n",
       "      <td>5.0</td>\n",
       "      <td>220.0</td>\n",
       "      <td>1</td>\n",
       "    </tr>\n",
       "  </tbody>\n",
       "</table>\n",
       "<p>7324 rows × 6 columns</p>\n",
       "</div>"
      ],
      "text/plain": [
       "         price  kms_driven  owner  age  power  brand\n",
       "0      35000.0     17654.0      1  3.0  110.0     19\n",
       "1     119900.0     11000.0      1  4.0  350.0     17\n",
       "2     600000.0       110.0      1  8.0  675.0     20\n",
       "3      65000.0     16329.0      1  4.0  180.0     19\n",
       "4      80000.0     10000.0      1  3.0  150.0     21\n",
       "...        ...         ...    ...  ...    ...    ...\n",
       "9362   25000.0     48587.0      1  8.0  150.0      5\n",
       "9369   35000.0     60000.0      1  9.0  220.0      1\n",
       "9370  450000.0      3430.0      1  4.0  750.0      4\n",
       "9371  139000.0     21300.0      1  4.0  400.0      1\n",
       "9372   80000.0      7127.0      1  5.0  220.0      1\n",
       "\n",
       "[7324 rows x 6 columns]"
      ]
     },
     "execution_count": 30,
     "metadata": {},
     "output_type": "execute_result"
    }
   ],
   "source": [
    "df"
   ]
  },
  {
   "cell_type": "code",
   "execution_count": 31,
   "metadata": {},
   "outputs": [],
   "source": [
    "from sklearn.model_selection import train_test_split"
   ]
  },
  {
   "cell_type": "code",
   "execution_count": 32,
   "metadata": {},
   "outputs": [],
   "source": [
    "x_train,x_test,y_train,y_test=train_test_split(x,y,test_size=0.2,random_state=42)"
   ]
  },
  {
   "cell_type": "code",
   "execution_count": 33,
   "metadata": {},
   "outputs": [
    {
     "data": {
      "text/plain": [
       "((5859, 5), (1465, 5), (5859, 1), (1465, 1))"
      ]
     },
     "execution_count": 33,
     "metadata": {},
     "output_type": "execute_result"
    }
   ],
   "source": [
    "x_train.shape,x_test.shape,y_train.shape,y_test.shape"
   ]
  },
  {
   "cell_type": "code",
   "execution_count": 34,
   "metadata": {},
   "outputs": [
    {
     "data": {
      "text/plain": [
       "(5859, 5)"
      ]
     },
     "execution_count": 34,
     "metadata": {},
     "output_type": "execute_result"
    }
   ],
   "source": [
    "x_train.head()\n",
    "x_train.shape "
   ]
  },
  {
   "cell_type": "code",
   "execution_count": 35,
   "metadata": {},
   "outputs": [
    {
     "data": {
      "text/plain": [
       "(5859, 1)"
      ]
     },
     "execution_count": 35,
     "metadata": {},
     "output_type": "execute_result"
    }
   ],
   "source": [
    "y_train.head()\n",
    "y_train.shape"
   ]
  },
  {
   "cell_type": "code",
   "execution_count": 36,
   "metadata": {},
   "outputs": [],
   "source": [
    "#from sklearn.linear_model import LinearRegression\n",
    "from sklearn.ensemble import GradientBoostingRegressor"
   ]
  },
  {
   "cell_type": "code",
   "execution_count": 37,
   "metadata": {},
   "outputs": [],
   "source": [
    "#lr =LinearRegression()\n",
    "gb=GradientBoostingRegressor()"
   ]
  },
  {
   "cell_type": "code",
   "execution_count": 38,
   "metadata": {},
   "outputs": [
    {
     "data": {
      "application/vnd.microsoft.datawrangler.viewer.v0+json": {
       "columns": [
        {
         "name": "index",
         "rawType": "int64",
         "type": "integer"
        },
        {
         "name": "kms_driven",
         "rawType": "bool",
         "type": "boolean"
        },
        {
         "name": "owner",
         "rawType": "bool",
         "type": "boolean"
        },
        {
         "name": "age",
         "rawType": "bool",
         "type": "boolean"
        },
        {
         "name": "power",
         "rawType": "bool",
         "type": "boolean"
        },
        {
         "name": "brand",
         "rawType": "bool",
         "type": "boolean"
        }
       ],
       "conversionMethod": "pd.DataFrame",
       "ref": "465485d5-fa80-42c7-bb89-e9b657f16ad4",
       "rows": [
        [
         "5789",
         "False",
         "False",
         "False",
         "False",
         "False"
        ],
        [
         "3451",
         "False",
         "False",
         "False",
         "False",
         "False"
        ],
        [
         "735",
         "False",
         "False",
         "False",
         "False",
         "False"
        ],
        [
         "7533",
         "False",
         "False",
         "False",
         "False",
         "False"
        ],
        [
         "8461",
         "False",
         "False",
         "False",
         "False",
         "False"
        ],
        [
         "860",
         "False",
         "False",
         "False",
         "False",
         "False"
        ],
        [
         "3452",
         "False",
         "False",
         "False",
         "False",
         "False"
        ],
        [
         "5794",
         "False",
         "False",
         "False",
         "False",
         "False"
        ],
        [
         "3697",
         "False",
         "False",
         "False",
         "False",
         "False"
        ],
        [
         "356",
         "False",
         "False",
         "False",
         "False",
         "False"
        ],
        [
         "8675",
         "False",
         "False",
         "False",
         "False",
         "False"
        ],
        [
         "316",
         "False",
         "False",
         "False",
         "False",
         "False"
        ],
        [
         "8410",
         "False",
         "False",
         "False",
         "False",
         "False"
        ],
        [
         "5481",
         "False",
         "False",
         "False",
         "False",
         "False"
        ],
        [
         "6220",
         "False",
         "False",
         "False",
         "False",
         "False"
        ],
        [
         "5556",
         "False",
         "False",
         "False",
         "False",
         "False"
        ],
        [
         "6116",
         "False",
         "False",
         "False",
         "False",
         "False"
        ],
        [
         "8322",
         "False",
         "False",
         "False",
         "False",
         "False"
        ],
        [
         "7525",
         "False",
         "False",
         "False",
         "False",
         "False"
        ],
        [
         "9079",
         "False",
         "False",
         "False",
         "False",
         "False"
        ],
        [
         "7652",
         "False",
         "False",
         "False",
         "False",
         "False"
        ],
        [
         "8759",
         "False",
         "False",
         "False",
         "False",
         "False"
        ],
        [
         "7021",
         "False",
         "False",
         "False",
         "False",
         "False"
        ],
        [
         "1032",
         "False",
         "False",
         "False",
         "False",
         "False"
        ],
        [
         "7941",
         "False",
         "False",
         "False",
         "False",
         "False"
        ],
        [
         "8817",
         "False",
         "False",
         "False",
         "False",
         "False"
        ],
        [
         "7508",
         "False",
         "False",
         "False",
         "False",
         "False"
        ],
        [
         "8971",
         "False",
         "False",
         "False",
         "False",
         "False"
        ],
        [
         "3872",
         "False",
         "False",
         "False",
         "False",
         "False"
        ],
        [
         "5519",
         "False",
         "False",
         "False",
         "False",
         "False"
        ],
        [
         "421",
         "False",
         "False",
         "False",
         "False",
         "False"
        ],
        [
         "2790",
         "False",
         "False",
         "False",
         "False",
         "False"
        ],
        [
         "8279",
         "False",
         "False",
         "False",
         "False",
         "False"
        ],
        [
         "6303",
         "False",
         "False",
         "False",
         "False",
         "False"
        ],
        [
         "6312",
         "False",
         "False",
         "False",
         "False",
         "False"
        ],
        [
         "7474",
         "False",
         "False",
         "False",
         "False",
         "False"
        ],
        [
         "4970",
         "False",
         "False",
         "False",
         "False",
         "False"
        ],
        [
         "2408",
         "False",
         "False",
         "False",
         "False",
         "False"
        ],
        [
         "6698",
         "False",
         "False",
         "False",
         "False",
         "False"
        ],
        [
         "7250",
         "False",
         "False",
         "False",
         "False",
         "False"
        ],
        [
         "6335",
         "False",
         "False",
         "False",
         "False",
         "False"
        ],
        [
         "2515",
         "False",
         "False",
         "False",
         "False",
         "False"
        ],
        [
         "1098",
         "False",
         "False",
         "False",
         "False",
         "False"
        ],
        [
         "8389",
         "False",
         "False",
         "False",
         "False",
         "False"
        ],
        [
         "4264",
         "False",
         "False",
         "False",
         "False",
         "False"
        ],
        [
         "2528",
         "False",
         "False",
         "False",
         "False",
         "False"
        ],
        [
         "9361",
         "False",
         "False",
         "False",
         "False",
         "False"
        ],
        [
         "8973",
         "False",
         "False",
         "False",
         "False",
         "False"
        ],
        [
         "6206",
         "False",
         "False",
         "False",
         "False",
         "False"
        ],
        [
         "2173",
         "False",
         "False",
         "False",
         "False",
         "False"
        ]
       ],
       "shape": {
        "columns": 5,
        "rows": 5859
       }
      },
      "text/html": [
       "<div>\n",
       "<style scoped>\n",
       "    .dataframe tbody tr th:only-of-type {\n",
       "        vertical-align: middle;\n",
       "    }\n",
       "\n",
       "    .dataframe tbody tr th {\n",
       "        vertical-align: top;\n",
       "    }\n",
       "\n",
       "    .dataframe thead th {\n",
       "        text-align: right;\n",
       "    }\n",
       "</style>\n",
       "<table border=\"1\" class=\"dataframe\">\n",
       "  <thead>\n",
       "    <tr style=\"text-align: right;\">\n",
       "      <th></th>\n",
       "      <th>kms_driven</th>\n",
       "      <th>owner</th>\n",
       "      <th>age</th>\n",
       "      <th>power</th>\n",
       "      <th>brand</th>\n",
       "    </tr>\n",
       "  </thead>\n",
       "  <tbody>\n",
       "    <tr>\n",
       "      <th>5789</th>\n",
       "      <td>False</td>\n",
       "      <td>False</td>\n",
       "      <td>False</td>\n",
       "      <td>False</td>\n",
       "      <td>False</td>\n",
       "    </tr>\n",
       "    <tr>\n",
       "      <th>3451</th>\n",
       "      <td>False</td>\n",
       "      <td>False</td>\n",
       "      <td>False</td>\n",
       "      <td>False</td>\n",
       "      <td>False</td>\n",
       "    </tr>\n",
       "    <tr>\n",
       "      <th>735</th>\n",
       "      <td>False</td>\n",
       "      <td>False</td>\n",
       "      <td>False</td>\n",
       "      <td>False</td>\n",
       "      <td>False</td>\n",
       "    </tr>\n",
       "    <tr>\n",
       "      <th>7533</th>\n",
       "      <td>False</td>\n",
       "      <td>False</td>\n",
       "      <td>False</td>\n",
       "      <td>False</td>\n",
       "      <td>False</td>\n",
       "    </tr>\n",
       "    <tr>\n",
       "      <th>8461</th>\n",
       "      <td>False</td>\n",
       "      <td>False</td>\n",
       "      <td>False</td>\n",
       "      <td>False</td>\n",
       "      <td>False</td>\n",
       "    </tr>\n",
       "    <tr>\n",
       "      <th>...</th>\n",
       "      <td>...</td>\n",
       "      <td>...</td>\n",
       "      <td>...</td>\n",
       "      <td>...</td>\n",
       "      <td>...</td>\n",
       "    </tr>\n",
       "    <tr>\n",
       "      <th>6522</th>\n",
       "      <td>False</td>\n",
       "      <td>False</td>\n",
       "      <td>False</td>\n",
       "      <td>False</td>\n",
       "      <td>False</td>\n",
       "    </tr>\n",
       "    <tr>\n",
       "      <th>6583</th>\n",
       "      <td>False</td>\n",
       "      <td>False</td>\n",
       "      <td>False</td>\n",
       "      <td>False</td>\n",
       "      <td>False</td>\n",
       "    </tr>\n",
       "    <tr>\n",
       "      <th>6856</th>\n",
       "      <td>False</td>\n",
       "      <td>False</td>\n",
       "      <td>False</td>\n",
       "      <td>False</td>\n",
       "      <td>False</td>\n",
       "    </tr>\n",
       "    <tr>\n",
       "      <th>1028</th>\n",
       "      <td>False</td>\n",
       "      <td>False</td>\n",
       "      <td>False</td>\n",
       "      <td>False</td>\n",
       "      <td>False</td>\n",
       "    </tr>\n",
       "    <tr>\n",
       "      <th>9250</th>\n",
       "      <td>False</td>\n",
       "      <td>False</td>\n",
       "      <td>False</td>\n",
       "      <td>False</td>\n",
       "      <td>False</td>\n",
       "    </tr>\n",
       "  </tbody>\n",
       "</table>\n",
       "<p>5859 rows × 5 columns</p>\n",
       "</div>"
      ],
      "text/plain": [
       "      kms_driven  owner    age  power  brand\n",
       "5789       False  False  False  False  False\n",
       "3451       False  False  False  False  False\n",
       "735        False  False  False  False  False\n",
       "7533       False  False  False  False  False\n",
       "8461       False  False  False  False  False\n",
       "...          ...    ...    ...    ...    ...\n",
       "6522       False  False  False  False  False\n",
       "6583       False  False  False  False  False\n",
       "6856       False  False  False  False  False\n",
       "1028       False  False  False  False  False\n",
       "9250       False  False  False  False  False\n",
       "\n",
       "[5859 rows x 5 columns]"
      ]
     },
     "execution_count": 38,
     "metadata": {},
     "output_type": "execute_result"
    }
   ],
   "source": [
    "x_train.isnull()"
   ]
  },
  {
   "cell_type": "code",
   "execution_count": 39,
   "metadata": {},
   "outputs": [
    {
     "name": "stderr",
     "output_type": "stream",
     "text": [
      "d:\\code\\python\\venv\\Lib\\site-packages\\sklearn\\ensemble\\_gb.py:672: DataConversionWarning: A column-vector y was passed when a 1d array was expected. Please change the shape of y to (n_samples, ), for example using ravel().\n",
      "  y = column_or_1d(y, warn=True)  # TODO: Is this still required?\n"
     ]
    },
    {
     "data": {
      "text/html": [
       "<style>#sk-container-id-1 {\n",
       "  /* Definition of color scheme common for light and dark mode */\n",
       "  --sklearn-color-text: #000;\n",
       "  --sklearn-color-text-muted: #666;\n",
       "  --sklearn-color-line: gray;\n",
       "  /* Definition of color scheme for unfitted estimators */\n",
       "  --sklearn-color-unfitted-level-0: #fff5e6;\n",
       "  --sklearn-color-unfitted-level-1: #f6e4d2;\n",
       "  --sklearn-color-unfitted-level-2: #ffe0b3;\n",
       "  --sklearn-color-unfitted-level-3: chocolate;\n",
       "  /* Definition of color scheme for fitted estimators */\n",
       "  --sklearn-color-fitted-level-0: #f0f8ff;\n",
       "  --sklearn-color-fitted-level-1: #d4ebff;\n",
       "  --sklearn-color-fitted-level-2: #b3dbfd;\n",
       "  --sklearn-color-fitted-level-3: cornflowerblue;\n",
       "\n",
       "  /* Specific color for light theme */\n",
       "  --sklearn-color-text-on-default-background: var(--sg-text-color, var(--theme-code-foreground, var(--jp-content-font-color1, black)));\n",
       "  --sklearn-color-background: var(--sg-background-color, var(--theme-background, var(--jp-layout-color0, white)));\n",
       "  --sklearn-color-border-box: var(--sg-text-color, var(--theme-code-foreground, var(--jp-content-font-color1, black)));\n",
       "  --sklearn-color-icon: #696969;\n",
       "\n",
       "  @media (prefers-color-scheme: dark) {\n",
       "    /* Redefinition of color scheme for dark theme */\n",
       "    --sklearn-color-text-on-default-background: var(--sg-text-color, var(--theme-code-foreground, var(--jp-content-font-color1, white)));\n",
       "    --sklearn-color-background: var(--sg-background-color, var(--theme-background, var(--jp-layout-color0, #111)));\n",
       "    --sklearn-color-border-box: var(--sg-text-color, var(--theme-code-foreground, var(--jp-content-font-color1, white)));\n",
       "    --sklearn-color-icon: #878787;\n",
       "  }\n",
       "}\n",
       "\n",
       "#sk-container-id-1 {\n",
       "  color: var(--sklearn-color-text);\n",
       "}\n",
       "\n",
       "#sk-container-id-1 pre {\n",
       "  padding: 0;\n",
       "}\n",
       "\n",
       "#sk-container-id-1 input.sk-hidden--visually {\n",
       "  border: 0;\n",
       "  clip: rect(1px 1px 1px 1px);\n",
       "  clip: rect(1px, 1px, 1px, 1px);\n",
       "  height: 1px;\n",
       "  margin: -1px;\n",
       "  overflow: hidden;\n",
       "  padding: 0;\n",
       "  position: absolute;\n",
       "  width: 1px;\n",
       "}\n",
       "\n",
       "#sk-container-id-1 div.sk-dashed-wrapped {\n",
       "  border: 1px dashed var(--sklearn-color-line);\n",
       "  margin: 0 0.4em 0.5em 0.4em;\n",
       "  box-sizing: border-box;\n",
       "  padding-bottom: 0.4em;\n",
       "  background-color: var(--sklearn-color-background);\n",
       "}\n",
       "\n",
       "#sk-container-id-1 div.sk-container {\n",
       "  /* jupyter's `normalize.less` sets `[hidden] { display: none; }`\n",
       "     but bootstrap.min.css set `[hidden] { display: none !important; }`\n",
       "     so we also need the `!important` here to be able to override the\n",
       "     default hidden behavior on the sphinx rendered scikit-learn.org.\n",
       "     See: https://github.com/scikit-learn/scikit-learn/issues/21755 */\n",
       "  display: inline-block !important;\n",
       "  position: relative;\n",
       "}\n",
       "\n",
       "#sk-container-id-1 div.sk-text-repr-fallback {\n",
       "  display: none;\n",
       "}\n",
       "\n",
       "div.sk-parallel-item,\n",
       "div.sk-serial,\n",
       "div.sk-item {\n",
       "  /* draw centered vertical line to link estimators */\n",
       "  background-image: linear-gradient(var(--sklearn-color-text-on-default-background), var(--sklearn-color-text-on-default-background));\n",
       "  background-size: 2px 100%;\n",
       "  background-repeat: no-repeat;\n",
       "  background-position: center center;\n",
       "}\n",
       "\n",
       "/* Parallel-specific style estimator block */\n",
       "\n",
       "#sk-container-id-1 div.sk-parallel-item::after {\n",
       "  content: \"\";\n",
       "  width: 100%;\n",
       "  border-bottom: 2px solid var(--sklearn-color-text-on-default-background);\n",
       "  flex-grow: 1;\n",
       "}\n",
       "\n",
       "#sk-container-id-1 div.sk-parallel {\n",
       "  display: flex;\n",
       "  align-items: stretch;\n",
       "  justify-content: center;\n",
       "  background-color: var(--sklearn-color-background);\n",
       "  position: relative;\n",
       "}\n",
       "\n",
       "#sk-container-id-1 div.sk-parallel-item {\n",
       "  display: flex;\n",
       "  flex-direction: column;\n",
       "}\n",
       "\n",
       "#sk-container-id-1 div.sk-parallel-item:first-child::after {\n",
       "  align-self: flex-end;\n",
       "  width: 50%;\n",
       "}\n",
       "\n",
       "#sk-container-id-1 div.sk-parallel-item:last-child::after {\n",
       "  align-self: flex-start;\n",
       "  width: 50%;\n",
       "}\n",
       "\n",
       "#sk-container-id-1 div.sk-parallel-item:only-child::after {\n",
       "  width: 0;\n",
       "}\n",
       "\n",
       "/* Serial-specific style estimator block */\n",
       "\n",
       "#sk-container-id-1 div.sk-serial {\n",
       "  display: flex;\n",
       "  flex-direction: column;\n",
       "  align-items: center;\n",
       "  background-color: var(--sklearn-color-background);\n",
       "  padding-right: 1em;\n",
       "  padding-left: 1em;\n",
       "}\n",
       "\n",
       "\n",
       "/* Toggleable style: style used for estimator/Pipeline/ColumnTransformer box that is\n",
       "clickable and can be expanded/collapsed.\n",
       "- Pipeline and ColumnTransformer use this feature and define the default style\n",
       "- Estimators will overwrite some part of the style using the `sk-estimator` class\n",
       "*/\n",
       "\n",
       "/* Pipeline and ColumnTransformer style (default) */\n",
       "\n",
       "#sk-container-id-1 div.sk-toggleable {\n",
       "  /* Default theme specific background. It is overwritten whether we have a\n",
       "  specific estimator or a Pipeline/ColumnTransformer */\n",
       "  background-color: var(--sklearn-color-background);\n",
       "}\n",
       "\n",
       "/* Toggleable label */\n",
       "#sk-container-id-1 label.sk-toggleable__label {\n",
       "  cursor: pointer;\n",
       "  display: flex;\n",
       "  width: 100%;\n",
       "  margin-bottom: 0;\n",
       "  padding: 0.5em;\n",
       "  box-sizing: border-box;\n",
       "  text-align: center;\n",
       "  align-items: start;\n",
       "  justify-content: space-between;\n",
       "  gap: 0.5em;\n",
       "}\n",
       "\n",
       "#sk-container-id-1 label.sk-toggleable__label .caption {\n",
       "  font-size: 0.6rem;\n",
       "  font-weight: lighter;\n",
       "  color: var(--sklearn-color-text-muted);\n",
       "}\n",
       "\n",
       "#sk-container-id-1 label.sk-toggleable__label-arrow:before {\n",
       "  /* Arrow on the left of the label */\n",
       "  content: \"▸\";\n",
       "  float: left;\n",
       "  margin-right: 0.25em;\n",
       "  color: var(--sklearn-color-icon);\n",
       "}\n",
       "\n",
       "#sk-container-id-1 label.sk-toggleable__label-arrow:hover:before {\n",
       "  color: var(--sklearn-color-text);\n",
       "}\n",
       "\n",
       "/* Toggleable content - dropdown */\n",
       "\n",
       "#sk-container-id-1 div.sk-toggleable__content {\n",
       "  max-height: 0;\n",
       "  max-width: 0;\n",
       "  overflow: hidden;\n",
       "  text-align: left;\n",
       "  /* unfitted */\n",
       "  background-color: var(--sklearn-color-unfitted-level-0);\n",
       "}\n",
       "\n",
       "#sk-container-id-1 div.sk-toggleable__content.fitted {\n",
       "  /* fitted */\n",
       "  background-color: var(--sklearn-color-fitted-level-0);\n",
       "}\n",
       "\n",
       "#sk-container-id-1 div.sk-toggleable__content pre {\n",
       "  margin: 0.2em;\n",
       "  border-radius: 0.25em;\n",
       "  color: var(--sklearn-color-text);\n",
       "  /* unfitted */\n",
       "  background-color: var(--sklearn-color-unfitted-level-0);\n",
       "}\n",
       "\n",
       "#sk-container-id-1 div.sk-toggleable__content.fitted pre {\n",
       "  /* unfitted */\n",
       "  background-color: var(--sklearn-color-fitted-level-0);\n",
       "}\n",
       "\n",
       "#sk-container-id-1 input.sk-toggleable__control:checked~div.sk-toggleable__content {\n",
       "  /* Expand drop-down */\n",
       "  max-height: 200px;\n",
       "  max-width: 100%;\n",
       "  overflow: auto;\n",
       "}\n",
       "\n",
       "#sk-container-id-1 input.sk-toggleable__control:checked~label.sk-toggleable__label-arrow:before {\n",
       "  content: \"▾\";\n",
       "}\n",
       "\n",
       "/* Pipeline/ColumnTransformer-specific style */\n",
       "\n",
       "#sk-container-id-1 div.sk-label input.sk-toggleable__control:checked~label.sk-toggleable__label {\n",
       "  color: var(--sklearn-color-text);\n",
       "  background-color: var(--sklearn-color-unfitted-level-2);\n",
       "}\n",
       "\n",
       "#sk-container-id-1 div.sk-label.fitted input.sk-toggleable__control:checked~label.sk-toggleable__label {\n",
       "  background-color: var(--sklearn-color-fitted-level-2);\n",
       "}\n",
       "\n",
       "/* Estimator-specific style */\n",
       "\n",
       "/* Colorize estimator box */\n",
       "#sk-container-id-1 div.sk-estimator input.sk-toggleable__control:checked~label.sk-toggleable__label {\n",
       "  /* unfitted */\n",
       "  background-color: var(--sklearn-color-unfitted-level-2);\n",
       "}\n",
       "\n",
       "#sk-container-id-1 div.sk-estimator.fitted input.sk-toggleable__control:checked~label.sk-toggleable__label {\n",
       "  /* fitted */\n",
       "  background-color: var(--sklearn-color-fitted-level-2);\n",
       "}\n",
       "\n",
       "#sk-container-id-1 div.sk-label label.sk-toggleable__label,\n",
       "#sk-container-id-1 div.sk-label label {\n",
       "  /* The background is the default theme color */\n",
       "  color: var(--sklearn-color-text-on-default-background);\n",
       "}\n",
       "\n",
       "/* On hover, darken the color of the background */\n",
       "#sk-container-id-1 div.sk-label:hover label.sk-toggleable__label {\n",
       "  color: var(--sklearn-color-text);\n",
       "  background-color: var(--sklearn-color-unfitted-level-2);\n",
       "}\n",
       "\n",
       "/* Label box, darken color on hover, fitted */\n",
       "#sk-container-id-1 div.sk-label.fitted:hover label.sk-toggleable__label.fitted {\n",
       "  color: var(--sklearn-color-text);\n",
       "  background-color: var(--sklearn-color-fitted-level-2);\n",
       "}\n",
       "\n",
       "/* Estimator label */\n",
       "\n",
       "#sk-container-id-1 div.sk-label label {\n",
       "  font-family: monospace;\n",
       "  font-weight: bold;\n",
       "  display: inline-block;\n",
       "  line-height: 1.2em;\n",
       "}\n",
       "\n",
       "#sk-container-id-1 div.sk-label-container {\n",
       "  text-align: center;\n",
       "}\n",
       "\n",
       "/* Estimator-specific */\n",
       "#sk-container-id-1 div.sk-estimator {\n",
       "  font-family: monospace;\n",
       "  border: 1px dotted var(--sklearn-color-border-box);\n",
       "  border-radius: 0.25em;\n",
       "  box-sizing: border-box;\n",
       "  margin-bottom: 0.5em;\n",
       "  /* unfitted */\n",
       "  background-color: var(--sklearn-color-unfitted-level-0);\n",
       "}\n",
       "\n",
       "#sk-container-id-1 div.sk-estimator.fitted {\n",
       "  /* fitted */\n",
       "  background-color: var(--sklearn-color-fitted-level-0);\n",
       "}\n",
       "\n",
       "/* on hover */\n",
       "#sk-container-id-1 div.sk-estimator:hover {\n",
       "  /* unfitted */\n",
       "  background-color: var(--sklearn-color-unfitted-level-2);\n",
       "}\n",
       "\n",
       "#sk-container-id-1 div.sk-estimator.fitted:hover {\n",
       "  /* fitted */\n",
       "  background-color: var(--sklearn-color-fitted-level-2);\n",
       "}\n",
       "\n",
       "/* Specification for estimator info (e.g. \"i\" and \"?\") */\n",
       "\n",
       "/* Common style for \"i\" and \"?\" */\n",
       "\n",
       ".sk-estimator-doc-link,\n",
       "a:link.sk-estimator-doc-link,\n",
       "a:visited.sk-estimator-doc-link {\n",
       "  float: right;\n",
       "  font-size: smaller;\n",
       "  line-height: 1em;\n",
       "  font-family: monospace;\n",
       "  background-color: var(--sklearn-color-background);\n",
       "  border-radius: 1em;\n",
       "  height: 1em;\n",
       "  width: 1em;\n",
       "  text-decoration: none !important;\n",
       "  margin-left: 0.5em;\n",
       "  text-align: center;\n",
       "  /* unfitted */\n",
       "  border: var(--sklearn-color-unfitted-level-1) 1pt solid;\n",
       "  color: var(--sklearn-color-unfitted-level-1);\n",
       "}\n",
       "\n",
       ".sk-estimator-doc-link.fitted,\n",
       "a:link.sk-estimator-doc-link.fitted,\n",
       "a:visited.sk-estimator-doc-link.fitted {\n",
       "  /* fitted */\n",
       "  border: var(--sklearn-color-fitted-level-1) 1pt solid;\n",
       "  color: var(--sklearn-color-fitted-level-1);\n",
       "}\n",
       "\n",
       "/* On hover */\n",
       "div.sk-estimator:hover .sk-estimator-doc-link:hover,\n",
       ".sk-estimator-doc-link:hover,\n",
       "div.sk-label-container:hover .sk-estimator-doc-link:hover,\n",
       ".sk-estimator-doc-link:hover {\n",
       "  /* unfitted */\n",
       "  background-color: var(--sklearn-color-unfitted-level-3);\n",
       "  color: var(--sklearn-color-background);\n",
       "  text-decoration: none;\n",
       "}\n",
       "\n",
       "div.sk-estimator.fitted:hover .sk-estimator-doc-link.fitted:hover,\n",
       ".sk-estimator-doc-link.fitted:hover,\n",
       "div.sk-label-container:hover .sk-estimator-doc-link.fitted:hover,\n",
       ".sk-estimator-doc-link.fitted:hover {\n",
       "  /* fitted */\n",
       "  background-color: var(--sklearn-color-fitted-level-3);\n",
       "  color: var(--sklearn-color-background);\n",
       "  text-decoration: none;\n",
       "}\n",
       "\n",
       "/* Span, style for the box shown on hovering the info icon */\n",
       ".sk-estimator-doc-link span {\n",
       "  display: none;\n",
       "  z-index: 9999;\n",
       "  position: relative;\n",
       "  font-weight: normal;\n",
       "  right: .2ex;\n",
       "  padding: .5ex;\n",
       "  margin: .5ex;\n",
       "  width: min-content;\n",
       "  min-width: 20ex;\n",
       "  max-width: 50ex;\n",
       "  color: var(--sklearn-color-text);\n",
       "  box-shadow: 2pt 2pt 4pt #999;\n",
       "  /* unfitted */\n",
       "  background: var(--sklearn-color-unfitted-level-0);\n",
       "  border: .5pt solid var(--sklearn-color-unfitted-level-3);\n",
       "}\n",
       "\n",
       ".sk-estimator-doc-link.fitted span {\n",
       "  /* fitted */\n",
       "  background: var(--sklearn-color-fitted-level-0);\n",
       "  border: var(--sklearn-color-fitted-level-3);\n",
       "}\n",
       "\n",
       ".sk-estimator-doc-link:hover span {\n",
       "  display: block;\n",
       "}\n",
       "\n",
       "/* \"?\"-specific style due to the `<a>` HTML tag */\n",
       "\n",
       "#sk-container-id-1 a.estimator_doc_link {\n",
       "  float: right;\n",
       "  font-size: 1rem;\n",
       "  line-height: 1em;\n",
       "  font-family: monospace;\n",
       "  background-color: var(--sklearn-color-background);\n",
       "  border-radius: 1rem;\n",
       "  height: 1rem;\n",
       "  width: 1rem;\n",
       "  text-decoration: none;\n",
       "  /* unfitted */\n",
       "  color: var(--sklearn-color-unfitted-level-1);\n",
       "  border: var(--sklearn-color-unfitted-level-1) 1pt solid;\n",
       "}\n",
       "\n",
       "#sk-container-id-1 a.estimator_doc_link.fitted {\n",
       "  /* fitted */\n",
       "  border: var(--sklearn-color-fitted-level-1) 1pt solid;\n",
       "  color: var(--sklearn-color-fitted-level-1);\n",
       "}\n",
       "\n",
       "/* On hover */\n",
       "#sk-container-id-1 a.estimator_doc_link:hover {\n",
       "  /* unfitted */\n",
       "  background-color: var(--sklearn-color-unfitted-level-3);\n",
       "  color: var(--sklearn-color-background);\n",
       "  text-decoration: none;\n",
       "}\n",
       "\n",
       "#sk-container-id-1 a.estimator_doc_link.fitted:hover {\n",
       "  /* fitted */\n",
       "  background-color: var(--sklearn-color-fitted-level-3);\n",
       "}\n",
       "</style><div id=\"sk-container-id-1\" class=\"sk-top-container\"><div class=\"sk-text-repr-fallback\"><pre>GradientBoostingRegressor()</pre><b>In a Jupyter environment, please rerun this cell to show the HTML representation or trust the notebook. <br />On GitHub, the HTML representation is unable to render, please try loading this page with nbviewer.org.</b></div><div class=\"sk-container\" hidden><div class=\"sk-item\"><div class=\"sk-estimator fitted sk-toggleable\"><input class=\"sk-toggleable__control sk-hidden--visually\" id=\"sk-estimator-id-1\" type=\"checkbox\" checked><label for=\"sk-estimator-id-1\" class=\"sk-toggleable__label fitted sk-toggleable__label-arrow\"><div><div>GradientBoostingRegressor</div></div><div><a class=\"sk-estimator-doc-link fitted\" rel=\"noreferrer\" target=\"_blank\" href=\"https://scikit-learn.org/1.6/modules/generated/sklearn.ensemble.GradientBoostingRegressor.html\">?<span>Documentation for GradientBoostingRegressor</span></a><span class=\"sk-estimator-doc-link fitted\">i<span>Fitted</span></span></div></label><div class=\"sk-toggleable__content fitted\"><pre>GradientBoostingRegressor()</pre></div> </div></div></div></div>"
      ],
      "text/plain": [
       "GradientBoostingRegressor()"
      ]
     },
     "execution_count": 39,
     "metadata": {},
     "output_type": "execute_result"
    }
   ],
   "source": [
    "#lr.fit(x_train,y_train)\n",
    "gb.fit(x_train,y_train)"
   ]
  },
  {
   "cell_type": "code",
   "execution_count": 40,
   "metadata": {},
   "outputs": [
    {
     "name": "stdout",
     "output_type": "stream",
     "text": [
      "Testing Score is: 0.8993324380798964\n"
     ]
    }
   ],
   "source": [
    "#print (\"Testing Score:\",lr.score(x_test,y_test))\n",
    "print(\"Testing Score is:\",gb.score(x_test,y_test))"
   ]
  },
  {
   "cell_type": "code",
   "execution_count": 41,
   "metadata": {},
   "outputs": [
    {
     "data": {
      "text/plain": [
       "array([ 99941.2040897 , 144231.52264847,  60970.51445021, ...,\n",
       "        63161.10342403, 110946.69816322,  64010.45172761], shape=(1465,))"
      ]
     },
     "execution_count": 41,
     "metadata": {},
     "output_type": "execute_result"
    }
   ],
   "source": [
    "#lr.predict(x_test)\n",
    "gb.predict(x_test)"
   ]
  },
  {
   "cell_type": "code",
   "execution_count": 42,
   "metadata": {},
   "outputs": [],
   "source": [
    "#pred=lr.predict(x_test)\n",
    "pred=gb.predict(x_test)"
   ]
  },
  {
   "cell_type": "code",
   "execution_count": 43,
   "metadata": {},
   "outputs": [
    {
     "data": {
      "text/plain": [
       "array([ 99941.2040897 , 144231.52264847,  60970.51445021, ...,\n",
       "        63161.10342403, 110946.69816322,  64010.45172761], shape=(1465,))"
      ]
     },
     "execution_count": 43,
     "metadata": {},
     "output_type": "execute_result"
    }
   ],
   "source": [
    "pred"
   ]
  },
  {
   "cell_type": "code",
   "execution_count": 44,
   "metadata": {},
   "outputs": [
    {
     "data": {
      "text/plain": [
       "(1465, 5)"
      ]
     },
     "execution_count": 44,
     "metadata": {},
     "output_type": "execute_result"
    }
   ],
   "source": [
    "x_test.shape"
   ]
  },
  {
   "cell_type": "code",
   "execution_count": 45,
   "metadata": {},
   "outputs": [],
   "source": [
    "y_test['pred']=pred"
   ]
  },
  {
   "cell_type": "code",
   "execution_count": 46,
   "metadata": {},
   "outputs": [
    {
     "data": {
      "application/vnd.microsoft.datawrangler.viewer.v0+json": {
       "columns": [
        {
         "name": "index",
         "rawType": "int64",
         "type": "integer"
        },
        {
         "name": "price",
         "rawType": "float64",
         "type": "float"
        },
        {
         "name": "pred",
         "rawType": "float64",
         "type": "float"
        }
       ],
       "conversionMethod": "pd.DataFrame",
       "ref": "7a0fc9fe-da02-4730-8455-228db0dcba2c",
       "rows": [
        [
         "4909",
         "88400.0",
         "99941.20408969607"
        ],
        [
         "1942",
         "102850.0",
         "144231.52264847182"
        ],
        [
         "5763",
         "67000.0",
         "60970.514450212366"
        ],
        [
         "4800",
         "30000.0",
         "32997.55141074614"
        ],
        [
         "7614",
         "20000.0",
         "20601.62362843604"
        ],
        [
         "5129",
         "141000.0",
         "149350.87312336688"
        ],
        [
         "8349",
         "35000.0",
         "31571.664693256153"
        ],
        [
         "1874",
         "140000.0",
         "162510.24501132706"
        ],
        [
         "2427",
         "32500.0",
         "31420.054527385724"
        ],
        [
         "5567",
         "85000.0",
         "69884.76270070962"
        ],
        [
         "2653",
         "45000.0",
         "40382.02416037211"
        ],
        [
         "8942",
         "20000.0",
         "21196.449550535173"
        ],
        [
         "5887",
         "36000.0",
         "44648.10063004528"
        ],
        [
         "5199",
         "32000.0",
         "47481.25738701905"
        ],
        [
         "1860",
         "43000.0",
         "41848.098617601165"
        ],
        [
         "8417",
         "115000.0",
         "154301.982213464"
        ],
        [
         "2219",
         "120000.0",
         "112046.38391847846"
        ],
        [
         "4017",
         "17000.0",
         "18332.736832835017"
        ],
        [
         "7838",
         "38000.0",
         "41765.189573876334"
        ],
        [
         "137",
         "48000.0",
         "37638.4876730958"
        ],
        [
         "3537",
         "34200.0",
         "32275.010801829572"
        ],
        [
         "8131",
         "14227.0",
         "19501.548830257503"
        ],
        [
         "1047",
         "38000.0",
         "47481.25738701905"
        ],
        [
         "6735",
         "85500.0",
         "70296.35228245775"
        ],
        [
         "2787",
         "110000.0",
         "117367.92529228156"
        ],
        [
         "336",
         "417000.0",
         "400572.9044418784"
        ],
        [
         "1923",
         "42000.0",
         "29570.17005534511"
        ],
        [
         "3861",
         "135000.0",
         "100757.67419622261"
        ],
        [
         "5652",
         "110900.0",
         "127839.19602628515"
        ],
        [
         "3724",
         "49000.0",
         "62029.638113324545"
        ],
        [
         "7109",
         "52500.0",
         "46089.155759892434"
        ],
        [
         "6295",
         "34999.0",
         "31591.382757190622"
        ],
        [
         "6717",
         "12000.0",
         "13153.622060904727"
        ],
        [
         "6598",
         "38500.0",
         "35221.688407779606"
        ],
        [
         "5006",
         "19000.0",
         "13555.110006278253"
        ],
        [
         "8986",
         "40000.0",
         "36055.419281317234"
        ],
        [
         "5901",
         "670000.0",
         "610115.2410426775"
        ],
        [
         "1818",
         "39000.0",
         "54029.49706497277"
        ],
        [
         "7589",
         "125000.0",
         "106425.54142094907"
        ],
        [
         "4154",
         "15000.0",
         "17826.349013485455"
        ],
        [
         "3023",
         "79990.0",
         "74123.64013104043"
        ],
        [
         "2826",
         "50700.0",
         "44324.37217491588"
        ],
        [
         "864",
         "45000.0",
         "60736.01720322148"
        ],
        [
         "9032",
         "21101.0",
         "18262.53770740732"
        ],
        [
         "269",
         "45000.0",
         "63560.6204190282"
        ],
        [
         "2581",
         "185000.0",
         "182467.25014381905"
        ],
        [
         "7214",
         "35800.0",
         "39063.70609978938"
        ],
        [
         "65",
         "94700.0",
         "109759.36636532558"
        ],
        [
         "8193",
         "18000.0",
         "21088.413236686214"
        ],
        [
         "5534",
         "65000.0",
         "99367.15827307948"
        ]
       ],
       "shape": {
        "columns": 2,
        "rows": 1465
       }
      },
      "text/html": [
       "<div>\n",
       "<style scoped>\n",
       "    .dataframe tbody tr th:only-of-type {\n",
       "        vertical-align: middle;\n",
       "    }\n",
       "\n",
       "    .dataframe tbody tr th {\n",
       "        vertical-align: top;\n",
       "    }\n",
       "\n",
       "    .dataframe thead th {\n",
       "        text-align: right;\n",
       "    }\n",
       "</style>\n",
       "<table border=\"1\" class=\"dataframe\">\n",
       "  <thead>\n",
       "    <tr style=\"text-align: right;\">\n",
       "      <th></th>\n",
       "      <th>price</th>\n",
       "      <th>pred</th>\n",
       "    </tr>\n",
       "  </thead>\n",
       "  <tbody>\n",
       "    <tr>\n",
       "      <th>4909</th>\n",
       "      <td>88400.0</td>\n",
       "      <td>99941.204090</td>\n",
       "    </tr>\n",
       "    <tr>\n",
       "      <th>1942</th>\n",
       "      <td>102850.0</td>\n",
       "      <td>144231.522648</td>\n",
       "    </tr>\n",
       "    <tr>\n",
       "      <th>5763</th>\n",
       "      <td>67000.0</td>\n",
       "      <td>60970.514450</td>\n",
       "    </tr>\n",
       "    <tr>\n",
       "      <th>4800</th>\n",
       "      <td>30000.0</td>\n",
       "      <td>32997.551411</td>\n",
       "    </tr>\n",
       "    <tr>\n",
       "      <th>7614</th>\n",
       "      <td>20000.0</td>\n",
       "      <td>20601.623628</td>\n",
       "    </tr>\n",
       "    <tr>\n",
       "      <th>...</th>\n",
       "      <td>...</td>\n",
       "      <td>...</td>\n",
       "    </tr>\n",
       "    <tr>\n",
       "      <th>5653</th>\n",
       "      <td>395000.0</td>\n",
       "      <td>425461.752069</td>\n",
       "    </tr>\n",
       "    <tr>\n",
       "      <th>609</th>\n",
       "      <td>140000.0</td>\n",
       "      <td>153705.064510</td>\n",
       "    </tr>\n",
       "    <tr>\n",
       "      <th>4211</th>\n",
       "      <td>54500.0</td>\n",
       "      <td>63161.103424</td>\n",
       "    </tr>\n",
       "    <tr>\n",
       "      <th>6379</th>\n",
       "      <td>114000.0</td>\n",
       "      <td>110946.698163</td>\n",
       "    </tr>\n",
       "    <tr>\n",
       "      <th>647</th>\n",
       "      <td>36000.0</td>\n",
       "      <td>64010.451728</td>\n",
       "    </tr>\n",
       "  </tbody>\n",
       "</table>\n",
       "<p>1465 rows × 2 columns</p>\n",
       "</div>"
      ],
      "text/plain": [
       "         price           pred\n",
       "4909   88400.0   99941.204090\n",
       "1942  102850.0  144231.522648\n",
       "5763   67000.0   60970.514450\n",
       "4800   30000.0   32997.551411\n",
       "7614   20000.0   20601.623628\n",
       "...        ...            ...\n",
       "5653  395000.0  425461.752069\n",
       "609   140000.0  153705.064510\n",
       "4211   54500.0   63161.103424\n",
       "6379  114000.0  110946.698163\n",
       "647    36000.0   64010.451728\n",
       "\n",
       "[1465 rows x 2 columns]"
      ]
     },
     "execution_count": 46,
     "metadata": {},
     "output_type": "execute_result"
    }
   ],
   "source": [
    "y_test"
   ]
  },
  {
   "cell_type": "code",
   "execution_count": 47,
   "metadata": {},
   "outputs": [
    {
     "data": {
      "application/vnd.microsoft.datawrangler.viewer.v0+json": {
       "columns": [
        {
         "name": "index",
         "rawType": "int64",
         "type": "integer"
        },
        {
         "name": "price",
         "rawType": "float64",
         "type": "float"
        },
        {
         "name": "kms_driven",
         "rawType": "float64",
         "type": "float"
        },
        {
         "name": "owner",
         "rawType": "int64",
         "type": "integer"
        },
        {
         "name": "age",
         "rawType": "float64",
         "type": "float"
        },
        {
         "name": "power",
         "rawType": "float64",
         "type": "float"
        },
        {
         "name": "brand",
         "rawType": "int64",
         "type": "integer"
        }
       ],
       "conversionMethod": "pd.DataFrame",
       "ref": "410ccb70-b42e-48f9-bb55-daee5b48fc68",
       "rows": [
        [
         "0",
         "35000.0",
         "17654.0",
         "1",
         "3.0",
         "110.0",
         "19"
        ],
        [
         "1",
         "119900.0",
         "11000.0",
         "1",
         "4.0",
         "350.0",
         "17"
        ],
        [
         "2",
         "600000.0",
         "110.0",
         "1",
         "8.0",
         "675.0",
         "20"
        ],
        [
         "3",
         "65000.0",
         "16329.0",
         "1",
         "4.0",
         "180.0",
         "19"
        ],
        [
         "4",
         "80000.0",
         "10000.0",
         "1",
         "3.0",
         "150.0",
         "21"
        ],
        [
         "5",
         "53499.0",
         "25000.0",
         "1",
         "6.0",
         "150.0",
         "21"
        ],
        [
         "6",
         "85000.0",
         "8200.0",
         "1",
         "3.0",
         "160.0",
         "6"
        ],
        [
         "7",
         "45000.0",
         "12645.0",
         "1",
         "3.0",
         "100.0",
         "5"
        ],
        [
         "8",
         "145000.0",
         "9190.0",
         "1",
         "3.0",
         "350.0",
         "17"
        ],
        [
         "9",
         "88000.0",
         "19000.0",
         "2",
         "7.0",
         "500.0",
         "17"
        ],
        [
         "10",
         "72000.0",
         "20000.0",
         "1",
         "7.0",
         "150.0",
         "21"
        ],
        [
         "11",
         "95000.0",
         "9665.0",
         "1",
         "4.0",
         "250.0",
         "21"
        ],
        [
         "12",
         "78000.0",
         "9900.0",
         "1",
         "4.0",
         "200.0",
         "1"
        ],
        [
         "13",
         "29499.0",
         "20000.0",
         "1",
         "8.0",
         "100.0",
         "1"
        ],
        [
         "14",
         "29900.0",
         "20000.0",
         "1",
         "7.0",
         "125.0",
         "1"
        ],
        [
         "15",
         "90000.0",
         "11574.0",
         "1",
         "3.0",
         "200.0",
         "1"
        ],
        [
         "16",
         "120000.0",
         "23000.0",
         "1",
         "3.0",
         "200.0",
         "1"
        ],
        [
         "17",
         "48000.0",
         "24725.0",
         "1",
         "5.0",
         "150.0",
         "18"
        ],
        [
         "18",
         "240000.0",
         "15025.0",
         "2",
         "3.0",
         "302.0",
         "2"
        ],
        [
         "22",
         "46500.0",
         "3500.0",
         "1",
         "2.0",
         "110.0",
         "5"
        ],
        [
         "23",
         "121700.0",
         "24520.0",
         "1",
         "5.0",
         "500.0",
         "17"
        ],
        [
         "24",
         "45000.0",
         "23000.0",
         "1",
         "6.0",
         "150.0",
         "21"
        ],
        [
         "26",
         "20000.0",
         "29305.0",
         "1",
         "16.0",
         "125.0",
         "5"
        ],
        [
         "27",
         "20800.0",
         "30500.0",
         "2",
         "7.0",
         "125.0",
         "6"
        ],
        [
         "28",
         "50000.0",
         "19000.0",
         "1",
         "8.0",
         "150.0",
         "1"
        ],
        [
         "29",
         "81200.0",
         "9100.0",
         "1",
         "2.0",
         "160.0",
         "6"
        ],
        [
         "30",
         "88000.0",
         "21914.0",
         "1",
         "3.0",
         "200.0",
         "1"
        ],
        [
         "31",
         "80000.0",
         "20000.0",
         "2",
         "4.0",
         "150.0",
         "21"
        ],
        [
         "32",
         "40900.0",
         "15000.0",
         "1",
         "6.0",
         "220.0",
         "1"
        ],
        [
         "33",
         "180000.0",
         "17700.0",
         "1",
         "4.0",
         "390.0",
         "11"
        ],
        [
         "34",
         "40000.0",
         "30000.0",
         "1",
         "8.0",
         "150.0",
         "6"
        ],
        [
         "35",
         "70000.0",
         "100000.0",
         "2",
         "8.0",
         "200.0",
         "11"
        ],
        [
         "36",
         "98800.0",
         "39000.0",
         "1",
         "5.0",
         "350.0",
         "17"
        ],
        [
         "37",
         "65000.0",
         "43000.0",
         "1",
         "6.0",
         "150.0",
         "6"
        ],
        [
         "38",
         "190500.0",
         "4550.0",
         "1",
         "2.0",
         "500.0",
         "17"
        ],
        [
         "39",
         "179000.0",
         "3400.0",
         "1",
         "2.0",
         "200.0",
         "11"
        ],
        [
         "40",
         "70000.0",
         "45000.0",
         "1",
         "8.0",
         "350.0",
         "17"
        ],
        [
         "41",
         "45000.0",
         "36100.0",
         "1",
         "6.0",
         "220.0",
         "1"
        ],
        [
         "42",
         "78000.0",
         "8500.0",
         "1",
         "13.0",
         "350.0",
         "17"
        ],
        [
         "43",
         "110000.0",
         "2550.0",
         "1",
         "2.0",
         "220.0",
         "1"
        ],
        [
         "44",
         "85000.0",
         "18000.0",
         "1",
         "6.0",
         "350.0",
         "17"
        ],
        [
         "45",
         "38000.0",
         "35000.0",
         "1",
         "9.0",
         "200.0",
         "1"
        ],
        [
         "46",
         "55346.0",
         "38000.0",
         "1",
         "10.0",
         "350.0",
         "17"
        ],
        [
         "47",
         "28000.0",
         "45000.0",
         "1",
         "2.0",
         "110.0",
         "15"
        ],
        [
         "48",
         "37000.0",
         "10800.0",
         "1",
         "8.0",
         "150.0",
         "5"
        ],
        [
         "49",
         "97000.0",
         "4400.0",
         "1",
         "3.0",
         "150.0",
         "18"
        ],
        [
         "50",
         "40000.0",
         "357000.0",
         "1",
         "8.0",
         "150.0",
         "21"
        ],
        [
         "51",
         "90000.0",
         "15300.0",
         "1",
         "7.0",
         "350.0",
         "17"
        ],
        [
         "52",
         "60000.0",
         "30000.0",
         "1",
         "5.0",
         "160.0",
         "19"
        ],
        [
         "53",
         "21900.0",
         "30000.0",
         "2",
         "7.0",
         "125.0",
         "6"
        ]
       ],
       "shape": {
        "columns": 6,
        "rows": 7324
       }
      },
      "text/html": [
       "<div>\n",
       "<style scoped>\n",
       "    .dataframe tbody tr th:only-of-type {\n",
       "        vertical-align: middle;\n",
       "    }\n",
       "\n",
       "    .dataframe tbody tr th {\n",
       "        vertical-align: top;\n",
       "    }\n",
       "\n",
       "    .dataframe thead th {\n",
       "        text-align: right;\n",
       "    }\n",
       "</style>\n",
       "<table border=\"1\" class=\"dataframe\">\n",
       "  <thead>\n",
       "    <tr style=\"text-align: right;\">\n",
       "      <th></th>\n",
       "      <th>price</th>\n",
       "      <th>kms_driven</th>\n",
       "      <th>owner</th>\n",
       "      <th>age</th>\n",
       "      <th>power</th>\n",
       "      <th>brand</th>\n",
       "    </tr>\n",
       "  </thead>\n",
       "  <tbody>\n",
       "    <tr>\n",
       "      <th>0</th>\n",
       "      <td>35000.0</td>\n",
       "      <td>17654.0</td>\n",
       "      <td>1</td>\n",
       "      <td>3.0</td>\n",
       "      <td>110.0</td>\n",
       "      <td>19</td>\n",
       "    </tr>\n",
       "    <tr>\n",
       "      <th>1</th>\n",
       "      <td>119900.0</td>\n",
       "      <td>11000.0</td>\n",
       "      <td>1</td>\n",
       "      <td>4.0</td>\n",
       "      <td>350.0</td>\n",
       "      <td>17</td>\n",
       "    </tr>\n",
       "    <tr>\n",
       "      <th>2</th>\n",
       "      <td>600000.0</td>\n",
       "      <td>110.0</td>\n",
       "      <td>1</td>\n",
       "      <td>8.0</td>\n",
       "      <td>675.0</td>\n",
       "      <td>20</td>\n",
       "    </tr>\n",
       "    <tr>\n",
       "      <th>3</th>\n",
       "      <td>65000.0</td>\n",
       "      <td>16329.0</td>\n",
       "      <td>1</td>\n",
       "      <td>4.0</td>\n",
       "      <td>180.0</td>\n",
       "      <td>19</td>\n",
       "    </tr>\n",
       "    <tr>\n",
       "      <th>4</th>\n",
       "      <td>80000.0</td>\n",
       "      <td>10000.0</td>\n",
       "      <td>1</td>\n",
       "      <td>3.0</td>\n",
       "      <td>150.0</td>\n",
       "      <td>21</td>\n",
       "    </tr>\n",
       "    <tr>\n",
       "      <th>...</th>\n",
       "      <td>...</td>\n",
       "      <td>...</td>\n",
       "      <td>...</td>\n",
       "      <td>...</td>\n",
       "      <td>...</td>\n",
       "      <td>...</td>\n",
       "    </tr>\n",
       "    <tr>\n",
       "      <th>9362</th>\n",
       "      <td>25000.0</td>\n",
       "      <td>48587.0</td>\n",
       "      <td>1</td>\n",
       "      <td>8.0</td>\n",
       "      <td>150.0</td>\n",
       "      <td>5</td>\n",
       "    </tr>\n",
       "    <tr>\n",
       "      <th>9369</th>\n",
       "      <td>35000.0</td>\n",
       "      <td>60000.0</td>\n",
       "      <td>1</td>\n",
       "      <td>9.0</td>\n",
       "      <td>220.0</td>\n",
       "      <td>1</td>\n",
       "    </tr>\n",
       "    <tr>\n",
       "      <th>9370</th>\n",
       "      <td>450000.0</td>\n",
       "      <td>3430.0</td>\n",
       "      <td>1</td>\n",
       "      <td>4.0</td>\n",
       "      <td>750.0</td>\n",
       "      <td>4</td>\n",
       "    </tr>\n",
       "    <tr>\n",
       "      <th>9371</th>\n",
       "      <td>139000.0</td>\n",
       "      <td>21300.0</td>\n",
       "      <td>1</td>\n",
       "      <td>4.0</td>\n",
       "      <td>400.0</td>\n",
       "      <td>1</td>\n",
       "    </tr>\n",
       "    <tr>\n",
       "      <th>9372</th>\n",
       "      <td>80000.0</td>\n",
       "      <td>7127.0</td>\n",
       "      <td>1</td>\n",
       "      <td>5.0</td>\n",
       "      <td>220.0</td>\n",
       "      <td>1</td>\n",
       "    </tr>\n",
       "  </tbody>\n",
       "</table>\n",
       "<p>7324 rows × 6 columns</p>\n",
       "</div>"
      ],
      "text/plain": [
       "         price  kms_driven  owner  age  power  brand\n",
       "0      35000.0     17654.0      1  3.0  110.0     19\n",
       "1     119900.0     11000.0      1  4.0  350.0     17\n",
       "2     600000.0       110.0      1  8.0  675.0     20\n",
       "3      65000.0     16329.0      1  4.0  180.0     19\n",
       "4      80000.0     10000.0      1  3.0  150.0     21\n",
       "...        ...         ...    ...  ...    ...    ...\n",
       "9362   25000.0     48587.0      1  8.0  150.0      5\n",
       "9369   35000.0     60000.0      1  9.0  220.0      1\n",
       "9370  450000.0      3430.0      1  4.0  750.0      4\n",
       "9371  139000.0     21300.0      1  4.0  400.0      1\n",
       "9372   80000.0      7127.0      1  5.0  220.0      1\n",
       "\n",
       "[7324 rows x 6 columns]"
      ]
     },
     "execution_count": 47,
     "metadata": {},
     "output_type": "execute_result"
    }
   ],
   "source": [
    "df"
   ]
  },
  {
   "cell_type": "code",
   "execution_count": 48,
   "metadata": {},
   "outputs": [],
   "source": [
    "import joblib as jb"
   ]
  },
  {
   "cell_type": "markdown",
   "metadata": {},
   "source": [
    "#loss function\n",
    "MSE\n",
    "MAE\n",
    "RMSE\n",
    "Huber loss"
   ]
  },
  {
   "cell_type": "markdown",
   "metadata": {},
   "source": [
    "###MSE"
   ]
  },
  {
   "cell_type": "code",
   "execution_count": 49,
   "metadata": {},
   "outputs": [],
   "source": [
    "from sklearn.metrics import mean_squared_error,mean_absolute_error"
   ]
  },
  {
   "cell_type": "code",
   "execution_count": 50,
   "metadata": {},
   "outputs": [],
   "source": [
    "y_test.drop('pred',axis=1,inplace=True)"
   ]
  },
  {
   "cell_type": "code",
   "execution_count": 51,
   "metadata": {},
   "outputs": [
    {
     "name": "stdout",
     "output_type": "stream",
     "text": [
      "mse:- 1959868273.5866203\n"
     ]
    }
   ],
   "source": [
    "print(\"mse:-\",mean_squared_error(y_test,pred))"
   ]
  },
  {
   "cell_type": "code",
   "execution_count": 52,
   "metadata": {},
   "outputs": [],
   "source": [
    "# pred ,y_test #actual #predicted"
   ]
  },
  {
   "cell_type": "code",
   "execution_count": 53,
   "metadata": {},
   "outputs": [
    {
     "name": "stdout",
     "output_type": "stream",
     "text": [
      "mae:- 15903.460966959736\n"
     ]
    }
   ],
   "source": [
    "print(\"mae:-\",mean_absolute_error(y_test,pred))"
   ]
  },
  {
   "cell_type": "markdown",
   "metadata": {},
   "source": [
    "RMSE"
   ]
  },
  {
   "cell_type": "code",
   "execution_count": 54,
   "metadata": {},
   "outputs": [],
   "source": [
    "from sklearn.metrics import mean_squared_error\n",
    "import math\n",
    "import numpy as np"
   ]
  },
  {
   "cell_type": "code",
   "execution_count": 55,
   "metadata": {},
   "outputs": [
    {
     "name": "stdout",
     "output_type": "stream",
     "text": [
      "RMSE:- 44270.39951916653\n"
     ]
    }
   ],
   "source": [
    "print(\"RMSE:-\",math.sqrt(mean_squared_error(y_test,pred)))"
   ]
  },
  {
   "cell_type": "code",
   "execution_count": 56,
   "metadata": {},
   "outputs": [
    {
     "name": "stdout",
     "output_type": "stream",
     "text": [
      "by using numpy:- 44270.39951916653\n"
     ]
    }
   ],
   "source": [
    "print('by using numpy:-',math.sqrt(mean_squared_error(y_test,pred)))"
   ]
  },
  {
   "cell_type": "code",
   "execution_count": 57,
   "metadata": {},
   "outputs": [
    {
     "data": {
      "application/vnd.microsoft.datawrangler.viewer.v0+json": {
       "columns": [
        {
         "name": "index",
         "rawType": "int64",
         "type": "integer"
        },
        {
         "name": "price",
         "rawType": "float64",
         "type": "float"
        }
       ],
       "conversionMethod": "pd.DataFrame",
       "ref": "28a56fd9-df48-428e-b073-92f347b8c2d8",
       "rows": [
        [
         "4909",
         "88400.0"
        ],
        [
         "1942",
         "102850.0"
        ],
        [
         "5763",
         "67000.0"
        ],
        [
         "4800",
         "30000.0"
        ],
        [
         "7614",
         "20000.0"
        ],
        [
         "5129",
         "141000.0"
        ],
        [
         "8349",
         "35000.0"
        ],
        [
         "1874",
         "140000.0"
        ],
        [
         "2427",
         "32500.0"
        ],
        [
         "5567",
         "85000.0"
        ],
        [
         "2653",
         "45000.0"
        ],
        [
         "8942",
         "20000.0"
        ],
        [
         "5887",
         "36000.0"
        ],
        [
         "5199",
         "32000.0"
        ],
        [
         "1860",
         "43000.0"
        ],
        [
         "8417",
         "115000.0"
        ],
        [
         "2219",
         "120000.0"
        ],
        [
         "4017",
         "17000.0"
        ],
        [
         "7838",
         "38000.0"
        ],
        [
         "137",
         "48000.0"
        ],
        [
         "3537",
         "34200.0"
        ],
        [
         "8131",
         "14227.0"
        ],
        [
         "1047",
         "38000.0"
        ],
        [
         "6735",
         "85500.0"
        ],
        [
         "2787",
         "110000.0"
        ],
        [
         "336",
         "417000.0"
        ],
        [
         "1923",
         "42000.0"
        ],
        [
         "3861",
         "135000.0"
        ],
        [
         "5652",
         "110900.0"
        ],
        [
         "3724",
         "49000.0"
        ],
        [
         "7109",
         "52500.0"
        ],
        [
         "6295",
         "34999.0"
        ],
        [
         "6717",
         "12000.0"
        ],
        [
         "6598",
         "38500.0"
        ],
        [
         "5006",
         "19000.0"
        ],
        [
         "8986",
         "40000.0"
        ],
        [
         "5901",
         "670000.0"
        ],
        [
         "1818",
         "39000.0"
        ],
        [
         "7589",
         "125000.0"
        ],
        [
         "4154",
         "15000.0"
        ],
        [
         "3023",
         "79990.0"
        ],
        [
         "2826",
         "50700.0"
        ],
        [
         "864",
         "45000.0"
        ],
        [
         "9032",
         "21101.0"
        ],
        [
         "269",
         "45000.0"
        ],
        [
         "2581",
         "185000.0"
        ],
        [
         "7214",
         "35800.0"
        ],
        [
         "65",
         "94700.0"
        ],
        [
         "8193",
         "18000.0"
        ],
        [
         "5534",
         "65000.0"
        ]
       ],
       "shape": {
        "columns": 1,
        "rows": 1465
       }
      },
      "text/html": [
       "<div>\n",
       "<style scoped>\n",
       "    .dataframe tbody tr th:only-of-type {\n",
       "        vertical-align: middle;\n",
       "    }\n",
       "\n",
       "    .dataframe tbody tr th {\n",
       "        vertical-align: top;\n",
       "    }\n",
       "\n",
       "    .dataframe thead th {\n",
       "        text-align: right;\n",
       "    }\n",
       "</style>\n",
       "<table border=\"1\" class=\"dataframe\">\n",
       "  <thead>\n",
       "    <tr style=\"text-align: right;\">\n",
       "      <th></th>\n",
       "      <th>price</th>\n",
       "    </tr>\n",
       "  </thead>\n",
       "  <tbody>\n",
       "    <tr>\n",
       "      <th>4909</th>\n",
       "      <td>88400.0</td>\n",
       "    </tr>\n",
       "    <tr>\n",
       "      <th>1942</th>\n",
       "      <td>102850.0</td>\n",
       "    </tr>\n",
       "    <tr>\n",
       "      <th>5763</th>\n",
       "      <td>67000.0</td>\n",
       "    </tr>\n",
       "    <tr>\n",
       "      <th>4800</th>\n",
       "      <td>30000.0</td>\n",
       "    </tr>\n",
       "    <tr>\n",
       "      <th>7614</th>\n",
       "      <td>20000.0</td>\n",
       "    </tr>\n",
       "    <tr>\n",
       "      <th>...</th>\n",
       "      <td>...</td>\n",
       "    </tr>\n",
       "    <tr>\n",
       "      <th>5653</th>\n",
       "      <td>395000.0</td>\n",
       "    </tr>\n",
       "    <tr>\n",
       "      <th>609</th>\n",
       "      <td>140000.0</td>\n",
       "    </tr>\n",
       "    <tr>\n",
       "      <th>4211</th>\n",
       "      <td>54500.0</td>\n",
       "    </tr>\n",
       "    <tr>\n",
       "      <th>6379</th>\n",
       "      <td>114000.0</td>\n",
       "    </tr>\n",
       "    <tr>\n",
       "      <th>647</th>\n",
       "      <td>36000.0</td>\n",
       "    </tr>\n",
       "  </tbody>\n",
       "</table>\n",
       "<p>1465 rows × 1 columns</p>\n",
       "</div>"
      ],
      "text/plain": [
       "         price\n",
       "4909   88400.0\n",
       "1942  102850.0\n",
       "5763   67000.0\n",
       "4800   30000.0\n",
       "7614   20000.0\n",
       "...        ...\n",
       "5653  395000.0\n",
       "609   140000.0\n",
       "4211   54500.0\n",
       "6379  114000.0\n",
       "647    36000.0\n",
       "\n",
       "[1465 rows x 1 columns]"
      ]
     },
     "execution_count": 57,
     "metadata": {},
     "output_type": "execute_result"
    }
   ],
   "source": [
    "y_test"
   ]
  },
  {
   "cell_type": "markdown",
   "metadata": {},
   "source": [
    "Huber Loss"
   ]
  },
  {
   "cell_type": "markdown",
   "metadata": {},
   "source": [
    "#Model Evaluation\n",
    "confusion matrix\n",
    "accuracy\n",
    "precision\n",
    "Recall\n",
    "F1 Score"
   ]
  },
  {
   "cell_type": "code",
   "execution_count": 58,
   "metadata": {},
   "outputs": [],
   "source": [
    "from sklearn.metrics import confusion_matrix,f1_score,precision_score,recall_score"
   ]
  },
  {
   "cell_type": "code",
   "execution_count": 59,
   "metadata": {},
   "outputs": [],
   "source": [
    "pred=(pred>0.5).astype(int).ravel()"
   ]
  },
  {
   "cell_type": "code",
   "execution_count": 60,
   "metadata": {},
   "outputs": [
    {
     "data": {
      "text/plain": [
       "array([[0, 0, 0, ..., 0, 0, 0],\n",
       "       [1, 0, 0, ..., 0, 0, 0],\n",
       "       [1, 0, 0, ..., 0, 0, 0],\n",
       "       ...,\n",
       "       [2, 0, 0, ..., 0, 0, 0],\n",
       "       [1, 0, 0, ..., 0, 0, 0],\n",
       "       [1, 0, 0, ..., 0, 0, 0]], shape=(419, 419))"
      ]
     },
     "execution_count": 60,
     "metadata": {},
     "output_type": "execute_result"
    }
   ],
   "source": [
    "confusion_matrix(y_test,pred)"
   ]
  },
  {
   "cell_type": "code",
   "execution_count": 61,
   "metadata": {},
   "outputs": [],
   "source": [
    "#print(\"precision:-\",precision_score(y_test,pred))\n",
    "#print(\"precision score:-\",precision_score(y_test,pred))\n",
    "#print(\"recall score\",recall_score(y_test,pred))\n",
    "#print(\"F1 score:\",f1_score(y_test,pred))"
   ]
  },
  {
   "cell_type": "code",
   "execution_count": 62,
   "metadata": {},
   "outputs": [],
   "source": [
    "import  matplotlib.pyplot as plt\n",
    "import seaborn as sns"
   ]
  },
  {
   "cell_type": "code",
   "execution_count": 63,
   "metadata": {},
   "outputs": [],
   "source": [
    "cm=confusion_matrix(y_test,pred)"
   ]
  },
  {
   "cell_type": "code",
   "execution_count": 64,
   "metadata": {},
   "outputs": [
    {
     "data": {
      "text/plain": [
       "array([[0, 0, 0, ..., 0, 0, 0],\n",
       "       [1, 0, 0, ..., 0, 0, 0],\n",
       "       [1, 0, 0, ..., 0, 0, 0],\n",
       "       ...,\n",
       "       [2, 0, 0, ..., 0, 0, 0],\n",
       "       [1, 0, 0, ..., 0, 0, 0],\n",
       "       [1, 0, 0, ..., 0, 0, 0]], shape=(419, 419))"
      ]
     },
     "execution_count": 64,
     "metadata": {},
     "output_type": "execute_result"
    }
   ],
   "source": [
    "cm"
   ]
  },
  {
   "cell_type": "code",
   "execution_count": 65,
   "metadata": {},
   "outputs": [],
   "source": [
    "#sns.heatmap(cm,annot=True,cmap='Blues',fmt='d')\n",
    "#plt.title('confusion matrix')\n"
   ]
  },
  {
   "cell_type": "code",
   "execution_count": 66,
   "metadata": {},
   "outputs": [],
   "source": [
    "from sklearn.ensemble import RandomForestClassifier\n",
    "from sklearn.ensemble import RandomForestRegressor"
   ]
  },
  {
   "cell_type": "code",
   "execution_count": 67,
   "metadata": {},
   "outputs": [],
   "source": [
    "obj=RandomForestClassifier()"
   ]
  },
  {
   "cell_type": "code",
   "execution_count": 68,
   "metadata": {},
   "outputs": [],
   "source": [
    "obj=RandomForestRegressor()"
   ]
  },
  {
   "cell_type": "code",
   "execution_count": 69,
   "metadata": {},
   "outputs": [
    {
     "data": {
      "text/plain": [
       "{'bootstrap': True,\n",
       " 'ccp_alpha': 0.0,\n",
       " 'criterion': 'squared_error',\n",
       " 'max_depth': None,\n",
       " 'max_features': 1.0,\n",
       " 'max_leaf_nodes': None,\n",
       " 'max_samples': None,\n",
       " 'min_impurity_decrease': 0.0,\n",
       " 'min_samples_leaf': 1,\n",
       " 'min_samples_split': 2,\n",
       " 'min_weight_fraction_leaf': 0.0,\n",
       " 'monotonic_cst': None,\n",
       " 'n_estimators': 100,\n",
       " 'n_jobs': None,\n",
       " 'oob_score': False,\n",
       " 'random_state': None,\n",
       " 'verbose': 0,\n",
       " 'warm_start': False}"
      ]
     },
     "execution_count": 69,
     "metadata": {},
     "output_type": "execute_result"
    }
   ],
   "source": [
    "obj.get_params()"
   ]
  },
  {
   "cell_type": "code",
   "execution_count": 71,
   "metadata": {},
   "outputs": [],
   "source": [
    "import xgboost as xgb"
   ]
  },
  {
   "cell_type": "code",
   "execution_count": 72,
   "metadata": {},
   "outputs": [],
   "source": [
    "from sklearn.datasets import load_breast_cancer"
   ]
  },
  {
   "cell_type": "code",
   "execution_count": 73,
   "metadata": {},
   "outputs": [],
   "source": [
    "x,y=load_breast_cancer(return_X_y=True)"
   ]
  },
  {
   "cell_type": "code",
   "execution_count": 74,
   "metadata": {},
   "outputs": [],
   "source": [
    "from sklearn.model_selection import train_test_split"
   ]
  },
  {
   "cell_type": "code",
   "execution_count": 75,
   "metadata": {},
   "outputs": [],
   "source": [
    "x_train,x_test,y_train,y_test=train_test_split(x,y,test_size=0.2,random_state=42)"
   ]
  },
  {
   "cell_type": "code",
   "execution_count": 76,
   "metadata": {},
   "outputs": [
    {
     "data": {
      "text/plain": [
       "((455, 30), (114, 30), (455,), (114,))"
      ]
     },
     "execution_count": 76,
     "metadata": {},
     "output_type": "execute_result"
    }
   ],
   "source": [
    "x_train.shape,x_test.shape,y_train.shape,y_test.shape"
   ]
  },
  {
   "cell_type": "markdown",
   "metadata": {},
   "source": []
  },
  {
   "cell_type": "code",
   "execution_count": 77,
   "metadata": {},
   "outputs": [],
   "source": [
    "model_xg=xgb.XGBClassifier()"
   ]
  },
  {
   "cell_type": "code",
   "execution_count": 78,
   "metadata": {},
   "outputs": [
    {
     "data": {
      "text/html": [
       "<style>#sk-container-id-2 {\n",
       "  /* Definition of color scheme common for light and dark mode */\n",
       "  --sklearn-color-text: #000;\n",
       "  --sklearn-color-text-muted: #666;\n",
       "  --sklearn-color-line: gray;\n",
       "  /* Definition of color scheme for unfitted estimators */\n",
       "  --sklearn-color-unfitted-level-0: #fff5e6;\n",
       "  --sklearn-color-unfitted-level-1: #f6e4d2;\n",
       "  --sklearn-color-unfitted-level-2: #ffe0b3;\n",
       "  --sklearn-color-unfitted-level-3: chocolate;\n",
       "  /* Definition of color scheme for fitted estimators */\n",
       "  --sklearn-color-fitted-level-0: #f0f8ff;\n",
       "  --sklearn-color-fitted-level-1: #d4ebff;\n",
       "  --sklearn-color-fitted-level-2: #b3dbfd;\n",
       "  --sklearn-color-fitted-level-3: cornflowerblue;\n",
       "\n",
       "  /* Specific color for light theme */\n",
       "  --sklearn-color-text-on-default-background: var(--sg-text-color, var(--theme-code-foreground, var(--jp-content-font-color1, black)));\n",
       "  --sklearn-color-background: var(--sg-background-color, var(--theme-background, var(--jp-layout-color0, white)));\n",
       "  --sklearn-color-border-box: var(--sg-text-color, var(--theme-code-foreground, var(--jp-content-font-color1, black)));\n",
       "  --sklearn-color-icon: #696969;\n",
       "\n",
       "  @media (prefers-color-scheme: dark) {\n",
       "    /* Redefinition of color scheme for dark theme */\n",
       "    --sklearn-color-text-on-default-background: var(--sg-text-color, var(--theme-code-foreground, var(--jp-content-font-color1, white)));\n",
       "    --sklearn-color-background: var(--sg-background-color, var(--theme-background, var(--jp-layout-color0, #111)));\n",
       "    --sklearn-color-border-box: var(--sg-text-color, var(--theme-code-foreground, var(--jp-content-font-color1, white)));\n",
       "    --sklearn-color-icon: #878787;\n",
       "  }\n",
       "}\n",
       "\n",
       "#sk-container-id-2 {\n",
       "  color: var(--sklearn-color-text);\n",
       "}\n",
       "\n",
       "#sk-container-id-2 pre {\n",
       "  padding: 0;\n",
       "}\n",
       "\n",
       "#sk-container-id-2 input.sk-hidden--visually {\n",
       "  border: 0;\n",
       "  clip: rect(1px 1px 1px 1px);\n",
       "  clip: rect(1px, 1px, 1px, 1px);\n",
       "  height: 1px;\n",
       "  margin: -1px;\n",
       "  overflow: hidden;\n",
       "  padding: 0;\n",
       "  position: absolute;\n",
       "  width: 1px;\n",
       "}\n",
       "\n",
       "#sk-container-id-2 div.sk-dashed-wrapped {\n",
       "  border: 1px dashed var(--sklearn-color-line);\n",
       "  margin: 0 0.4em 0.5em 0.4em;\n",
       "  box-sizing: border-box;\n",
       "  padding-bottom: 0.4em;\n",
       "  background-color: var(--sklearn-color-background);\n",
       "}\n",
       "\n",
       "#sk-container-id-2 div.sk-container {\n",
       "  /* jupyter's `normalize.less` sets `[hidden] { display: none; }`\n",
       "     but bootstrap.min.css set `[hidden] { display: none !important; }`\n",
       "     so we also need the `!important` here to be able to override the\n",
       "     default hidden behavior on the sphinx rendered scikit-learn.org.\n",
       "     See: https://github.com/scikit-learn/scikit-learn/issues/21755 */\n",
       "  display: inline-block !important;\n",
       "  position: relative;\n",
       "}\n",
       "\n",
       "#sk-container-id-2 div.sk-text-repr-fallback {\n",
       "  display: none;\n",
       "}\n",
       "\n",
       "div.sk-parallel-item,\n",
       "div.sk-serial,\n",
       "div.sk-item {\n",
       "  /* draw centered vertical line to link estimators */\n",
       "  background-image: linear-gradient(var(--sklearn-color-text-on-default-background), var(--sklearn-color-text-on-default-background));\n",
       "  background-size: 2px 100%;\n",
       "  background-repeat: no-repeat;\n",
       "  background-position: center center;\n",
       "}\n",
       "\n",
       "/* Parallel-specific style estimator block */\n",
       "\n",
       "#sk-container-id-2 div.sk-parallel-item::after {\n",
       "  content: \"\";\n",
       "  width: 100%;\n",
       "  border-bottom: 2px solid var(--sklearn-color-text-on-default-background);\n",
       "  flex-grow: 1;\n",
       "}\n",
       "\n",
       "#sk-container-id-2 div.sk-parallel {\n",
       "  display: flex;\n",
       "  align-items: stretch;\n",
       "  justify-content: center;\n",
       "  background-color: var(--sklearn-color-background);\n",
       "  position: relative;\n",
       "}\n",
       "\n",
       "#sk-container-id-2 div.sk-parallel-item {\n",
       "  display: flex;\n",
       "  flex-direction: column;\n",
       "}\n",
       "\n",
       "#sk-container-id-2 div.sk-parallel-item:first-child::after {\n",
       "  align-self: flex-end;\n",
       "  width: 50%;\n",
       "}\n",
       "\n",
       "#sk-container-id-2 div.sk-parallel-item:last-child::after {\n",
       "  align-self: flex-start;\n",
       "  width: 50%;\n",
       "}\n",
       "\n",
       "#sk-container-id-2 div.sk-parallel-item:only-child::after {\n",
       "  width: 0;\n",
       "}\n",
       "\n",
       "/* Serial-specific style estimator block */\n",
       "\n",
       "#sk-container-id-2 div.sk-serial {\n",
       "  display: flex;\n",
       "  flex-direction: column;\n",
       "  align-items: center;\n",
       "  background-color: var(--sklearn-color-background);\n",
       "  padding-right: 1em;\n",
       "  padding-left: 1em;\n",
       "}\n",
       "\n",
       "\n",
       "/* Toggleable style: style used for estimator/Pipeline/ColumnTransformer box that is\n",
       "clickable and can be expanded/collapsed.\n",
       "- Pipeline and ColumnTransformer use this feature and define the default style\n",
       "- Estimators will overwrite some part of the style using the `sk-estimator` class\n",
       "*/\n",
       "\n",
       "/* Pipeline and ColumnTransformer style (default) */\n",
       "\n",
       "#sk-container-id-2 div.sk-toggleable {\n",
       "  /* Default theme specific background. It is overwritten whether we have a\n",
       "  specific estimator or a Pipeline/ColumnTransformer */\n",
       "  background-color: var(--sklearn-color-background);\n",
       "}\n",
       "\n",
       "/* Toggleable label */\n",
       "#sk-container-id-2 label.sk-toggleable__label {\n",
       "  cursor: pointer;\n",
       "  display: flex;\n",
       "  width: 100%;\n",
       "  margin-bottom: 0;\n",
       "  padding: 0.5em;\n",
       "  box-sizing: border-box;\n",
       "  text-align: center;\n",
       "  align-items: start;\n",
       "  justify-content: space-between;\n",
       "  gap: 0.5em;\n",
       "}\n",
       "\n",
       "#sk-container-id-2 label.sk-toggleable__label .caption {\n",
       "  font-size: 0.6rem;\n",
       "  font-weight: lighter;\n",
       "  color: var(--sklearn-color-text-muted);\n",
       "}\n",
       "\n",
       "#sk-container-id-2 label.sk-toggleable__label-arrow:before {\n",
       "  /* Arrow on the left of the label */\n",
       "  content: \"▸\";\n",
       "  float: left;\n",
       "  margin-right: 0.25em;\n",
       "  color: var(--sklearn-color-icon);\n",
       "}\n",
       "\n",
       "#sk-container-id-2 label.sk-toggleable__label-arrow:hover:before {\n",
       "  color: var(--sklearn-color-text);\n",
       "}\n",
       "\n",
       "/* Toggleable content - dropdown */\n",
       "\n",
       "#sk-container-id-2 div.sk-toggleable__content {\n",
       "  max-height: 0;\n",
       "  max-width: 0;\n",
       "  overflow: hidden;\n",
       "  text-align: left;\n",
       "  /* unfitted */\n",
       "  background-color: var(--sklearn-color-unfitted-level-0);\n",
       "}\n",
       "\n",
       "#sk-container-id-2 div.sk-toggleable__content.fitted {\n",
       "  /* fitted */\n",
       "  background-color: var(--sklearn-color-fitted-level-0);\n",
       "}\n",
       "\n",
       "#sk-container-id-2 div.sk-toggleable__content pre {\n",
       "  margin: 0.2em;\n",
       "  border-radius: 0.25em;\n",
       "  color: var(--sklearn-color-text);\n",
       "  /* unfitted */\n",
       "  background-color: var(--sklearn-color-unfitted-level-0);\n",
       "}\n",
       "\n",
       "#sk-container-id-2 div.sk-toggleable__content.fitted pre {\n",
       "  /* unfitted */\n",
       "  background-color: var(--sklearn-color-fitted-level-0);\n",
       "}\n",
       "\n",
       "#sk-container-id-2 input.sk-toggleable__control:checked~div.sk-toggleable__content {\n",
       "  /* Expand drop-down */\n",
       "  max-height: 200px;\n",
       "  max-width: 100%;\n",
       "  overflow: auto;\n",
       "}\n",
       "\n",
       "#sk-container-id-2 input.sk-toggleable__control:checked~label.sk-toggleable__label-arrow:before {\n",
       "  content: \"▾\";\n",
       "}\n",
       "\n",
       "/* Pipeline/ColumnTransformer-specific style */\n",
       "\n",
       "#sk-container-id-2 div.sk-label input.sk-toggleable__control:checked~label.sk-toggleable__label {\n",
       "  color: var(--sklearn-color-text);\n",
       "  background-color: var(--sklearn-color-unfitted-level-2);\n",
       "}\n",
       "\n",
       "#sk-container-id-2 div.sk-label.fitted input.sk-toggleable__control:checked~label.sk-toggleable__label {\n",
       "  background-color: var(--sklearn-color-fitted-level-2);\n",
       "}\n",
       "\n",
       "/* Estimator-specific style */\n",
       "\n",
       "/* Colorize estimator box */\n",
       "#sk-container-id-2 div.sk-estimator input.sk-toggleable__control:checked~label.sk-toggleable__label {\n",
       "  /* unfitted */\n",
       "  background-color: var(--sklearn-color-unfitted-level-2);\n",
       "}\n",
       "\n",
       "#sk-container-id-2 div.sk-estimator.fitted input.sk-toggleable__control:checked~label.sk-toggleable__label {\n",
       "  /* fitted */\n",
       "  background-color: var(--sklearn-color-fitted-level-2);\n",
       "}\n",
       "\n",
       "#sk-container-id-2 div.sk-label label.sk-toggleable__label,\n",
       "#sk-container-id-2 div.sk-label label {\n",
       "  /* The background is the default theme color */\n",
       "  color: var(--sklearn-color-text-on-default-background);\n",
       "}\n",
       "\n",
       "/* On hover, darken the color of the background */\n",
       "#sk-container-id-2 div.sk-label:hover label.sk-toggleable__label {\n",
       "  color: var(--sklearn-color-text);\n",
       "  background-color: var(--sklearn-color-unfitted-level-2);\n",
       "}\n",
       "\n",
       "/* Label box, darken color on hover, fitted */\n",
       "#sk-container-id-2 div.sk-label.fitted:hover label.sk-toggleable__label.fitted {\n",
       "  color: var(--sklearn-color-text);\n",
       "  background-color: var(--sklearn-color-fitted-level-2);\n",
       "}\n",
       "\n",
       "/* Estimator label */\n",
       "\n",
       "#sk-container-id-2 div.sk-label label {\n",
       "  font-family: monospace;\n",
       "  font-weight: bold;\n",
       "  display: inline-block;\n",
       "  line-height: 1.2em;\n",
       "}\n",
       "\n",
       "#sk-container-id-2 div.sk-label-container {\n",
       "  text-align: center;\n",
       "}\n",
       "\n",
       "/* Estimator-specific */\n",
       "#sk-container-id-2 div.sk-estimator {\n",
       "  font-family: monospace;\n",
       "  border: 1px dotted var(--sklearn-color-border-box);\n",
       "  border-radius: 0.25em;\n",
       "  box-sizing: border-box;\n",
       "  margin-bottom: 0.5em;\n",
       "  /* unfitted */\n",
       "  background-color: var(--sklearn-color-unfitted-level-0);\n",
       "}\n",
       "\n",
       "#sk-container-id-2 div.sk-estimator.fitted {\n",
       "  /* fitted */\n",
       "  background-color: var(--sklearn-color-fitted-level-0);\n",
       "}\n",
       "\n",
       "/* on hover */\n",
       "#sk-container-id-2 div.sk-estimator:hover {\n",
       "  /* unfitted */\n",
       "  background-color: var(--sklearn-color-unfitted-level-2);\n",
       "}\n",
       "\n",
       "#sk-container-id-2 div.sk-estimator.fitted:hover {\n",
       "  /* fitted */\n",
       "  background-color: var(--sklearn-color-fitted-level-2);\n",
       "}\n",
       "\n",
       "/* Specification for estimator info (e.g. \"i\" and \"?\") */\n",
       "\n",
       "/* Common style for \"i\" and \"?\" */\n",
       "\n",
       ".sk-estimator-doc-link,\n",
       "a:link.sk-estimator-doc-link,\n",
       "a:visited.sk-estimator-doc-link {\n",
       "  float: right;\n",
       "  font-size: smaller;\n",
       "  line-height: 1em;\n",
       "  font-family: monospace;\n",
       "  background-color: var(--sklearn-color-background);\n",
       "  border-radius: 1em;\n",
       "  height: 1em;\n",
       "  width: 1em;\n",
       "  text-decoration: none !important;\n",
       "  margin-left: 0.5em;\n",
       "  text-align: center;\n",
       "  /* unfitted */\n",
       "  border: var(--sklearn-color-unfitted-level-1) 1pt solid;\n",
       "  color: var(--sklearn-color-unfitted-level-1);\n",
       "}\n",
       "\n",
       ".sk-estimator-doc-link.fitted,\n",
       "a:link.sk-estimator-doc-link.fitted,\n",
       "a:visited.sk-estimator-doc-link.fitted {\n",
       "  /* fitted */\n",
       "  border: var(--sklearn-color-fitted-level-1) 1pt solid;\n",
       "  color: var(--sklearn-color-fitted-level-1);\n",
       "}\n",
       "\n",
       "/* On hover */\n",
       "div.sk-estimator:hover .sk-estimator-doc-link:hover,\n",
       ".sk-estimator-doc-link:hover,\n",
       "div.sk-label-container:hover .sk-estimator-doc-link:hover,\n",
       ".sk-estimator-doc-link:hover {\n",
       "  /* unfitted */\n",
       "  background-color: var(--sklearn-color-unfitted-level-3);\n",
       "  color: var(--sklearn-color-background);\n",
       "  text-decoration: none;\n",
       "}\n",
       "\n",
       "div.sk-estimator.fitted:hover .sk-estimator-doc-link.fitted:hover,\n",
       ".sk-estimator-doc-link.fitted:hover,\n",
       "div.sk-label-container:hover .sk-estimator-doc-link.fitted:hover,\n",
       ".sk-estimator-doc-link.fitted:hover {\n",
       "  /* fitted */\n",
       "  background-color: var(--sklearn-color-fitted-level-3);\n",
       "  color: var(--sklearn-color-background);\n",
       "  text-decoration: none;\n",
       "}\n",
       "\n",
       "/* Span, style for the box shown on hovering the info icon */\n",
       ".sk-estimator-doc-link span {\n",
       "  display: none;\n",
       "  z-index: 9999;\n",
       "  position: relative;\n",
       "  font-weight: normal;\n",
       "  right: .2ex;\n",
       "  padding: .5ex;\n",
       "  margin: .5ex;\n",
       "  width: min-content;\n",
       "  min-width: 20ex;\n",
       "  max-width: 50ex;\n",
       "  color: var(--sklearn-color-text);\n",
       "  box-shadow: 2pt 2pt 4pt #999;\n",
       "  /* unfitted */\n",
       "  background: var(--sklearn-color-unfitted-level-0);\n",
       "  border: .5pt solid var(--sklearn-color-unfitted-level-3);\n",
       "}\n",
       "\n",
       ".sk-estimator-doc-link.fitted span {\n",
       "  /* fitted */\n",
       "  background: var(--sklearn-color-fitted-level-0);\n",
       "  border: var(--sklearn-color-fitted-level-3);\n",
       "}\n",
       "\n",
       ".sk-estimator-doc-link:hover span {\n",
       "  display: block;\n",
       "}\n",
       "\n",
       "/* \"?\"-specific style due to the `<a>` HTML tag */\n",
       "\n",
       "#sk-container-id-2 a.estimator_doc_link {\n",
       "  float: right;\n",
       "  font-size: 1rem;\n",
       "  line-height: 1em;\n",
       "  font-family: monospace;\n",
       "  background-color: var(--sklearn-color-background);\n",
       "  border-radius: 1rem;\n",
       "  height: 1rem;\n",
       "  width: 1rem;\n",
       "  text-decoration: none;\n",
       "  /* unfitted */\n",
       "  color: var(--sklearn-color-unfitted-level-1);\n",
       "  border: var(--sklearn-color-unfitted-level-1) 1pt solid;\n",
       "}\n",
       "\n",
       "#sk-container-id-2 a.estimator_doc_link.fitted {\n",
       "  /* fitted */\n",
       "  border: var(--sklearn-color-fitted-level-1) 1pt solid;\n",
       "  color: var(--sklearn-color-fitted-level-1);\n",
       "}\n",
       "\n",
       "/* On hover */\n",
       "#sk-container-id-2 a.estimator_doc_link:hover {\n",
       "  /* unfitted */\n",
       "  background-color: var(--sklearn-color-unfitted-level-3);\n",
       "  color: var(--sklearn-color-background);\n",
       "  text-decoration: none;\n",
       "}\n",
       "\n",
       "#sk-container-id-2 a.estimator_doc_link.fitted:hover {\n",
       "  /* fitted */\n",
       "  background-color: var(--sklearn-color-fitted-level-3);\n",
       "}\n",
       "</style><div id=\"sk-container-id-2\" class=\"sk-top-container\"><div class=\"sk-text-repr-fallback\"><pre>XGBClassifier(base_score=None, booster=None, callbacks=None,\n",
       "              colsample_bylevel=None, colsample_bynode=None,\n",
       "              colsample_bytree=None, device=None, early_stopping_rounds=None,\n",
       "              enable_categorical=False, eval_metric=None, feature_types=None,\n",
       "              feature_weights=None, gamma=None, grow_policy=None,\n",
       "              importance_type=None, interaction_constraints=None,\n",
       "              learning_rate=None, max_bin=None, max_cat_threshold=None,\n",
       "              max_cat_to_onehot=None, max_delta_step=None, max_depth=None,\n",
       "              max_leaves=None, min_child_weight=None, missing=nan,\n",
       "              monotone_constraints=None, multi_strategy=None, n_estimators=None,\n",
       "              n_jobs=None, num_parallel_tree=None, ...)</pre><b>In a Jupyter environment, please rerun this cell to show the HTML representation or trust the notebook. <br />On GitHub, the HTML representation is unable to render, please try loading this page with nbviewer.org.</b></div><div class=\"sk-container\" hidden><div class=\"sk-item\"><div class=\"sk-estimator fitted sk-toggleable\"><input class=\"sk-toggleable__control sk-hidden--visually\" id=\"sk-estimator-id-2\" type=\"checkbox\" checked><label for=\"sk-estimator-id-2\" class=\"sk-toggleable__label fitted sk-toggleable__label-arrow\"><div><div>XGBClassifier</div></div><div><a class=\"sk-estimator-doc-link fitted\" rel=\"noreferrer\" target=\"_blank\" href=\"https://xgboost.readthedocs.io/en/release_3.0.0/python/python_api.html#xgboost.XGBClassifier\">?<span>Documentation for XGBClassifier</span></a><span class=\"sk-estimator-doc-link fitted\">i<span>Fitted</span></span></div></label><div class=\"sk-toggleable__content fitted\"><pre>XGBClassifier(base_score=None, booster=None, callbacks=None,\n",
       "              colsample_bylevel=None, colsample_bynode=None,\n",
       "              colsample_bytree=None, device=None, early_stopping_rounds=None,\n",
       "              enable_categorical=False, eval_metric=None, feature_types=None,\n",
       "              feature_weights=None, gamma=None, grow_policy=None,\n",
       "              importance_type=None, interaction_constraints=None,\n",
       "              learning_rate=None, max_bin=None, max_cat_threshold=None,\n",
       "              max_cat_to_onehot=None, max_delta_step=None, max_depth=None,\n",
       "              max_leaves=None, min_child_weight=None, missing=nan,\n",
       "              monotone_constraints=None, multi_strategy=None, n_estimators=None,\n",
       "              n_jobs=None, num_parallel_tree=None, ...)</pre></div> </div></div></div></div>"
      ],
      "text/plain": [
       "XGBClassifier(base_score=None, booster=None, callbacks=None,\n",
       "              colsample_bylevel=None, colsample_bynode=None,\n",
       "              colsample_bytree=None, device=None, early_stopping_rounds=None,\n",
       "              enable_categorical=False, eval_metric=None, feature_types=None,\n",
       "              feature_weights=None, gamma=None, grow_policy=None,\n",
       "              importance_type=None, interaction_constraints=None,\n",
       "              learning_rate=None, max_bin=None, max_cat_threshold=None,\n",
       "              max_cat_to_onehot=None, max_delta_step=None, max_depth=None,\n",
       "              max_leaves=None, min_child_weight=None, missing=nan,\n",
       "              monotone_constraints=None, multi_strategy=None, n_estimators=None,\n",
       "              n_jobs=None, num_parallel_tree=None, ...)"
      ]
     },
     "execution_count": 78,
     "metadata": {},
     "output_type": "execute_result"
    }
   ],
   "source": [
    "model_xg.fit(x_train,y_train)"
   ]
  },
  {
   "cell_type": "code",
   "execution_count": null,
   "metadata": {},
   "outputs": [],
   "source": []
  }
 ],
 "metadata": {
  "kernelspec": {
   "display_name": "venv",
   "language": "python",
   "name": "python3"
  },
  "language_info": {
   "codemirror_mode": {
    "name": "ipython",
    "version": 3
   },
   "file_extension": ".py",
   "mimetype": "text/x-python",
   "name": "python",
   "nbconvert_exporter": "python",
   "pygments_lexer": "ipython3",
   "version": "3.13.0"
  }
 },
 "nbformat": 4,
 "nbformat_minor": 2
}
