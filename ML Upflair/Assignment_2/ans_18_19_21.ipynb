{
 "cells": [
  {
   "cell_type": "markdown",
   "id": "e7d3b746",
   "metadata": {},
   "source": [
    "## Answer No. 18 , 19 ,21"
   ]
  },
  {
   "cell_type": "code",
   "execution_count": 1,
   "id": "fc0ff97b",
   "metadata": {},
   "outputs": [
    {
     "name": "stdout",
     "output_type": "stream",
     "text": [
      "Brand: Toyota, Color: Red, Model: Corolla\n"
     ]
    }
   ],
   "source": [
    "class Vehicle:\n",
    "    def __init__(self, brand, color):\n",
    "        self.brand = brand\n",
    "        self.color = color\n",
    "\n",
    "class Car(Vehicle):\n",
    "    def __init__(self, brand, color, model):\n",
    "        super().__init__(brand, color)\n",
    "        self.model = model\n",
    "\n",
    "my_car = Car(\"Toyota\", \"Red\", \"Corolla\")\n",
    "print(f\"Brand: {my_car.brand}, Color: {my_car.color}, Model: {my_car.model}\")\n",
    "\n"
   ]
  },
  {
   "cell_type": "code",
   "execution_count": 2,
   "id": "f7952389",
   "metadata": {},
   "outputs": [
    {
     "name": "stdout",
     "output_type": "stream",
     "text": [
      "85\n",
      "95\n"
     ]
    }
   ],
   "source": [
    "class Student:\n",
    "    def __init__(self, name, marks):\n",
    "        self.name = name\n",
    "        self.__marks = marks\n",
    "\n",
    "    def get_marks(self):\n",
    "        return self.__marks\n",
    "\n",
    "    def set_marks(self, marks):\n",
    "        if 0 <= marks <= 100:\n",
    "            self.__marks = marks\n",
    "        else:\n",
    "            print(\"Invalid marks\")\n",
    "\n",
    "s1 = Student(\"yash\", 85)\n",
    "print(s1.get_marks())\n",
    "s1.set_marks(95)\n",
    "print(s1.get_marks())\n",
    "\n",
    "\n"
   ]
  },
  {
   "cell_type": "code",
   "execution_count": 3,
   "id": "17fe7804",
   "metadata": {},
   "outputs": [],
   "source": [
    "class Father:\n",
    "    def __init__(self):\n",
    "        self.father_name = \"vishesh\"\n",
    "\n",
    "class Mother:\n",
    "    def __init__(self):\n",
    "        self.mother_name = \"tarun\"\n",
    "\n",
    "class Child(Father, Mother):\n",
    "    def __init__(self):\n",
    "        Father.__init__(self)\n",
    "        Mother.__init__(self)\n",
    "        self.child_name = \"mayank\"\n",
    "\n",
    "    def display_names(self):\n",
    "        print(f\"Father: {self.father_name}, Mother: {self.mother_name}, Child: {self.child_name}\")\n",
    "\n"
   ]
  },
  {
   "cell_type": "code",
   "execution_count": 4,
   "id": "cb94c6f5",
   "metadata": {},
   "outputs": [
    {
     "name": "stdout",
     "output_type": "stream",
     "text": [
      "Father: vishesh, Mother: tarun, Child: mayank\n"
     ]
    }
   ],
   "source": [
    "c = Child()\n",
    "c.display_names()\n"
   ]
  }
 ],
 "metadata": {
  "kernelspec": {
   "display_name": "venv",
   "language": "python",
   "name": "python3"
  },
  "language_info": {
   "codemirror_mode": {
    "name": "ipython",
    "version": 3
   },
   "file_extension": ".py",
   "mimetype": "text/x-python",
   "name": "python",
   "nbconvert_exporter": "python",
   "pygments_lexer": "ipython3",
   "version": "3.13.0"
  }
 },
 "nbformat": 4,
 "nbformat_minor": 5
}
