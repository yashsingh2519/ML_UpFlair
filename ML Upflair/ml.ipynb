{
 "cells": [
  {
   "cell_type": "markdown",
   "metadata": {},
   "source": [
    " # access modifier"
   ]
  },
  {
   "cell_type": "code",
   "execution_count": 11,
   "metadata": {},
   "outputs": [
    {
     "ename": "AttributeError",
     "evalue": "'ved' object has no attribute 'name'",
     "output_type": "error",
     "traceback": [
      "\u001b[1;31m---------------------------------------------------------------------------\u001b[0m",
      "\u001b[1;31mAttributeError\u001b[0m                            Traceback (most recent call last)",
      "Cell \u001b[1;32mIn[11], line 12\u001b[0m\n\u001b[0;32m     10\u001b[0m o1 \u001b[38;5;241m=\u001b[39m arya(\u001b[38;5;124m\"\u001b[39m\u001b[38;5;124myash\u001b[39m\u001b[38;5;124m\"\u001b[39m,\u001b[38;5;241m12\u001b[39m,\u001b[38;5;124m\"\u001b[39m\u001b[38;5;124mmale\u001b[39m\u001b[38;5;124m\"\u001b[39m)\n\u001b[0;32m     11\u001b[0m o2 \u001b[38;5;241m=\u001b[39m ved()\n\u001b[1;32m---> 12\u001b[0m \u001b[38;5;28mprint\u001b[39m(\u001b[43mo2\u001b[49m\u001b[38;5;241;43m.\u001b[39;49m\u001b[43mname\u001b[49m)\n\u001b[0;32m     14\u001b[0m \u001b[38;5;28mdir\u001b[39m(o1)\n",
      "\u001b[1;31mAttributeError\u001b[0m: 'ved' object has no attribute 'name'"
     ]
    }
   ],
   "source": [
    "class arya:\n",
    "    def __init__(self,name,age,gen):\n",
    "        self.name=name\n",
    "        self._age=age\n",
    "        self.__gen=gen\n",
    "    \n",
    "class ved():\n",
    "    pass\n",
    "\n",
    "o1 = arya(\"yash\",12,\"male\")\n",
    "o2 = ved()\n",
    "print(o2.name)\n",
    "\n",
    "dir(o1)\n"
   ]
  },
  {
   "cell_type": "code",
   "execution_count": null,
   "metadata": {},
   "outputs": [],
   "source": [
    "class Arya:\n",
    "    def __init__(self, name, age):\n",
    "        self.name = name  # Public attribute\n",
    "        self.age = age    # Public attribute\n",
    "    \n",
    "    def display(self):  # Public method\n",
    "        return f\"Name: {self.name}, Age: {self.age}\"\n",
    "\n",
    "# Accessing public members in another class\n",
    "class Ved:\n",
    "    def show(self, obj):\n",
    "        print(f\"Accessing from Ved: {obj.name}, {obj.age}\")\n",
    "\n",
    "# Accessing public members in a function\n",
    "def print_details(obj):\n",
    "    print(f\"Accessing from function: {obj.name}, {obj.age}\")\n",
    "\n",
    "# Creating an object of Arya\n",
    "o1 = Arya(\"Yash\", 20)\n",
    "\n",
    "# Accessing from another class\n",
    "o2 = Ved()\n",
    "o2.show(o1)\n",
    "\n",
    "# Accessing from a function\n",
    "print_details(o1)\n",
    "\n",
    "# Accessing directly\n",
    "print(o1.name)\n",
    "print(o1.age)\n",
    "print(o1.display())\n"
   ]
  },
  {
   "cell_type": "code",
   "execution_count": null,
   "metadata": {},
   "outputs": [
    {
     "name": "stdout",
     "output_type": "stream",
     "text": [
      "<class 'numpy.ndarray'>\n",
      "[1, 2, 3, 4, 5, 6, 7, 8, 9, 10, 11, 12, 13, 14, 15, 16, 17, 18, 19, 20, 21, 22, 23, 24, 25, 26, 27, 28, 29, 30, 31, 32, 33, 34, 35, 36, 37, 38, 39, 40, 41, 42, 43, 44, 45, 46, 47, 48, 49]\n"
     ]
    }
   ],
   "source": [
    "import numpy as np\n",
    "lst= list(range(1,50))\n",
    "arr = np.array(lst)\n",
    "print(type(arr))\n",
    "\n",
    "print(lst)"
   ]
  },
  {
   "cell_type": "code",
   "execution_count": 20,
   "metadata": {},
   "outputs": [
    {
     "name": "stdout",
     "output_type": "stream",
     "text": [
      "[[[ 1  2  3]\n",
      "  [ 1 54  6]\n",
      "  [ 3  3  7]]\n",
      "\n",
      " [[ 1 56  2]\n",
      "  [53 75 77]\n",
      "  [53 87 54]]]\n"
     ]
    }
   ],
   "source": [
    "\n",
    "\n",
    "arr1= np.array([[[1,2,3],[1,54,6],[3,3,7]],[[1,56,2],[53,75,77],[53,87,54]]])\n",
    "print(arr1)"
   ]
  },
  {
   "cell_type": "code",
   "execution_count": null,
   "metadata": {},
   "outputs": [
    {
     "name": "stdout",
     "output_type": "stream",
     "text": [
      "[[1. 1. 1. 1. 1. 1. 1. 1. 1. 1. 1. 1. 1. 1. 1. 1. 1. 1. 1. 1. 1. 1. 1. 1.\n",
      "  1. 1. 1. 1. 1. 1.]]\n"
     ]
    }
   ],
   "source": [
    "arr2 = np.ones((3,4))\n",
    "print(arr2)"
   ]
  }
 ],
 "metadata": {
  "kernelspec": {
   "display_name": "venv",
   "language": "python",
   "name": "python3"
  },
  "language_info": {
   "codemirror_mode": {
    "name": "ipython",
    "version": 3
   },
   "file_extension": ".py",
   "mimetype": "text/x-python",
   "name": "python",
   "nbconvert_exporter": "python",
   "pygments_lexer": "ipython3",
   "version": "3.13.0"
  }
 },
 "nbformat": 4,
 "nbformat_minor": 2
}
