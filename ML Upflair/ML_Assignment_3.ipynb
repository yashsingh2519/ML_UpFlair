{
 "cells": [
  {
   "cell_type": "markdown",
   "metadata": {},
   "source": [
    "   # Assignment 3\n",
    "     by Yash Shekhawat (Branch - AI&DS)"
   ]
  },
  {
   "cell_type": "markdown",
   "metadata": {},
   "source": [
    "1. Write a lambda function to merge two lists into a dictionary where\n",
    "   one list represents keys and the other represents values."
   ]
  },
  {
   "cell_type": "code",
   "execution_count": null,
   "metadata": {},
   "outputs": [
    {
     "name": "stdout",
     "output_type": "stream",
     "text": [
      "{'a': 1, 'b': 2, 'c': 3}\n"
     ]
    }
   ],
   "source": [
    "merge_lists = lambda keys, values: dict(zip(keys, values))\n",
    "\n",
    "keys = ['a', 'b', 'c']\n",
    "values = [1, 2, 3]\n",
    "print(merge_lists(keys, values))"
   ]
  },
  {
   "cell_type": "markdown",
   "metadata": {},
   "source": [
    "2. Create a class Product with instance variables name and price. Also,\n",
    "   add a class variable discount_rate and a method to calculate the\n",
    "   discounted price"
   ]
  },
  {
   "cell_type": "code",
   "execution_count": null,
   "metadata": {},
   "outputs": [
    {
     "name": "stdout",
     "output_type": "stream",
     "text": [
      "59040.0\n"
     ]
    }
   ],
   "source": [
    "class Product:\n",
    "    discount_rate =18 \n",
    "\n",
    "    def __init__(self, name, price):\n",
    "        self.name = name\n",
    "        self.price = price\n",
    "\n",
    "    def discounted_price(self):\n",
    "        return self.price - (self.price * Product.discount_rate / 100)\n",
    "\n",
    "P1 = Product(\"Laptop\", 72000)\n",
    "print(P1.discounted_price())"
   ]
  },
  {
   "cell_type": "markdown",
   "metadata": {},
   "source": [
    "3. Create a base class Shape with a method area(). Derive two\n",
    "   subclasses Circle and Rectangle, each implementing their own area()\n",
    "   method. (INHERITANCE)\n"
   ]
  },
  {
   "cell_type": "code",
   "execution_count": 15,
   "metadata": {},
   "outputs": [
    {
     "name": "stdout",
     "output_type": "stream",
     "text": [
      "78.53981633974483\n",
      "24\n"
     ]
    }
   ],
   "source": [
    "import math\n",
    "\n",
    "class Shape:\n",
    "    def area(self):\n",
    "        pass\n",
    "\n",
    "class Circle(Shape):\n",
    "    def __init__(self, radius):\n",
    "        self.radius = radius\n",
    "\n",
    "    def area(self):\n",
    "        return math.pi * self.radius ** 2\n",
    "\n",
    "class Rectangle(Shape):\n",
    "    def __init__(self, length, width):\n",
    "        self.length = length\n",
    "        self.width = width\n",
    "\n",
    "    def area(self):\n",
    "        return self.length * self.width\n",
    "\n",
    "C1 = Circle(5)\n",
    "R1 = Rectangle(4, 6)\n",
    "print(C1.area())\n",
    "print(R1.area())\n"
   ]
  },
  {
   "cell_type": "markdown",
   "metadata": {},
   "source": [
    "4. Create two base classes Person and Employee, and derive a class\n",
    "   Manager from both. (MULTIPLE INHERITANCE)"
   ]
  },
  {
   "cell_type": "code",
   "execution_count": 14,
   "metadata": {},
   "outputs": [
    {
     "name": "stdout",
     "output_type": "stream",
     "text": [
      "Yash 35 Y2519 100000 AI\n"
     ]
    }
   ],
   "source": [
    "class Person:\n",
    "    def __init__(self, name, age):\n",
    "        self.name = name\n",
    "        self.age = age\n",
    "\n",
    "class Employee:\n",
    "    def __init__(self, emp_id, salary):\n",
    "        self.emp_id = emp_id\n",
    "        self.salary = salary\n",
    "\n",
    "class Manager(Person, Employee):\n",
    "    def __init__(self, name, age, emp_id, salary, department):\n",
    "        Person.__init__(self, name, age)\n",
    "        Employee.__init__(self, emp_id, salary)\n",
    "        self.department = department\n",
    "\n",
    "mgr = Manager(\"Yash\", 35, \"Y2519\", 100000, \"AI\")\n",
    "print(mgr.name, mgr.age, mgr.emp_id, mgr.salary, mgr.department)\n"
   ]
  },
  {
   "cell_type": "markdown",
   "metadata": {},
   "source": [
    "5. Implement a function play_sound() that accepts different animal\n",
    "   objects (Dog, Cat, Cow) and calls their make_sound() method\n",
    "   dynamically. (POLYMORPHISM)\n"
   ]
  },
  {
   "cell_type": "code",
   "execution_count": 16,
   "metadata": {},
   "outputs": [
    {
     "name": "stdout",
     "output_type": "stream",
     "text": [
      "Bark\n",
      "Meow\n",
      "Moo\n"
     ]
    }
   ],
   "source": [
    "class Dog:\n",
    "    def make_sound(self):\n",
    "        return \"Bark\"\n",
    "\n",
    "class Cat:\n",
    "    def make_sound(self):\n",
    "        return \"Meow\"\n",
    "\n",
    "class Cow:\n",
    "    def make_sound(self):\n",
    "        return \"Moo\"\n",
    "\n",
    "def play_sound(animal):\n",
    "    print(animal.make_sound())\n",
    "\n",
    "play_sound(Dog())\n",
    "play_sound(Cat())\n",
    "play_sound(Cow())"
   ]
  },
  {
   "cell_type": "markdown",
   "metadata": {},
   "source": [
    "6. Design a Car Rental System using Object-Oriented Programming\n",
    "   (OOP) in Python. The system should include a Vehicle class and\n",
    "   derived classes Car and Bike. Implement constructors and use\n",
    "   inheritance to manage common and specific attributes"
   ]
  },
  {
   "cell_type": "code",
   "execution_count": 17,
   "metadata": {},
   "outputs": [
    {
     "name": "stdout",
     "output_type": "stream",
     "text": [
      "2022 Toyota Camry, Seats: 5\n",
      "2021 Honda City, Max Speed: 180/km\n"
     ]
    }
   ],
   "source": [
    "class Vehicle:\n",
    "    def __init__(self, brand, model, year):\n",
    "        self.brand = brand\n",
    "        self.model = model\n",
    "        self.year = year\n",
    "\n",
    "    def display_info(self):\n",
    "        return f\"{self.year} {self.brand} {self.model}\"\n",
    "\n",
    "class Car(Vehicle):\n",
    "    def __init__(self, brand, model, year, seats):\n",
    "        super().__init__(brand, model, year)\n",
    "        self.seats = seats\n",
    "\n",
    "    def display_info(self):\n",
    "        return super().display_info() + f\", Seats: {self.seats}\"\n",
    "\n",
    "class Bike(Vehicle):\n",
    "    def __init__(self, brand, model, year, speed):\n",
    "        super().__init__(brand, model, year)\n",
    "        self.speed = speed\n",
    "\n",
    "    def display_info(self):\n",
    "        return super().display_info() + f\", Max Speed: {self.speed}/km\"\n",
    "\n",
    "# Example usage\n",
    "car = Car(\"Toyota\", \"Camry\", 2022, 5)\n",
    "bike = Bike(\"Honda\", \"City\", 2021, 180)\n",
    "print(car.display_info())\n",
    "print(bike.display_info())\n"
   ]
  }
 ],
 "metadata": {
  "kernelspec": {
   "display_name": "Python 3",
   "language": "python",
   "name": "python3"
  },
  "language_info": {
   "codemirror_mode": {
    "name": "ipython",
    "version": 3
   },
   "file_extension": ".py",
   "mimetype": "text/x-python",
   "name": "python",
   "nbconvert_exporter": "python",
   "pygments_lexer": "ipython3",
   "version": "3.13.0"
  }
 },
 "nbformat": 4,
 "nbformat_minor": 2
}
