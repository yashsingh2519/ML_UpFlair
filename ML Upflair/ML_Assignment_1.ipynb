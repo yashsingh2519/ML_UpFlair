{
 "cells": [
  {
   "cell_type": "markdown",
   "metadata": {},
   "source": [
    "# Assignment 2\n",
    "   by Yash Shekhawat (Branch - AI&DS)"
   ]
  },
  {
   "cell_type": "markdown",
   "metadata": {},
   "source": [
    "1. How do lists and tuples differ in terms of mutability and\n",
    "performance? When would you choose one over the other?"
   ]
  },
  {
   "cell_type": "markdown",
   "metadata": {},
   "source": [
    "ANS -\n",
    "Mutability:\n",
    "\n",
    "- Lists are mutable (can be modified after creation).\n",
    "Tuples are immutable (cannot be modified after creation).\n",
    "\n",
    "Performance:\n",
    "\n",
    "- Tuples are faster than lists because they are immutable and require less memory.\n",
    "\n",
    "When to Choose One Over the Other?\n",
    "\n",
    "- Use lists when data needs modification (e.g., appending/removing elements).\n",
    "Use tuples when data should remain constant (e.g., storing fixed values like coordinates)."
   ]
  },
  {
   "cell_type": "markdown",
   "metadata": {},
   "source": [
    "2. Explain how Python handles type conversion between different data\n",
    "types, such as between integers and floats or between strings and\n",
    "lists.\n"
   ]
  },
  {
   "cell_type": "code",
   "execution_count": null,
   "metadata": {},
   "outputs": [],
   "source": [
    "a = \"123\"\n",
    "b = int(a)  \n",
    "print(b + 1)\n",
    "\n",
    "c = [1, 2, 3]\n",
    "d = str(c)  \n",
    "print(d)  \n"
   ]
  },
  {
   "cell_type": "markdown",
   "metadata": {},
   "source": [
    "3. Take a number and use the += operator to increase its value by 10."
   ]
  },
  {
   "cell_type": "code",
   "execution_count": null,
   "metadata": {},
   "outputs": [],
   "source": [
    "num = 20\n",
    "num += 10  \n",
    "print(num) \n"
   ]
  },
  {
   "cell_type": "markdown",
   "metadata": {},
   "source": [
    "4. Write a Python program to check if a given year is a leap year or not"
   ]
  },
  {
   "cell_type": "code",
   "execution_count": null,
   "metadata": {},
   "outputs": [],
   "source": [
    "def is_leap_year(year):\n",
    "    if (year % 4 == 0 and year % 100 != 0) or (year % 400 == 0):\n",
    "        return True\n",
    "    return False\n",
    "\n",
    "# Example usage\n",
    "year = int(input(\"Enter a year: \"))\n",
    "if is_leap_year(year):\n",
    "    print(f\"{year} is a leap year.\")\n",
    "else:\n",
    "    print(f\"{year} is not a leap year.\")\n"
   ]
  },
  {
   "cell_type": "markdown",
   "metadata": {},
   "source": [
    "5. Write a program that asks the user to enter their marks and displays\n",
    "their grade:\n",
    "- 90-100: A\n",
    "- 80-89: B\n",
    "- 70-79: C\n",
    "- 60-69: D\n",
    "- Below 60: F"
   ]
  },
  {
   "cell_type": "code",
   "execution_count": null,
   "metadata": {},
   "outputs": [],
   "source": [
    "marks = int(input(\"Enter your marks: \"))\n",
    "\n",
    "if 90 <= marks <= 100:\n",
    "    grade = \"A\"\n",
    "elif 80 <= marks <= 89:\n",
    "    grade = \"B\"\n",
    "elif 70 <= marks <= 79:\n",
    "    grade = \"C\"\n",
    "elif 60 <= marks <= 69:\n",
    "    grade = \"D\"\n",
    "else:\n",
    "    grade = \"F\"\n",
    "\n",
    "print(f\"Your grade is: {grade}\")\n"
   ]
  }
 ],
 "metadata": {
  "kernelspec": {
   "display_name": "venv",
   "language": "python",
   "name": "python3"
  },
  "language_info": {
   "name": "python",
   "version": "3.13.0"
  }
 },
 "nbformat": 4,
 "nbformat_minor": 2
}
