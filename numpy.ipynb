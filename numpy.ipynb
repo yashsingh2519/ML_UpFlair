{
 "cells": [
  {
   "cell_type": "markdown",
   "metadata": {},
   "source": [
    "### NUMPY\n",
    "**Numpy is Multi Dimensional Array Liberary**\n",
    "\n",
    "**list**                                \n",
    "\n",
    "1. slow                             \n",
    "2. different types                  \n",
    "3. insertion,deletion,concatenation,appending,etc\n",
    "---\n",
    "**numpy**\n",
    "1. fast\n",
    "2. fixed types\n",
    "3. insertion,deletion,concatenation,appending,etc\n",
    "---\n",
    "1. numpy is faster to read less bytes of memory\n",
    "2. no type checking when iterating through object\n",
    "3. numpy use contiguous memory so all 8 blocks are right next to each other \n",
    "\n",
    "---\n",
    "**benefits:**\n",
    "1. SIMD(single info multiple data) vector processing\n",
    "2. effective cache checking\n",
    "---\n",
    "**application:**\n",
    "1. mathematics (MATLAB replacement)\n",
    "2. plotting (matplotlib)\n",
    "3. backend (pandas,connect 4,digital photography)\n",
    "4. machine learning\n"
   ]
  },
  {
   "cell_type": "code",
   "execution_count": 1,
   "metadata": {},
   "outputs": [],
   "source": [
    "import numpy as np"
   ]
  },
  {
   "cell_type": "code",
   "execution_count": null,
   "metadata": {},
   "outputs": [
    {
     "name": "stdout",
     "output_type": "stream",
     "text": [
      "[[ 5 12 21 32 45]\n",
      " [10 18 35 48 72]]\n",
      "2\n",
      "(2, 5)\n",
      "int64\n",
      "8\n",
      "80\n",
      "80\n"
     ]
    }
   ],
   "source": [
    "# basic \n",
    "\n",
    "a = np.array([[1,2,3,4,5],[2,3,5,6,8]],dtype='int32')\n",
    "b = np.array([5,6,7,8,9])\n",
    "\n",
    "print(a*b)\n",
    "print(a.ndim)\n",
    "print(a.shape)\n",
    "print(a.dtype)      \n",
    "print(a.itemsize)   # 2 = int16 , 4 = int32 , 8 = int64\n",
    "\n",
    "print(a.size * a.itemsize)\n",
    "print(a.nbytes)                      # total size \n",
    "\n"
   ]
  },
  {
   "cell_type": "code",
   "execution_count": 44,
   "metadata": {},
   "outputs": [
    {
     "name": "stdout",
     "output_type": "stream",
     "text": [
      "13\n",
      "[ 7  7  7 12  7]\n",
      "[12 13]\n",
      "[ 7 12]\n",
      "[[7 7 7]\n",
      " [7 7 7]]\n",
      "[[ 7  7  7 12  7]\n",
      " [ 7  7  7 13  7]]\n",
      "[[ 7  7  7 12  7]\n",
      " [ 7  7  7 13  7]]\n",
      "[[12 23 34 12  7]\n",
      " [12 23 34 13  7]]\n"
     ]
    }
   ],
   "source": [
    "# accessing / changing specific elements,row,column,etc\n",
    "\n",
    "print(a[1,3])    # [row index  , column index ]\n",
    "print(a[0,:])     # specific row\n",
    "print(a[:,3])     # specific column \n",
    "print(a[0,1:-1:2])  # [ row , intial index : final index : step size (index 1 + 2 = index 3 )]\n",
    "print(a[:,:3])  \n",
    "\n",
    "a[1,3] =13        # insert at a fixed index\n",
    "print(a)\n",
    "\n",
    "a[:,4] = 7\n",
    "print(a)\n",
    "\n",
    "a[:,:3] = [12,23,34]\n",
    "print(a)"
   ]
  },
  {
   "cell_type": "code",
   "execution_count": 52,
   "metadata": {},
   "outputs": [
    {
     "name": "stdout",
     "output_type": "stream",
     "text": [
      "(3, 2, 5)\n",
      "23\n",
      "[[  4   5  23   5   6]\n",
      " [ 24 234  23  56   2]\n",
      " [  4   5  23   5   6]]\n"
     ]
    }
   ],
   "source": [
    "# 3D array         \n",
    "p = np.array([[[1,2,23,4,5],[4,5,23,5,6]],[[4,5,23,5,6],[24,234,23,56,2]],[[1,2,23,4,5],[4,5,23,5,6]]]) \n",
    "print(p.shape)      # [NO. of matrixs, each matrix row , each matrix column  ]\n",
    "\n",
    "print(p[0,1,2])\n",
    "print(p[:,1,:])"
   ]
  },
  {
   "cell_type": "code",
   "execution_count": null,
   "metadata": {},
   "outputs": [],
   "source": []
  }
 ],
 "metadata": {
  "kernelspec": {
   "display_name": "venv",
   "language": "python",
   "name": "python3"
  },
  "language_info": {
   "codemirror_mode": {
    "name": "ipython",
    "version": 3
   },
   "file_extension": ".py",
   "mimetype": "text/x-python",
   "name": "python",
   "nbconvert_exporter": "python",
   "pygments_lexer": "ipython3",
   "version": "3.13.0"
  }
 },
 "nbformat": 4,
 "nbformat_minor": 2
}
